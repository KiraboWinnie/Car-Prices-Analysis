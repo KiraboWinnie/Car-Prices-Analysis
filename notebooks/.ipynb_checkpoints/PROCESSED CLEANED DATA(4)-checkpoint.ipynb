{
 "cells": [
  {
   "cell_type": "code",
   "execution_count": 48,
   "id": "063cad63-ec7c-4c2b-8c28-6c506ec2ba88",
   "metadata": {},
   "outputs": [],
   "source": [
    "#import Libraries\n",
    "import pandas as pd\n",
    "import numpy as np\n",
    "import os\n",
    "import plotly .express as px"
   ]
  },
  {
   "cell_type": "markdown",
   "id": "87375f95-5be2-4d10-b71c-0a7b6df7c549",
   "metadata": {},
   "source": [
    "## DEFINE AND CREATE PATH"
   ]
  },
  {
   "cell_type": "code",
   "execution_count": 51,
   "id": "6a955b92-f612-462b-ab73-53d7d1db167b",
   "metadata": {},
   "outputs": [],
   "source": [
    "# Get working directory\n",
    "current_dir = os.getcwd()\n",
    "\n",
    "# Go one directory up to the root directory\n",
    "project_root_dir = os.path.dirname(current_dir)\n",
    "\n",
    "# Define paths to the data folder\n",
    "data_dir = os.path.join(project_root_dir, 'data')\n",
    "raw_dir = os.path.join(data_dir, 'raw')\n",
    "processed_dir = os.path.join(data_dir, 'processed')\n",
    "\n",
    "# Define paths to results folder\n",
    "results_dir = os.path.join(project_root_dir, 'results')\n",
    "\n",
    "# Define paths to docs folder\n",
    "docs_dir = os.path.join(project_root_dir, 'docs')\n",
    "\n",
    "# Create directories if they do not exist\n",
    "os.makedirs(raw_dir, exist_ok = True)\n",
    "os.makedirs(processed_dir, exist_ok = True)\n",
    "os.makedirs(results_dir, exist_ok = True)\n",
    "os.makedirs(docs_dir, exist_ok = True)"
   ]
  },
  {
   "cell_type": "markdown",
   "id": "5bc976c9-0e82-4f57-a346-bc14e3cf68f4",
   "metadata": {},
   "source": [
    "# READ IN DATA"
   ]
  },
  {
   "cell_type": "code",
   "execution_count": 54,
   "id": "05ce62c1-2e78-414c-88ce-b5e05e9d6f25",
   "metadata": {},
   "outputs": [
    {
     "data": {
      "text/html": [
       "<div>\n",
       "<style scoped>\n",
       "    .dataframe tbody tr th:only-of-type {\n",
       "        vertical-align: middle;\n",
       "    }\n",
       "\n",
       "    .dataframe tbody tr th {\n",
       "        vertical-align: top;\n",
       "    }\n",
       "\n",
       "    .dataframe thead th {\n",
       "        text-align: right;\n",
       "    }\n",
       "</style>\n",
       "<table border=\"1\" class=\"dataframe\">\n",
       "  <thead>\n",
       "    <tr style=\"text-align: right;\">\n",
       "      <th></th>\n",
       "      <th>age</th>\n",
       "      <th>workclass</th>\n",
       "      <th>fnlwgt</th>\n",
       "      <th>education_num</th>\n",
       "      <th>marital_status</th>\n",
       "      <th>relationship</th>\n",
       "      <th>race</th>\n",
       "      <th>sex</th>\n",
       "      <th>capital_gain</th>\n",
       "      <th>capital_loss</th>\n",
       "      <th>hours_per_week</th>\n",
       "      <th>income</th>\n",
       "      <th>education_level</th>\n",
       "      <th>occupation_grouped</th>\n",
       "      <th>native_region</th>\n",
       "      <th>age_group</th>\n",
       "    </tr>\n",
       "  </thead>\n",
       "  <tbody>\n",
       "    <tr>\n",
       "      <th>0</th>\n",
       "      <td>39</td>\n",
       "      <td>government</td>\n",
       "      <td>77516</td>\n",
       "      <td>13</td>\n",
       "      <td>single</td>\n",
       "      <td>single</td>\n",
       "      <td>white</td>\n",
       "      <td>male</td>\n",
       "      <td>2174</td>\n",
       "      <td>0</td>\n",
       "      <td>40</td>\n",
       "      <td>&lt;=50k</td>\n",
       "      <td>tertiary</td>\n",
       "      <td>white collar</td>\n",
       "      <td>north america</td>\n",
       "      <td>36-45</td>\n",
       "    </tr>\n",
       "    <tr>\n",
       "      <th>1</th>\n",
       "      <td>50</td>\n",
       "      <td>self-employed</td>\n",
       "      <td>83311</td>\n",
       "      <td>13</td>\n",
       "      <td>married</td>\n",
       "      <td>male spouse</td>\n",
       "      <td>white</td>\n",
       "      <td>male</td>\n",
       "      <td>0</td>\n",
       "      <td>0</td>\n",
       "      <td>13</td>\n",
       "      <td>&lt;=50k</td>\n",
       "      <td>tertiary</td>\n",
       "      <td>white collar</td>\n",
       "      <td>north america</td>\n",
       "      <td>46-60</td>\n",
       "    </tr>\n",
       "    <tr>\n",
       "      <th>2</th>\n",
       "      <td>38</td>\n",
       "      <td>private</td>\n",
       "      <td>215646</td>\n",
       "      <td>9</td>\n",
       "      <td>divorced or separated</td>\n",
       "      <td>single</td>\n",
       "      <td>white</td>\n",
       "      <td>male</td>\n",
       "      <td>0</td>\n",
       "      <td>0</td>\n",
       "      <td>40</td>\n",
       "      <td>&lt;=50k</td>\n",
       "      <td>high school graduate</td>\n",
       "      <td>blue collar</td>\n",
       "      <td>north america</td>\n",
       "      <td>36-45</td>\n",
       "    </tr>\n",
       "    <tr>\n",
       "      <th>3</th>\n",
       "      <td>53</td>\n",
       "      <td>private</td>\n",
       "      <td>234721</td>\n",
       "      <td>7</td>\n",
       "      <td>married</td>\n",
       "      <td>male spouse</td>\n",
       "      <td>black</td>\n",
       "      <td>male</td>\n",
       "      <td>0</td>\n",
       "      <td>0</td>\n",
       "      <td>40</td>\n",
       "      <td>&lt;=50k</td>\n",
       "      <td>secondary</td>\n",
       "      <td>blue collar</td>\n",
       "      <td>north america</td>\n",
       "      <td>46-60</td>\n",
       "    </tr>\n",
       "    <tr>\n",
       "      <th>4</th>\n",
       "      <td>28</td>\n",
       "      <td>private</td>\n",
       "      <td>338409</td>\n",
       "      <td>13</td>\n",
       "      <td>married</td>\n",
       "      <td>female spouse</td>\n",
       "      <td>black</td>\n",
       "      <td>female</td>\n",
       "      <td>0</td>\n",
       "      <td>0</td>\n",
       "      <td>40</td>\n",
       "      <td>&lt;=50k</td>\n",
       "      <td>tertiary</td>\n",
       "      <td>white collar</td>\n",
       "      <td>central america</td>\n",
       "      <td>26-35</td>\n",
       "    </tr>\n",
       "    <tr>\n",
       "      <th>5</th>\n",
       "      <td>37</td>\n",
       "      <td>private</td>\n",
       "      <td>284582</td>\n",
       "      <td>14</td>\n",
       "      <td>married</td>\n",
       "      <td>female spouse</td>\n",
       "      <td>white</td>\n",
       "      <td>female</td>\n",
       "      <td>0</td>\n",
       "      <td>0</td>\n",
       "      <td>40</td>\n",
       "      <td>&lt;=50k</td>\n",
       "      <td>tertiary</td>\n",
       "      <td>white collar</td>\n",
       "      <td>north america</td>\n",
       "      <td>36-45</td>\n",
       "    </tr>\n",
       "    <tr>\n",
       "      <th>6</th>\n",
       "      <td>49</td>\n",
       "      <td>private</td>\n",
       "      <td>160187</td>\n",
       "      <td>5</td>\n",
       "      <td>devorced or separated</td>\n",
       "      <td>single</td>\n",
       "      <td>black</td>\n",
       "      <td>female</td>\n",
       "      <td>0</td>\n",
       "      <td>0</td>\n",
       "      <td>16</td>\n",
       "      <td>&lt;=50k</td>\n",
       "      <td>secondary</td>\n",
       "      <td>service</td>\n",
       "      <td>central america</td>\n",
       "      <td>46-60</td>\n",
       "    </tr>\n",
       "    <tr>\n",
       "      <th>7</th>\n",
       "      <td>52</td>\n",
       "      <td>self-employed</td>\n",
       "      <td>209642</td>\n",
       "      <td>9</td>\n",
       "      <td>married</td>\n",
       "      <td>male spouse</td>\n",
       "      <td>white</td>\n",
       "      <td>male</td>\n",
       "      <td>0</td>\n",
       "      <td>0</td>\n",
       "      <td>45</td>\n",
       "      <td>&gt;50k</td>\n",
       "      <td>high school graduate</td>\n",
       "      <td>white collar</td>\n",
       "      <td>north america</td>\n",
       "      <td>46-60</td>\n",
       "    </tr>\n",
       "    <tr>\n",
       "      <th>8</th>\n",
       "      <td>31</td>\n",
       "      <td>private</td>\n",
       "      <td>45781</td>\n",
       "      <td>14</td>\n",
       "      <td>single</td>\n",
       "      <td>single</td>\n",
       "      <td>white</td>\n",
       "      <td>female</td>\n",
       "      <td>14084</td>\n",
       "      <td>0</td>\n",
       "      <td>50</td>\n",
       "      <td>&gt;50k</td>\n",
       "      <td>tertiary</td>\n",
       "      <td>white collar</td>\n",
       "      <td>north america</td>\n",
       "      <td>26-35</td>\n",
       "    </tr>\n",
       "    <tr>\n",
       "      <th>9</th>\n",
       "      <td>42</td>\n",
       "      <td>private</td>\n",
       "      <td>159449</td>\n",
       "      <td>13</td>\n",
       "      <td>married</td>\n",
       "      <td>male spouse</td>\n",
       "      <td>white</td>\n",
       "      <td>male</td>\n",
       "      <td>5178</td>\n",
       "      <td>0</td>\n",
       "      <td>40</td>\n",
       "      <td>&gt;50k</td>\n",
       "      <td>tertiary</td>\n",
       "      <td>white collar</td>\n",
       "      <td>north america</td>\n",
       "      <td>36-45</td>\n",
       "    </tr>\n",
       "  </tbody>\n",
       "</table>\n",
       "</div>"
      ],
      "text/plain": [
       "   age      workclass  fnlwgt  education_num         marital_status  \\\n",
       "0   39     government   77516             13                 single   \n",
       "1   50  self-employed   83311             13                married   \n",
       "2   38        private  215646              9  divorced or separated   \n",
       "3   53        private  234721              7                married   \n",
       "4   28        private  338409             13                married   \n",
       "5   37        private  284582             14                married   \n",
       "6   49        private  160187              5  devorced or separated   \n",
       "7   52  self-employed  209642              9                married   \n",
       "8   31        private   45781             14                 single   \n",
       "9   42        private  159449             13                married   \n",
       "\n",
       "    relationship   race     sex  capital_gain  capital_loss  hours_per_week  \\\n",
       "0         single  white    male          2174             0              40   \n",
       "1    male spouse  white    male             0             0              13   \n",
       "2         single  white    male             0             0              40   \n",
       "3    male spouse  black    male             0             0              40   \n",
       "4  female spouse  black  female             0             0              40   \n",
       "5  female spouse  white  female             0             0              40   \n",
       "6         single  black  female             0             0              16   \n",
       "7    male spouse  white    male             0             0              45   \n",
       "8         single  white  female         14084             0              50   \n",
       "9    male spouse  white    male          5178             0              40   \n",
       "\n",
       "  income       education_level occupation_grouped    native_region age_group  \n",
       "0  <=50k              tertiary       white collar    north america     36-45  \n",
       "1  <=50k              tertiary       white collar    north america     46-60  \n",
       "2  <=50k  high school graduate        blue collar    north america     36-45  \n",
       "3  <=50k             secondary        blue collar    north america     46-60  \n",
       "4  <=50k              tertiary       white collar  central america     26-35  \n",
       "5  <=50k              tertiary       white collar    north america     36-45  \n",
       "6  <=50k             secondary            service  central america     46-60  \n",
       "7   >50k  high school graduate       white collar    north america     46-60  \n",
       "8   >50k              tertiary       white collar    north america     26-35  \n",
       "9   >50k              tertiary       white collar    north america     36-45  "
      ]
     },
     "execution_count": 54,
     "metadata": {},
     "output_type": "execute_result"
    }
   ],
   "source": [
    "adult_data_filename = os.path.join(processed_dir,'adult_cleaned.csv')\n",
    "adult_df = pd.read_csv(adult_data_filename,na_values = '?',skipinitialspace = True)\n",
    "adult_df.head(10)"
   ]
  },
  {
   "cell_type": "markdown",
   "id": "1187f969-2282-4c29-b5e0-06887b5df0a9",
   "metadata": {},
   "source": [
    "# check the shape of the dataset and th edatatypes"
   ]
  },
  {
   "cell_type": "code",
   "execution_count": 57,
   "id": "ad59eb71-b4a8-49ca-9d1e-2e2a13711269",
   "metadata": {},
   "outputs": [
    {
     "data": {
      "text/plain": [
       "(32516, 16)"
      ]
     },
     "execution_count": 57,
     "metadata": {},
     "output_type": "execute_result"
    }
   ],
   "source": [
    "adult_df.shape"
   ]
  },
  {
   "cell_type": "code",
   "execution_count": 59,
   "id": "4cca41a4-e693-4e4c-be47-389ad68d18d4",
   "metadata": {},
   "outputs": [
    {
     "name": "stdout",
     "output_type": "stream",
     "text": [
      "<class 'pandas.core.frame.DataFrame'>\n",
      "RangeIndex: 32516 entries, 0 to 32515\n",
      "Data columns (total 16 columns):\n",
      " #   Column              Non-Null Count  Dtype \n",
      "---  ------              --------------  ----- \n",
      " 0   age                 32516 non-null  int64 \n",
      " 1   workclass           30680 non-null  object\n",
      " 2   fnlwgt              32516 non-null  int64 \n",
      " 3   education_num       32516 non-null  int64 \n",
      " 4   marital_status      32516 non-null  object\n",
      " 5   relationship        32516 non-null  object\n",
      " 6   race                32516 non-null  object\n",
      " 7   sex                 32516 non-null  object\n",
      " 8   capital_gain        32516 non-null  int64 \n",
      " 9   capital_loss        32516 non-null  int64 \n",
      " 10  hours_per_week      32516 non-null  int64 \n",
      " 11  income              32516 non-null  object\n",
      " 12  education_level     32516 non-null  object\n",
      " 13  occupation_grouped  30673 non-null  object\n",
      " 14  native_region       31935 non-null  object\n",
      " 15  age_group           32516 non-null  object\n",
      "dtypes: int64(6), object(10)\n",
      "memory usage: 4.0+ MB\n"
     ]
    }
   ],
   "source": [
    "adult_df.info()"
   ]
  },
  {
   "cell_type": "markdown",
   "id": "3c08bb90-9315-482f-90f3-6a0a92a4403c",
   "metadata": {},
   "source": [
    "# Summary Statistics"
   ]
  },
  {
   "cell_type": "code",
   "execution_count": 62,
   "id": "aace5ed2-f334-4d12-b5bf-4a6d59d3eca4",
   "metadata": {},
   "outputs": [
    {
     "data": {
      "text/html": [
       "<div>\n",
       "<style scoped>\n",
       "    .dataframe tbody tr th:only-of-type {\n",
       "        vertical-align: middle;\n",
       "    }\n",
       "\n",
       "    .dataframe tbody tr th {\n",
       "        vertical-align: top;\n",
       "    }\n",
       "\n",
       "    .dataframe thead th {\n",
       "        text-align: right;\n",
       "    }\n",
       "</style>\n",
       "<table border=\"1\" class=\"dataframe\">\n",
       "  <thead>\n",
       "    <tr style=\"text-align: right;\">\n",
       "      <th></th>\n",
       "      <th>age</th>\n",
       "      <th>fnlwgt</th>\n",
       "      <th>education_num</th>\n",
       "      <th>capital_gain</th>\n",
       "      <th>capital_loss</th>\n",
       "      <th>hours_per_week</th>\n",
       "    </tr>\n",
       "  </thead>\n",
       "  <tbody>\n",
       "    <tr>\n",
       "      <th>count</th>\n",
       "      <td>32516.000000</td>\n",
       "      <td>3.251600e+04</td>\n",
       "      <td>32516.000000</td>\n",
       "      <td>32516.000000</td>\n",
       "      <td>32516.000000</td>\n",
       "      <td>32516.000000</td>\n",
       "    </tr>\n",
       "    <tr>\n",
       "      <th>mean</th>\n",
       "      <td>38.589894</td>\n",
       "      <td>1.897969e+05</td>\n",
       "      <td>10.081714</td>\n",
       "      <td>1079.140239</td>\n",
       "      <td>87.424652</td>\n",
       "      <td>40.441075</td>\n",
       "    </tr>\n",
       "    <tr>\n",
       "      <th>std</th>\n",
       "      <td>13.639134</td>\n",
       "      <td>1.055749e+05</td>\n",
       "      <td>2.571947</td>\n",
       "      <td>7390.291963</td>\n",
       "      <td>403.225868</td>\n",
       "      <td>12.349640</td>\n",
       "    </tr>\n",
       "    <tr>\n",
       "      <th>min</th>\n",
       "      <td>17.000000</td>\n",
       "      <td>1.228500e+04</td>\n",
       "      <td>1.000000</td>\n",
       "      <td>0.000000</td>\n",
       "      <td>0.000000</td>\n",
       "      <td>1.000000</td>\n",
       "    </tr>\n",
       "    <tr>\n",
       "      <th>25%</th>\n",
       "      <td>28.000000</td>\n",
       "      <td>1.178330e+05</td>\n",
       "      <td>9.000000</td>\n",
       "      <td>0.000000</td>\n",
       "      <td>0.000000</td>\n",
       "      <td>40.000000</td>\n",
       "    </tr>\n",
       "    <tr>\n",
       "      <th>50%</th>\n",
       "      <td>37.000000</td>\n",
       "      <td>1.783630e+05</td>\n",
       "      <td>10.000000</td>\n",
       "      <td>0.000000</td>\n",
       "      <td>0.000000</td>\n",
       "      <td>40.000000</td>\n",
       "    </tr>\n",
       "    <tr>\n",
       "      <th>75%</th>\n",
       "      <td>48.000000</td>\n",
       "      <td>2.370545e+05</td>\n",
       "      <td>12.000000</td>\n",
       "      <td>0.000000</td>\n",
       "      <td>0.000000</td>\n",
       "      <td>45.000000</td>\n",
       "    </tr>\n",
       "    <tr>\n",
       "      <th>max</th>\n",
       "      <td>90.000000</td>\n",
       "      <td>1.484705e+06</td>\n",
       "      <td>16.000000</td>\n",
       "      <td>99999.000000</td>\n",
       "      <td>4356.000000</td>\n",
       "      <td>99.000000</td>\n",
       "    </tr>\n",
       "  </tbody>\n",
       "</table>\n",
       "</div>"
      ],
      "text/plain": [
       "                age        fnlwgt  education_num  capital_gain  capital_loss  \\\n",
       "count  32516.000000  3.251600e+04   32516.000000  32516.000000  32516.000000   \n",
       "mean      38.589894  1.897969e+05      10.081714   1079.140239     87.424652   \n",
       "std       13.639134  1.055749e+05       2.571947   7390.291963    403.225868   \n",
       "min       17.000000  1.228500e+04       1.000000      0.000000      0.000000   \n",
       "25%       28.000000  1.178330e+05       9.000000      0.000000      0.000000   \n",
       "50%       37.000000  1.783630e+05      10.000000      0.000000      0.000000   \n",
       "75%       48.000000  2.370545e+05      12.000000      0.000000      0.000000   \n",
       "max       90.000000  1.484705e+06      16.000000  99999.000000   4356.000000   \n",
       "\n",
       "       hours_per_week  \n",
       "count    32516.000000  \n",
       "mean        40.441075  \n",
       "std         12.349640  \n",
       "min          1.000000  \n",
       "25%         40.000000  \n",
       "50%         40.000000  \n",
       "75%         45.000000  \n",
       "max         99.000000  "
      ]
     },
     "execution_count": 62,
     "metadata": {},
     "output_type": "execute_result"
    }
   ],
   "source": [
    "adult_df.describe()"
   ]
  },
  {
   "cell_type": "code",
   "execution_count": 64,
   "id": "38caa74f-9636-45e7-9c73-128aa51731a3",
   "metadata": {},
   "outputs": [
    {
     "data": {
      "text/html": [
       "<div>\n",
       "<style scoped>\n",
       "    .dataframe tbody tr th:only-of-type {\n",
       "        vertical-align: middle;\n",
       "    }\n",
       "\n",
       "    .dataframe tbody tr th {\n",
       "        vertical-align: top;\n",
       "    }\n",
       "\n",
       "    .dataframe thead th {\n",
       "        text-align: right;\n",
       "    }\n",
       "</style>\n",
       "<table border=\"1\" class=\"dataframe\">\n",
       "  <thead>\n",
       "    <tr style=\"text-align: right;\">\n",
       "      <th></th>\n",
       "      <th>workclass</th>\n",
       "      <th>marital_status</th>\n",
       "      <th>relationship</th>\n",
       "      <th>race</th>\n",
       "      <th>sex</th>\n",
       "      <th>income</th>\n",
       "      <th>education_level</th>\n",
       "      <th>occupation_grouped</th>\n",
       "      <th>native_region</th>\n",
       "      <th>age_group</th>\n",
       "    </tr>\n",
       "  </thead>\n",
       "  <tbody>\n",
       "    <tr>\n",
       "      <th>count</th>\n",
       "      <td>30680</td>\n",
       "      <td>32516</td>\n",
       "      <td>32516</td>\n",
       "      <td>32516</td>\n",
       "      <td>32516</td>\n",
       "      <td>32516</td>\n",
       "      <td>32516</td>\n",
       "      <td>30673</td>\n",
       "      <td>31935</td>\n",
       "      <td>32516</td>\n",
       "    </tr>\n",
       "    <tr>\n",
       "      <th>unique</th>\n",
       "      <td>7</td>\n",
       "      <td>5</td>\n",
       "      <td>5</td>\n",
       "      <td>5</td>\n",
       "      <td>2</td>\n",
       "      <td>2</td>\n",
       "      <td>7</td>\n",
       "      <td>5</td>\n",
       "      <td>5</td>\n",
       "      <td>7</td>\n",
       "    </tr>\n",
       "    <tr>\n",
       "      <th>top</th>\n",
       "      <td>private</td>\n",
       "      <td>married</td>\n",
       "      <td>male spouse</td>\n",
       "      <td>white</td>\n",
       "      <td>male</td>\n",
       "      <td>&lt;=50k</td>\n",
       "      <td>high school graduate</td>\n",
       "      <td>white collar</td>\n",
       "      <td>north america</td>\n",
       "      <td>26-35</td>\n",
       "    </tr>\n",
       "    <tr>\n",
       "      <th>freq</th>\n",
       "      <td>22652</td>\n",
       "      <td>14985</td>\n",
       "      <td>13179</td>\n",
       "      <td>27774</td>\n",
       "      <td>21759</td>\n",
       "      <td>24679</td>\n",
       "      <td>10484</td>\n",
       "      <td>12885</td>\n",
       "      <td>30021</td>\n",
       "      <td>8502</td>\n",
       "    </tr>\n",
       "  </tbody>\n",
       "</table>\n",
       "</div>"
      ],
      "text/plain": [
       "       workclass marital_status relationship   race    sex income  \\\n",
       "count      30680          32516        32516  32516  32516  32516   \n",
       "unique         7              5            5      5      2      2   \n",
       "top      private        married  male spouse  white   male  <=50k   \n",
       "freq       22652          14985        13179  27774  21759  24679   \n",
       "\n",
       "             education_level occupation_grouped  native_region age_group  \n",
       "count                  32516              30673          31935     32516  \n",
       "unique                     7                  5              5         7  \n",
       "top     high school graduate       white collar  north america     26-35  \n",
       "freq                   10484              12885          30021      8502  "
      ]
     },
     "execution_count": 64,
     "metadata": {},
     "output_type": "execute_result"
    }
   ],
   "source": [
    "adult_df.describe(include='object')"
   ]
  },
  {
   "cell_type": "code",
   "execution_count": 66,
   "id": "f507f626-5d31-42dd-b864-2c6d7aa57ce6",
   "metadata": {},
   "outputs": [
    {
     "data": {
      "text/plain": [
       "workclass\n",
       "private          0.738331\n",
       "self-employed    0.119166\n",
       "local-gov        0.068220\n",
       "government       0.042308\n",
       "federal-gov      0.031291\n",
       "voluntary        0.000456\n",
       "unemployed       0.000228\n",
       "Name: proportion, dtype: float64"
      ]
     },
     "execution_count": 66,
     "metadata": {},
     "output_type": "execute_result"
    }
   ],
   "source": [
    "adult_df['workclass'].value_counts(normalize=True)"
   ]
  },
  {
   "cell_type": "code",
   "execution_count": 68,
   "id": "ba5917e1-2a1e-4e5c-a6c9-4cde22aeaeba",
   "metadata": {},
   "outputs": [
    {
     "data": {
      "text/plain": [
       "marital_status\n",
       "married                  0.460850\n",
       "single                   0.327716\n",
       "divorced or separated    0.168040\n",
       "widowed                  0.030539\n",
       "devorced or separated    0.012855\n",
       "Name: proportion, dtype: float64"
      ]
     },
     "execution_count": 68,
     "metadata": {},
     "output_type": "execute_result"
    }
   ],
   "source": [
    "adult_df['marital_status'].value_counts(normalize=True)"
   ]
  },
  {
   "cell_type": "code",
   "execution_count": 70,
   "id": "0517a381-517e-4db8-adcf-25df99a07c7a",
   "metadata": {},
   "outputs": [
    {
     "data": {
      "text/plain": [
       "relationship\n",
       "male spouse          0.405308\n",
       "single               0.360715\n",
       "child                0.155585\n",
       "female spouse        0.048222\n",
       "extended relative    0.030170\n",
       "Name: proportion, dtype: float64"
      ]
     },
     "execution_count": 70,
     "metadata": {},
     "output_type": "execute_result"
    }
   ],
   "source": [
    "adult_df['relationship'].value_counts(normalize=True)"
   ]
  },
  {
   "cell_type": "code",
   "execution_count": 72,
   "id": "825dcd40-7b5a-4c0c-930f-28541a8cd0fe",
   "metadata": {},
   "outputs": [
    {
     "data": {
      "text/plain": [
       "race\n",
       "white                 0.854164\n",
       "black                 0.096014\n",
       "asian-pac-islander    0.031923\n",
       "amer-indian-eskimo    0.009565\n",
       "other                 0.008334\n",
       "Name: proportion, dtype: float64"
      ]
     },
     "execution_count": 72,
     "metadata": {},
     "output_type": "execute_result"
    }
   ],
   "source": [
    "adult_df['race'].value_counts(normalize=True)"
   ]
  },
  {
   "cell_type": "markdown",
   "id": "726ccc5c-a708-4ebb-840b-e52caea2b2ad",
   "metadata": {},
   "source": [
    "# Income Distribution"
   ]
  },
  {
   "cell_type": "code",
   "execution_count": 79,
   "id": "4b628af6-9a67-49a8-96fe-f2ce33e1813d",
   "metadata": {},
   "outputs": [
    {
     "data": {
      "text/html": [
       "<div>\n",
       "<style scoped>\n",
       "    .dataframe tbody tr th:only-of-type {\n",
       "        vertical-align: middle;\n",
       "    }\n",
       "\n",
       "    .dataframe tbody tr th {\n",
       "        vertical-align: top;\n",
       "    }\n",
       "\n",
       "    .dataframe thead th {\n",
       "        text-align: right;\n",
       "    }\n",
       "</style>\n",
       "<table border=\"1\" class=\"dataframe\">\n",
       "  <thead>\n",
       "    <tr style=\"text-align: right;\">\n",
       "      <th></th>\n",
       "      <th>income</th>\n",
       "      <th>total</th>\n",
       "    </tr>\n",
       "  </thead>\n",
       "  <tbody>\n",
       "    <tr>\n",
       "      <th>0</th>\n",
       "      <td>&lt;=50k</td>\n",
       "      <td>24679</td>\n",
       "    </tr>\n",
       "    <tr>\n",
       "      <th>1</th>\n",
       "      <td>&gt;50k</td>\n",
       "      <td>7837</td>\n",
       "    </tr>\n",
       "  </tbody>\n",
       "</table>\n",
       "</div>"
      ],
      "text/plain": [
       "  income  total\n",
       "0  <=50k  24679\n",
       "1   >50k   7837"
      ]
     },
     "execution_count": 79,
     "metadata": {},
     "output_type": "execute_result"
    }
   ],
   "source": [
    "adult_df_income = adult_df.groupby('income').size().reset_index(name = 'total')\n",
    "adult_df_income"
   ]
  },
  {
   "cell_type": "code",
   "execution_count": 81,
   "id": "0047667a-7566-48a0-b80c-ced132fb54c4",
   "metadata": {},
   "outputs": [
    {
     "data": {
      "application/vnd.plotly.v1+json": {
       "config": {
        "plotlyServerURL": "https://plot.ly"
       },
       "data": [
        {
         "domain": {
          "x": [
           0,
           1
          ],
          "y": [
           0,
           1
          ]
         },
         "hovertemplate": "income=%{label}<br>total=%{value}<extra></extra>",
         "labels": [
          "<=50k",
          ">50k"
         ],
         "legendgroup": "",
         "name": "",
         "showlegend": true,
         "type": "pie",
         "values": {
          "_inputArray": {
           "0": 24679,
           "1": 7837,
           "bdata": "Z2CdHg==",
           "dtype": "i2",
           "shape": "2"
          },
          "bdata": "Z2CdHg==",
          "dtype": "i2"
         }
        }
       ],
       "layout": {
        "autosize": true,
        "legend": {
         "tracegroupgap": 0
        },
        "paper_bgcolor": "rgb(0, 0, 0)",
        "plot_bgcolor": "rgb(0, 0, 0)",
        "template": {
         "data": {
          "pie": [
           {
            "automargin": true,
            "type": "pie"
           }
          ],
          "scatter": [
           {
            "line": {
             "width": 3
            },
            "marker": {
             "size": 9
            },
            "type": "scatter"
           }
          ],
          "scatter3d": [
           {
            "line": {
             "width": 3
            },
            "marker": {
             "size": 9
            },
            "type": "scatter3d"
           }
          ],
          "scattergeo": [
           {
            "line": {
             "width": 3
            },
            "marker": {
             "size": 9
            },
            "type": "scattergeo"
           }
          ],
          "scattergl": [
           {
            "line": {
             "width": 3
            },
            "marker": {
             "size": 9
            },
            "type": "scattergl"
           }
          ],
          "scatterpolar": [
           {
            "line": {
             "width": 3
            },
            "marker": {
             "size": 9
            },
            "type": "scatterpolar"
           }
          ],
          "scatterpolargl": [
           {
            "line": {
             "width": 3
            },
            "marker": {
             "size": 9
            },
            "type": "scatterpolargl"
           }
          ],
          "scatterternary": [
           {
            "line": {
             "width": 3
            },
            "marker": {
             "size": 9
            },
            "type": "scatterternary"
           }
          ],
          "table": [
           {
            "cells": {
             "height": 30
            },
            "header": {
             "height": 36
            },
            "type": "table"
           }
          ]
         },
         "layout": {
          "font": {
           "size": 18
          },
          "xaxis": {
           "title": {
            "standoff": 15
           }
          },
          "yaxis": {
           "title": {
            "standoff": 15
           }
          }
         }
        },
        "title": {
         "text": "Overall Distribution"
        }
       }
      }
     },
     "metadata": {},
     "output_type": "display_data"
    }
   ],
   "source": [
    "import os\n",
    "import plotly.express as px\n",
    "\n",
    "# Pie chart\n",
    "fig = px.pie(adult_df_income, names='income', values='total', title='Overall Distribution')\n",
    "fig.update_layout(template='presentation', paper_bgcolor='rgb(0, 0, 0)', plot_bgcolor='rgb(0, 0, 0)')\n",
    "fig.show()\n",
    "\n",
    "# Save in multiple formats\n",
    "fig.write_image(os.path.join(results_dir, 'income_distribution_pie_chart.jpg'))\n",
    "fig.write_image(os.path.join(results_dir, 'income_distribution_pie_chart.png'))\n",
    "fig.write_html(os.path.join(results_dir, 'income_distribution_pie_chart.html'))\n"
   ]
  },
  {
   "cell_type": "code",
   "execution_count": null,
   "id": "1f821c57-7ac8-4ade-b682-4fc606ebc542",
   "metadata": {},
   "outputs": [],
   "source": []
  },
  {
   "cell_type": "code",
   "execution_count": null,
   "id": "cdddcf63-e758-4cbb-b58f-35504484302c",
   "metadata": {},
   "outputs": [],
   "source": []
  },
  {
   "cell_type": "markdown",
   "id": "b26941c7-252f-486c-9471-332933e6e21a",
   "metadata": {},
   "source": [
    "# Income by Age Group"
   ]
  },
  {
   "cell_type": "code",
   "execution_count": 84,
   "id": "ca5cf53b-0ecf-4fae-9c5e-3ddf482e641d",
   "metadata": {},
   "outputs": [
    {
     "data": {
      "text/html": [
       "<div>\n",
       "<style scoped>\n",
       "    .dataframe tbody tr th:only-of-type {\n",
       "        vertical-align: middle;\n",
       "    }\n",
       "\n",
       "    .dataframe tbody tr th {\n",
       "        vertical-align: top;\n",
       "    }\n",
       "\n",
       "    .dataframe thead th {\n",
       "        text-align: right;\n",
       "    }\n",
       "</style>\n",
       "<table border=\"1\" class=\"dataframe\">\n",
       "  <thead>\n",
       "    <tr style=\"text-align: right;\">\n",
       "      <th></th>\n",
       "      <th>age_group</th>\n",
       "      <th>income</th>\n",
       "      <th>total_by_age</th>\n",
       "    </tr>\n",
       "  </thead>\n",
       "  <tbody>\n",
       "    <tr>\n",
       "      <th>0</th>\n",
       "      <td>18-25</td>\n",
       "      <td>&lt;=50k</td>\n",
       "      <td>5334</td>\n",
       "    </tr>\n",
       "    <tr>\n",
       "      <th>1</th>\n",
       "      <td>18-25</td>\n",
       "      <td>&gt;50k</td>\n",
       "      <td>114</td>\n",
       "    </tr>\n",
       "    <tr>\n",
       "      <th>2</th>\n",
       "      <td>26-35</td>\n",
       "      <td>&lt;=50k</td>\n",
       "      <td>6911</td>\n",
       "    </tr>\n",
       "    <tr>\n",
       "      <th>3</th>\n",
       "      <td>26-35</td>\n",
       "      <td>&gt;50k</td>\n",
       "      <td>1591</td>\n",
       "    </tr>\n",
       "    <tr>\n",
       "      <th>4</th>\n",
       "      <td>36-45</td>\n",
       "      <td>&lt;=50k</td>\n",
       "      <td>5230</td>\n",
       "    </tr>\n",
       "    <tr>\n",
       "      <th>5</th>\n",
       "      <td>36-45</td>\n",
       "      <td>&gt;50k</td>\n",
       "      <td>2771</td>\n",
       "    </tr>\n",
       "    <tr>\n",
       "      <th>6</th>\n",
       "      <td>46-60</td>\n",
       "      <td>&lt;=50k</td>\n",
       "      <td>4479</td>\n",
       "    </tr>\n",
       "    <tr>\n",
       "      <th>7</th>\n",
       "      <td>46-60</td>\n",
       "      <td>&gt;50k</td>\n",
       "      <td>2810</td>\n",
       "    </tr>\n",
       "    <tr>\n",
       "      <th>8</th>\n",
       "      <td>61-75</td>\n",
       "      <td>&lt;=50k</td>\n",
       "      <td>1580</td>\n",
       "    </tr>\n",
       "    <tr>\n",
       "      <th>9</th>\n",
       "      <td>61-75</td>\n",
       "      <td>&gt;50k</td>\n",
       "      <td>511</td>\n",
       "    </tr>\n",
       "    <tr>\n",
       "      <th>10</th>\n",
       "      <td>76+</td>\n",
       "      <td>&lt;=50k</td>\n",
       "      <td>200</td>\n",
       "    </tr>\n",
       "    <tr>\n",
       "      <th>11</th>\n",
       "      <td>76+</td>\n",
       "      <td>&gt;50k</td>\n",
       "      <td>40</td>\n",
       "    </tr>\n",
       "    <tr>\n",
       "      <th>12</th>\n",
       "      <td>&lt;18</td>\n",
       "      <td>&lt;=50k</td>\n",
       "      <td>945</td>\n",
       "    </tr>\n",
       "  </tbody>\n",
       "</table>\n",
       "</div>"
      ],
      "text/plain": [
       "   age_group income  total_by_age\n",
       "0      18-25  <=50k          5334\n",
       "1      18-25   >50k           114\n",
       "2      26-35  <=50k          6911\n",
       "3      26-35   >50k          1591\n",
       "4      36-45  <=50k          5230\n",
       "5      36-45   >50k          2771\n",
       "6      46-60  <=50k          4479\n",
       "7      46-60   >50k          2810\n",
       "8      61-75  <=50k          1580\n",
       "9      61-75   >50k           511\n",
       "10       76+  <=50k           200\n",
       "11       76+   >50k            40\n",
       "12       <18  <=50k           945"
      ]
     },
     "execution_count": 84,
     "metadata": {},
     "output_type": "execute_result"
    }
   ],
   "source": [
    "adult_df_income_age = adult_df.groupby(['age_group', 'income']).size().reset_index(name='total_by_age').sort_values(['age_group','income'],ascending = True)\n",
    "adult_df_income_age"
   ]
  },
  {
   "cell_type": "code",
   "execution_count": 86,
   "id": "fef6157e-2e69-4ad9-9aa2-fd3622df3735",
   "metadata": {},
   "outputs": [
    {
     "data": {
      "text/plain": [
       "age_group\n",
       "18-25    2\n",
       "26-35    2\n",
       "36-45    2\n",
       "46-60    2\n",
       "61-75    2\n",
       "76+      2\n",
       "<18      1\n",
       "dtype: int64"
      ]
     },
     "execution_count": 86,
     "metadata": {},
     "output_type": "execute_result"
    }
   ],
   "source": [
    "total_per_group = adult_df_income_age.groupby('age_group').size()\n",
    "total_per_group"
   ]
  },
  {
   "cell_type": "code",
   "execution_count": 88,
   "id": "ecad273a-8654-43e6-b839-64252f358834",
   "metadata": {},
   "outputs": [
    {
     "data": {
      "text/plain": [
       "0     5448\n",
       "1     5448\n",
       "2     8502\n",
       "3     8502\n",
       "4     8001\n",
       "5     8001\n",
       "6     7289\n",
       "7     7289\n",
       "8     2091\n",
       "9     2091\n",
       "10     240\n",
       "11     240\n",
       "12     945\n",
       "Name: total_by_age, dtype: int64"
      ]
     },
     "execution_count": 88,
     "metadata": {},
     "output_type": "execute_result"
    }
   ],
   "source": [
    "total_per_group = adult_df_income_age.groupby('age_group')['total_by_age'].transform('sum')\n",
    "total_per_group"
   ]
  },
  {
   "cell_type": "code",
   "execution_count": 90,
   "id": "56e479aa-3f7f-4ebd-bb6b-54f59572f440",
   "metadata": {},
   "outputs": [
    {
     "data": {
      "text/html": [
       "<div>\n",
       "<style scoped>\n",
       "    .dataframe tbody tr th:only-of-type {\n",
       "        vertical-align: middle;\n",
       "    }\n",
       "\n",
       "    .dataframe tbody tr th {\n",
       "        vertical-align: top;\n",
       "    }\n",
       "\n",
       "    .dataframe thead th {\n",
       "        text-align: right;\n",
       "    }\n",
       "</style>\n",
       "<table border=\"1\" class=\"dataframe\">\n",
       "  <thead>\n",
       "    <tr style=\"text-align: right;\">\n",
       "      <th></th>\n",
       "      <th>age_group</th>\n",
       "      <th>income</th>\n",
       "      <th>total_by_age</th>\n",
       "      <th>percentage</th>\n",
       "    </tr>\n",
       "  </thead>\n",
       "  <tbody>\n",
       "    <tr>\n",
       "      <th>0</th>\n",
       "      <td>18-25</td>\n",
       "      <td>&lt;=50k</td>\n",
       "      <td>5334</td>\n",
       "      <td>97.907489</td>\n",
       "    </tr>\n",
       "    <tr>\n",
       "      <th>1</th>\n",
       "      <td>18-25</td>\n",
       "      <td>&gt;50k</td>\n",
       "      <td>114</td>\n",
       "      <td>2.092511</td>\n",
       "    </tr>\n",
       "    <tr>\n",
       "      <th>2</th>\n",
       "      <td>26-35</td>\n",
       "      <td>&lt;=50k</td>\n",
       "      <td>6911</td>\n",
       "      <td>81.286756</td>\n",
       "    </tr>\n",
       "    <tr>\n",
       "      <th>3</th>\n",
       "      <td>26-35</td>\n",
       "      <td>&gt;50k</td>\n",
       "      <td>1591</td>\n",
       "      <td>18.713244</td>\n",
       "    </tr>\n",
       "    <tr>\n",
       "      <th>4</th>\n",
       "      <td>36-45</td>\n",
       "      <td>&lt;=50k</td>\n",
       "      <td>5230</td>\n",
       "      <td>65.366829</td>\n",
       "    </tr>\n",
       "    <tr>\n",
       "      <th>5</th>\n",
       "      <td>36-45</td>\n",
       "      <td>&gt;50k</td>\n",
       "      <td>2771</td>\n",
       "      <td>34.633171</td>\n",
       "    </tr>\n",
       "    <tr>\n",
       "      <th>6</th>\n",
       "      <td>46-60</td>\n",
       "      <td>&lt;=50k</td>\n",
       "      <td>4479</td>\n",
       "      <td>61.448758</td>\n",
       "    </tr>\n",
       "    <tr>\n",
       "      <th>7</th>\n",
       "      <td>46-60</td>\n",
       "      <td>&gt;50k</td>\n",
       "      <td>2810</td>\n",
       "      <td>38.551242</td>\n",
       "    </tr>\n",
       "    <tr>\n",
       "      <th>8</th>\n",
       "      <td>61-75</td>\n",
       "      <td>&lt;=50k</td>\n",
       "      <td>1580</td>\n",
       "      <td>75.561932</td>\n",
       "    </tr>\n",
       "    <tr>\n",
       "      <th>9</th>\n",
       "      <td>61-75</td>\n",
       "      <td>&gt;50k</td>\n",
       "      <td>511</td>\n",
       "      <td>24.438068</td>\n",
       "    </tr>\n",
       "    <tr>\n",
       "      <th>10</th>\n",
       "      <td>76+</td>\n",
       "      <td>&lt;=50k</td>\n",
       "      <td>200</td>\n",
       "      <td>83.333333</td>\n",
       "    </tr>\n",
       "    <tr>\n",
       "      <th>11</th>\n",
       "      <td>76+</td>\n",
       "      <td>&gt;50k</td>\n",
       "      <td>40</td>\n",
       "      <td>16.666667</td>\n",
       "    </tr>\n",
       "    <tr>\n",
       "      <th>12</th>\n",
       "      <td>&lt;18</td>\n",
       "      <td>&lt;=50k</td>\n",
       "      <td>945</td>\n",
       "      <td>100.000000</td>\n",
       "    </tr>\n",
       "  </tbody>\n",
       "</table>\n",
       "</div>"
      ],
      "text/plain": [
       "   age_group income  total_by_age  percentage\n",
       "0      18-25  <=50k          5334   97.907489\n",
       "1      18-25   >50k           114    2.092511\n",
       "2      26-35  <=50k          6911   81.286756\n",
       "3      26-35   >50k          1591   18.713244\n",
       "4      36-45  <=50k          5230   65.366829\n",
       "5      36-45   >50k          2771   34.633171\n",
       "6      46-60  <=50k          4479   61.448758\n",
       "7      46-60   >50k          2810   38.551242\n",
       "8      61-75  <=50k          1580   75.561932\n",
       "9      61-75   >50k           511   24.438068\n",
       "10       76+  <=50k           200   83.333333\n",
       "11       76+   >50k            40   16.666667\n",
       "12       <18  <=50k           945  100.000000"
      ]
     },
     "execution_count": 90,
     "metadata": {},
     "output_type": "execute_result"
    }
   ],
   "source": [
    "total_per_group = adult_df_income_age.groupby('age_group')['total_by_age'].transform('sum')\n",
    "adult_df_income_age['percentage'] = (adult_df_income_age['total_by_age']/total_per_group) * 100\n",
    "adult_df_income_age"
   ]
  },
  {
   "cell_type": "code",
   "execution_count": 92,
   "id": "2ae102e1-8889-4af5-a73e-fc5db4adddfd",
   "metadata": {},
   "outputs": [
    {
     "data": {
      "application/vnd.plotly.v1+json": {
       "config": {
        "plotlyServerURL": "https://plot.ly"
       },
       "data": [
        {
         "alignmentgroup": "True",
         "hovertemplate": "income=<=50k<br>age_group=%{x}<br>percentage=%{text}<extra></extra>",
         "legendgroup": "<=50k",
         "marker": {
          "color": "rgb(103,0,31)",
          "pattern": {
           "shape": ""
          }
         },
         "name": "<=50k",
         "offsetgroup": "<=50k",
         "orientation": "v",
         "showlegend": true,
         "text": {
          "_inputArray": {
           "0": 97.90748898678414,
           "1": 81.28675605739826,
           "2": 65.36682914635671,
           "3": 61.44875840307312,
           "4": 75.56193208990913,
           "5": 83.33333333333334,
           "6": 100,
           "bdata": "9e2vTBR6WEAmHRQ2WlJUQJa09CB6V1BAi4BU6nC5TkDkLgOy9uNSQFZVVVVV1VRAAAAAAAAAWUA=",
           "dtype": "f8",
           "shape": "7"
          },
          "bdata": "9e2vTBR6WEAmHRQ2WlJUQJa09CB6V1BAi4BU6nC5TkDkLgOy9uNSQFZVVVVV1VRAAAAAAAAAWUA=",
          "dtype": "f8"
         },
         "textposition": "outside",
         "texttemplate": "%{text:.2f}%",
         "type": "bar",
         "x": [
          "18-25",
          "26-35",
          "36-45",
          "46-60",
          "61-75",
          "76+",
          "<18"
         ],
         "xaxis": "x",
         "y": {
          "_inputArray": {
           "0": 97.90748898678414,
           "1": 81.28675605739826,
           "2": 65.36682914635671,
           "3": 61.44875840307312,
           "4": 75.56193208990913,
           "5": 83.33333333333334,
           "6": 100,
           "bdata": "9e2vTBR6WEAmHRQ2WlJUQJa09CB6V1BAi4BU6nC5TkDkLgOy9uNSQFZVVVVV1VRAAAAAAAAAWUA=",
           "dtype": "f8",
           "shape": "7"
          },
          "bdata": "9e2vTBR6WEAmHRQ2WlJUQJa09CB6V1BAi4BU6nC5TkDkLgOy9uNSQFZVVVVV1VRAAAAAAAAAWUA=",
          "dtype": "f8"
         },
         "yaxis": "y"
        },
        {
         "alignmentgroup": "True",
         "hovertemplate": "income=>50k<br>age_group=%{x}<br>percentage=%{text}<extra></extra>",
         "legendgroup": ">50k",
         "marker": {
          "color": "rgb(178,24,43)",
          "pattern": {
           "shape": ""
          }
         },
         "name": ">50k",
         "offsetgroup": ">50k",
         "orientation": "v",
         "showlegend": true,
         "text": {
          "_inputArray": {
           "0": 2.092511013215859,
           "1": 18.71324394260174,
           "2": 34.6331708536433,
           "3": 38.55124159692688,
           "4": 24.438067910090865,
           "5": 16.666666666666664,
           "bdata": "aUECana9AEBpi68nl7YyQNWWFr4LUUFAdX+rFY9GQ0BwRPM3JXA4QKqqqqqqqjBA",
           "dtype": "f8",
           "shape": "6"
          },
          "bdata": "aUECana9AEBpi68nl7YyQNWWFr4LUUFAdX+rFY9GQ0BwRPM3JXA4QKqqqqqqqjBA",
          "dtype": "f8"
         },
         "textposition": "outside",
         "texttemplate": "%{text:.2f}%",
         "type": "bar",
         "x": [
          "18-25",
          "26-35",
          "36-45",
          "46-60",
          "61-75",
          "76+"
         ],
         "xaxis": "x",
         "y": {
          "_inputArray": {
           "0": 2.092511013215859,
           "1": 18.71324394260174,
           "2": 34.6331708536433,
           "3": 38.55124159692688,
           "4": 24.438067910090865,
           "5": 16.666666666666664,
           "bdata": "aUECana9AEBpi68nl7YyQNWWFr4LUUFAdX+rFY9GQ0BwRPM3JXA4QKqqqqqqqjBA",
           "dtype": "f8",
           "shape": "6"
          },
          "bdata": "aUECana9AEBpi68nl7YyQNWWFr4LUUFAdX+rFY9GQ0BwRPM3JXA4QKqqqqqqqjBA",
          "dtype": "f8"
         },
         "yaxis": "y"
        }
       ],
       "layout": {
        "autosize": true,
        "barmode": "group",
        "legend": {
         "title": {
          "text": "income"
         },
         "tracegroupgap": 0
        },
        "paper_bgcolor": "rgb(0, 0, 0)",
        "plot_bgcolor": "rgb(0, 0, 0)",
        "template": {
         "data": {
          "pie": [
           {
            "automargin": true,
            "type": "pie"
           }
          ],
          "scatter": [
           {
            "line": {
             "width": 3
            },
            "marker": {
             "size": 9
            },
            "type": "scatter"
           }
          ],
          "scatter3d": [
           {
            "line": {
             "width": 3
            },
            "marker": {
             "size": 9
            },
            "type": "scatter3d"
           }
          ],
          "scattergeo": [
           {
            "line": {
             "width": 3
            },
            "marker": {
             "size": 9
            },
            "type": "scattergeo"
           }
          ],
          "scattergl": [
           {
            "line": {
             "width": 3
            },
            "marker": {
             "size": 9
            },
            "type": "scattergl"
           }
          ],
          "scatterpolar": [
           {
            "line": {
             "width": 3
            },
            "marker": {
             "size": 9
            },
            "type": "scatterpolar"
           }
          ],
          "scatterpolargl": [
           {
            "line": {
             "width": 3
            },
            "marker": {
             "size": 9
            },
            "type": "scatterpolargl"
           }
          ],
          "scatterternary": [
           {
            "line": {
             "width": 3
            },
            "marker": {
             "size": 9
            },
            "type": "scatterternary"
           }
          ],
          "table": [
           {
            "cells": {
             "height": 30
            },
            "header": {
             "height": 36
            },
            "type": "table"
           }
          ]
         },
         "layout": {
          "font": {
           "size": 18
          },
          "xaxis": {
           "title": {
            "standoff": 15
           }
          },
          "yaxis": {
           "title": {
            "standoff": 15
           }
          }
         }
        },
        "title": {
         "text": "Income Distribution by age Group(%)"
        },
        "xaxis": {
         "anchor": "y",
         "autorange": true,
         "domain": [
          0,
          1
         ],
         "range": [
          -0.5,
          6.5
         ],
         "title": {
          "text": "age_group"
         },
         "type": "category"
        },
        "yaxis": {
         "anchor": "x",
         "autorange": true,
         "domain": [
          0,
          1
         ],
         "range": [
          0,
          105.26315789473685
         ],
         "title": {
          "text": "percentage"
         },
         "type": "linear"
        }
       }
      }
     },
     "metadata": {},
     "output_type": "display_data"
    }
   ],
   "source": [
    "fig= px.bar(\n",
    "    adult_df_income_age,\n",
    "    x = 'age_group',\n",
    "    y = 'percentage',\n",
    "    color= 'income',\n",
    "    title='Income Distribution by age Group(%)',\n",
    "    barmode = 'group',\n",
    "    height=500,\n",
    "    text= 'percentage',\n",
    "    color_discrete_sequence=px.colors.sequential.RdBu,\n",
    ")\n",
    "fig.update_traces(texttemplate='%{text:.2f}%')\n",
    "fig.update_traces(textposition='outside')\n",
    "fig.update_layout(template='presentation', paper_bgcolor='rgb(0, 0, 0)', plot_bgcolor='rgb(0, 0, 0)')\n",
    "\n",
    "# Save in multiple formats\n",
    "fig.write_image(os.path.join(results_dir, 'income_distribution_by_agegroupbar.jpg'))\n",
    "fig.write_image(os.path.join(results_dir, 'income_distribution_by_agegroupbar.png'))\n",
    "fig.write_html(os.path.join(results_dir, 'income_distribution_by_agegroupbar.html'))\n",
    "\n",
    "fig.show()\n",
    "\n"
   ]
  },
  {
   "cell_type": "code",
   "execution_count": 93,
   "id": "75f24557-28b6-4afa-ab6c-a1d2b7e8d691",
   "metadata": {},
   "outputs": [
    {
     "data": {
      "application/vnd.plotly.v1+json": {
       "config": {
        "plotlyServerURL": "https://plot.ly"
       },
       "data": [
        {
         "alignmentgroup": "True",
         "hovertemplate": "income=<=50k<br>age_group=%{x}<br>percentage=%{text}<extra></extra>",
         "legendgroup": "<=50k",
         "marker": {
          "color": "rgb(103,0,31)",
          "pattern": {
           "shape": ""
          }
         },
         "name": "<=50k",
         "offsetgroup": "<=50k",
         "orientation": "v",
         "showlegend": true,
         "text": {
          "_inputArray": {
           "0": 97.90748898678414,
           "1": 81.28675605739826,
           "2": 65.36682914635671,
           "3": 61.44875840307312,
           "4": 75.56193208990913,
           "5": 83.33333333333334,
           "6": 100,
           "bdata": "9e2vTBR6WEAmHRQ2WlJUQJa09CB6V1BAi4BU6nC5TkDkLgOy9uNSQFZVVVVV1VRAAAAAAAAAWUA=",
           "dtype": "f8",
           "shape": "7"
          },
          "bdata": "9e2vTBR6WEAmHRQ2WlJUQJa09CB6V1BAi4BU6nC5TkDkLgOy9uNSQFZVVVVV1VRAAAAAAAAAWUA=",
          "dtype": "f8"
         },
         "textposition": "outside",
         "texttemplate": "%{text:.2f}%",
         "type": "bar",
         "x": [
          "18-25",
          "26-35",
          "36-45",
          "46-60",
          "61-75",
          "76+",
          "<18"
         ],
         "xaxis": "x",
         "y": {
          "_inputArray": {
           "0": 97.90748898678414,
           "1": 81.28675605739826,
           "2": 65.36682914635671,
           "3": 61.44875840307312,
           "4": 75.56193208990913,
           "5": 83.33333333333334,
           "6": 100,
           "bdata": "9e2vTBR6WEAmHRQ2WlJUQJa09CB6V1BAi4BU6nC5TkDkLgOy9uNSQFZVVVVV1VRAAAAAAAAAWUA=",
           "dtype": "f8",
           "shape": "7"
          },
          "bdata": "9e2vTBR6WEAmHRQ2WlJUQJa09CB6V1BAi4BU6nC5TkDkLgOy9uNSQFZVVVVV1VRAAAAAAAAAWUA=",
          "dtype": "f8"
         },
         "yaxis": "y"
        },
        {
         "alignmentgroup": "True",
         "hovertemplate": "income=>50k<br>age_group=%{x}<br>percentage=%{text}<extra></extra>",
         "legendgroup": ">50k",
         "marker": {
          "color": "rgb(178,24,43)",
          "pattern": {
           "shape": ""
          }
         },
         "name": ">50k",
         "offsetgroup": ">50k",
         "orientation": "v",
         "showlegend": true,
         "text": {
          "_inputArray": {
           "0": 2.092511013215859,
           "1": 18.71324394260174,
           "2": 34.6331708536433,
           "3": 38.55124159692688,
           "4": 24.438067910090865,
           "5": 16.666666666666664,
           "bdata": "aUECana9AEBpi68nl7YyQNWWFr4LUUFAdX+rFY9GQ0BwRPM3JXA4QKqqqqqqqjBA",
           "dtype": "f8",
           "shape": "6"
          },
          "bdata": "aUECana9AEBpi68nl7YyQNWWFr4LUUFAdX+rFY9GQ0BwRPM3JXA4QKqqqqqqqjBA",
          "dtype": "f8"
         },
         "textposition": "outside",
         "texttemplate": "%{text:.2f}%",
         "type": "bar",
         "x": [
          "18-25",
          "26-35",
          "36-45",
          "46-60",
          "61-75",
          "76+"
         ],
         "xaxis": "x",
         "y": {
          "_inputArray": {
           "0": 2.092511013215859,
           "1": 18.71324394260174,
           "2": 34.6331708536433,
           "3": 38.55124159692688,
           "4": 24.438067910090865,
           "5": 16.666666666666664,
           "bdata": "aUECana9AEBpi68nl7YyQNWWFr4LUUFAdX+rFY9GQ0BwRPM3JXA4QKqqqqqqqjBA",
           "dtype": "f8",
           "shape": "6"
          },
          "bdata": "aUECana9AEBpi68nl7YyQNWWFr4LUUFAdX+rFY9GQ0BwRPM3JXA4QKqqqqqqqjBA",
          "dtype": "f8"
         },
         "yaxis": "y"
        }
       ],
       "layout": {
        "autosize": true,
        "barmode": "group",
        "legend": {
         "title": {
          "text": "income"
         },
         "tracegroupgap": 0
        },
        "paper_bgcolor": "rgb(0, 0, 0)",
        "plot_bgcolor": "rgb(0, 0, 0)",
        "template": {
         "data": {
          "scatter": [
           {
            "type": "scatter"
           }
          ]
         }
        },
        "title": {
         "text": "Income Distribution by age Group(%)"
        },
        "xaxis": {
         "anchor": "y",
         "autorange": true,
         "domain": [
          0,
          1
         ],
         "range": [
          -0.5,
          6.5
         ],
         "title": {
          "text": "age_group"
         },
         "type": "category"
        },
        "yaxis": {
         "anchor": "x",
         "autorange": true,
         "domain": [
          0,
          1
         ],
         "range": [
          0,
          105.26315789473685
         ],
         "title": {
          "text": "percentage"
         },
         "type": "linear"
        }
       }
      }
     },
     "metadata": {},
     "output_type": "display_data"
    }
   ],
   "source": [
    "themes = [\"plotly\", \"plotly_white\", \"plotly_dark\", \"ggplot2\", \"seaborn\", \"simple_white\", \"presentation\", \"xgridoff\", \"ygridoff\", \"gridon\", \"none\"]\n",
    "\n",
    "for theme in themes:\n",
    "    fig.update_layout(template=theme)\n",
    "fig.show()"
   ]
  },
  {
   "cell_type": "code",
   "execution_count": 94,
   "id": "15c2b135-d28c-412c-884c-da73f85fc030",
   "metadata": {},
   "outputs": [
    {
     "data": {
      "text/html": [
       "<div>\n",
       "<style scoped>\n",
       "    .dataframe tbody tr th:only-of-type {\n",
       "        vertical-align: middle;\n",
       "    }\n",
       "\n",
       "    .dataframe tbody tr th {\n",
       "        vertical-align: top;\n",
       "    }\n",
       "\n",
       "    .dataframe thead th {\n",
       "        text-align: right;\n",
       "    }\n",
       "</style>\n",
       "<table border=\"1\" class=\"dataframe\">\n",
       "  <thead>\n",
       "    <tr style=\"text-align: right;\">\n",
       "      <th></th>\n",
       "      <th>native_region</th>\n",
       "      <th>income</th>\n",
       "      <th>total_income_distr</th>\n",
       "    </tr>\n",
       "  </thead>\n",
       "  <tbody>\n",
       "    <tr>\n",
       "      <th>0</th>\n",
       "      <td>asia</td>\n",
       "      <td>&lt;=50k</td>\n",
       "      <td>465</td>\n",
       "    </tr>\n",
       "    <tr>\n",
       "      <th>1</th>\n",
       "      <td>asia</td>\n",
       "      <td>&gt;50k</td>\n",
       "      <td>206</td>\n",
       "    </tr>\n",
       "    <tr>\n",
       "      <th>2</th>\n",
       "      <td>central america</td>\n",
       "      <td>&lt;=50k</td>\n",
       "      <td>466</td>\n",
       "    </tr>\n",
       "    <tr>\n",
       "      <th>3</th>\n",
       "      <td>central america</td>\n",
       "      <td>&gt;50k</td>\n",
       "      <td>58</td>\n",
       "    </tr>\n",
       "    <tr>\n",
       "      <th>4</th>\n",
       "      <td>europe</td>\n",
       "      <td>&lt;=50k</td>\n",
       "      <td>369</td>\n",
       "    </tr>\n",
       "    <tr>\n",
       "      <th>5</th>\n",
       "      <td>europe</td>\n",
       "      <td>&gt;50k</td>\n",
       "      <td>152</td>\n",
       "    </tr>\n",
       "    <tr>\n",
       "      <th>6</th>\n",
       "      <td>north america</td>\n",
       "      <td>&lt;=50k</td>\n",
       "      <td>22770</td>\n",
       "    </tr>\n",
       "    <tr>\n",
       "      <th>7</th>\n",
       "      <td>north america</td>\n",
       "      <td>&gt;50k</td>\n",
       "      <td>7251</td>\n",
       "    </tr>\n",
       "    <tr>\n",
       "      <th>8</th>\n",
       "      <td>south america</td>\n",
       "      <td>&lt;=50k</td>\n",
       "      <td>174</td>\n",
       "    </tr>\n",
       "    <tr>\n",
       "      <th>9</th>\n",
       "      <td>south america</td>\n",
       "      <td>&gt;50k</td>\n",
       "      <td>24</td>\n",
       "    </tr>\n",
       "  </tbody>\n",
       "</table>\n",
       "</div>"
      ],
      "text/plain": [
       "     native_region income  total_income_distr\n",
       "0             asia  <=50k                 465\n",
       "1             asia   >50k                 206\n",
       "2  central america  <=50k                 466\n",
       "3  central america   >50k                  58\n",
       "4           europe  <=50k                 369\n",
       "5           europe   >50k                 152\n",
       "6    north america  <=50k               22770\n",
       "7    north america   >50k                7251\n",
       "8    south america  <=50k                 174\n",
       "9    south america   >50k                  24"
      ]
     },
     "execution_count": 94,
     "metadata": {},
     "output_type": "execute_result"
    }
   ],
   "source": [
    "adult_df_income_native_region = adult_df.groupby(['native_region', 'income']).size().reset_index(name='total_income_distr')\n",
    "adult_df_income_native_region"
   ]
  },
  {
   "cell_type": "code",
   "execution_count": 95,
   "id": "a4e316b6-37c6-4455-8c14-8a10f57218a6",
   "metadata": {},
   "outputs": [
    {
     "data": {
      "text/html": [
       "<div>\n",
       "<style scoped>\n",
       "    .dataframe tbody tr th:only-of-type {\n",
       "        vertical-align: middle;\n",
       "    }\n",
       "\n",
       "    .dataframe tbody tr th {\n",
       "        vertical-align: top;\n",
       "    }\n",
       "\n",
       "    .dataframe thead th {\n",
       "        text-align: right;\n",
       "    }\n",
       "</style>\n",
       "<table border=\"1\" class=\"dataframe\">\n",
       "  <thead>\n",
       "    <tr style=\"text-align: right;\">\n",
       "      <th></th>\n",
       "      <th>native_region</th>\n",
       "      <th>income</th>\n",
       "      <th>total_income_distr</th>\n",
       "      <th>percentage</th>\n",
       "    </tr>\n",
       "  </thead>\n",
       "  <tbody>\n",
       "    <tr>\n",
       "      <th>0</th>\n",
       "      <td>asia</td>\n",
       "      <td>&lt;=50k</td>\n",
       "      <td>465</td>\n",
       "      <td>69.299553</td>\n",
       "    </tr>\n",
       "    <tr>\n",
       "      <th>1</th>\n",
       "      <td>asia</td>\n",
       "      <td>&gt;50k</td>\n",
       "      <td>206</td>\n",
       "      <td>30.700447</td>\n",
       "    </tr>\n",
       "    <tr>\n",
       "      <th>2</th>\n",
       "      <td>central america</td>\n",
       "      <td>&lt;=50k</td>\n",
       "      <td>466</td>\n",
       "      <td>88.931298</td>\n",
       "    </tr>\n",
       "    <tr>\n",
       "      <th>3</th>\n",
       "      <td>central america</td>\n",
       "      <td>&gt;50k</td>\n",
       "      <td>58</td>\n",
       "      <td>11.068702</td>\n",
       "    </tr>\n",
       "    <tr>\n",
       "      <th>4</th>\n",
       "      <td>europe</td>\n",
       "      <td>&lt;=50k</td>\n",
       "      <td>369</td>\n",
       "      <td>70.825336</td>\n",
       "    </tr>\n",
       "    <tr>\n",
       "      <th>5</th>\n",
       "      <td>europe</td>\n",
       "      <td>&gt;50k</td>\n",
       "      <td>152</td>\n",
       "      <td>29.174664</td>\n",
       "    </tr>\n",
       "    <tr>\n",
       "      <th>6</th>\n",
       "      <td>north america</td>\n",
       "      <td>&lt;=50k</td>\n",
       "      <td>22770</td>\n",
       "      <td>75.846907</td>\n",
       "    </tr>\n",
       "    <tr>\n",
       "      <th>7</th>\n",
       "      <td>north america</td>\n",
       "      <td>&gt;50k</td>\n",
       "      <td>7251</td>\n",
       "      <td>24.153093</td>\n",
       "    </tr>\n",
       "    <tr>\n",
       "      <th>8</th>\n",
       "      <td>south america</td>\n",
       "      <td>&lt;=50k</td>\n",
       "      <td>174</td>\n",
       "      <td>87.878788</td>\n",
       "    </tr>\n",
       "    <tr>\n",
       "      <th>9</th>\n",
       "      <td>south america</td>\n",
       "      <td>&gt;50k</td>\n",
       "      <td>24</td>\n",
       "      <td>12.121212</td>\n",
       "    </tr>\n",
       "  </tbody>\n",
       "</table>\n",
       "</div>"
      ],
      "text/plain": [
       "     native_region income  total_income_distr  percentage\n",
       "0             asia  <=50k                 465   69.299553\n",
       "1             asia   >50k                 206   30.700447\n",
       "2  central america  <=50k                 466   88.931298\n",
       "3  central america   >50k                  58   11.068702\n",
       "4           europe  <=50k                 369   70.825336\n",
       "5           europe   >50k                 152   29.174664\n",
       "6    north america  <=50k               22770   75.846907\n",
       "7    north america   >50k                7251   24.153093\n",
       "8    south america  <=50k                 174   87.878788\n",
       "9    south america   >50k                  24   12.121212"
      ]
     },
     "execution_count": 95,
     "metadata": {},
     "output_type": "execute_result"
    }
   ],
   "source": [
    "total_per_region = adult_df_income_native_region.groupby('native_region')['total_income_distr'].transform('sum')\n",
    "adult_df_income_native_region['percentage'] = (adult_df_income_native_region['total_income_distr']/total_per_region) * 100\n",
    "adult_df_income_native_region"
   ]
  },
  {
   "cell_type": "code",
   "execution_count": 98,
   "id": "94a2be1c-3bbb-44d6-aa59-4894829746f2",
   "metadata": {},
   "outputs": [
    {
     "data": {
      "application/vnd.plotly.v1+json": {
       "config": {
        "plotlyServerURL": "https://plot.ly"
       },
       "data": [
        {
         "alignmentgroup": "True",
         "hovertemplate": "income=<=50k<br>native_region=%{x}<br>percentage=%{text}<extra></extra>",
         "legendgroup": "<=50k",
         "marker": {
          "color": "rgb(103,0,31)",
          "pattern": {
           "shape": ""
          }
         },
         "name": "<=50k",
         "offsetgroup": "<=50k",
         "orientation": "v",
         "showlegend": true,
         "text": {
          "_inputArray": {
           "0": 69.29955290611028,
           "1": 88.93129770992367,
           "2": 70.8253358925144,
           "3": 75.84690716498451,
           "4": 87.87878787878788,
           "bdata": "lsrz3ytTUUCPvbVhmjtWQB6kok3StFFA0hYcujP2UkD44IMPPvhVQA==",
           "dtype": "f8",
           "shape": "5"
          },
          "bdata": "lsrz3ytTUUCPvbVhmjtWQB6kok3StFFA0hYcujP2UkD44IMPPvhVQA==",
          "dtype": "f8"
         },
         "textposition": "outside",
         "texttemplate": "%{text:.2f}%",
         "type": "bar",
         "x": [
          "asia",
          "central america",
          "europe",
          "north america",
          "south america"
         ],
         "xaxis": "x",
         "y": {
          "_inputArray": {
           "0": 69.29955290611028,
           "1": 88.93129770992367,
           "2": 70.8253358925144,
           "3": 75.84690716498451,
           "4": 87.87878787878788,
           "bdata": "lsrz3ytTUUCPvbVhmjtWQB6kok3StFFA0hYcujP2UkD44IMPPvhVQA==",
           "dtype": "f8",
           "shape": "5"
          },
          "bdata": "lsrz3ytTUUCPvbVhmjtWQB6kok3StFFA0hYcujP2UkD44IMPPvhVQA==",
          "dtype": "f8"
         },
         "yaxis": "y"
        },
        {
         "alignmentgroup": "True",
         "hovertemplate": "income=>50k<br>native_region=%{x}<br>percentage=%{text}<extra></extra>",
         "legendgroup": ">50k",
         "marker": {
          "color": "rgb(178,24,43)",
          "pattern": {
           "shape": ""
          }
         },
         "name": ">50k",
         "offsetgroup": ">50k",
         "orientation": "v",
         "showlegend": true,
         "text": {
          "_inputArray": {
           "0": 30.700447093889714,
           "1": 11.068702290076336,
           "2": 29.174664107485604,
           "3": 24.15309283501549,
           "4": 12.121212121212121,
           "bdata": "ptUwgFCzPkCLE1LyLCMmQIpvdcm2LD1AuaSPFzEnOEA++OCDDz4oQA==",
           "dtype": "f8",
           "shape": "5"
          },
          "bdata": "ptUwgFCzPkCLE1LyLCMmQIpvdcm2LD1AuaSPFzEnOEA++OCDDz4oQA==",
          "dtype": "f8"
         },
         "textposition": "outside",
         "texttemplate": "%{text:.2f}%",
         "type": "bar",
         "x": [
          "asia",
          "central america",
          "europe",
          "north america",
          "south america"
         ],
         "xaxis": "x",
         "y": {
          "_inputArray": {
           "0": 30.700447093889714,
           "1": 11.068702290076336,
           "2": 29.174664107485604,
           "3": 24.15309283501549,
           "4": 12.121212121212121,
           "bdata": "ptUwgFCzPkCLE1LyLCMmQIpvdcm2LD1AuaSPFzEnOEA++OCDDz4oQA==",
           "dtype": "f8",
           "shape": "5"
          },
          "bdata": "ptUwgFCzPkCLE1LyLCMmQIpvdcm2LD1AuaSPFzEnOEA++OCDDz4oQA==",
          "dtype": "f8"
         },
         "yaxis": "y"
        }
       ],
       "layout": {
        "autosize": true,
        "barmode": "group",
        "legend": {
         "title": {
          "text": "income"
         },
         "tracegroupgap": 0
        },
        "paper_bgcolor": "rgb(0, 0, 0)",
        "plot_bgcolor": "rgb(0, 0, 0)",
        "template": {
         "data": {
          "pie": [
           {
            "automargin": true,
            "type": "pie"
           }
          ],
          "scatter": [
           {
            "line": {
             "width": 3
            },
            "marker": {
             "size": 9
            },
            "type": "scatter"
           }
          ],
          "scatter3d": [
           {
            "line": {
             "width": 3
            },
            "marker": {
             "size": 9
            },
            "type": "scatter3d"
           }
          ],
          "scattergeo": [
           {
            "line": {
             "width": 3
            },
            "marker": {
             "size": 9
            },
            "type": "scattergeo"
           }
          ],
          "scattergl": [
           {
            "line": {
             "width": 3
            },
            "marker": {
             "size": 9
            },
            "type": "scattergl"
           }
          ],
          "scatterpolar": [
           {
            "line": {
             "width": 3
            },
            "marker": {
             "size": 9
            },
            "type": "scatterpolar"
           }
          ],
          "scatterpolargl": [
           {
            "line": {
             "width": 3
            },
            "marker": {
             "size": 9
            },
            "type": "scatterpolargl"
           }
          ],
          "scatterternary": [
           {
            "line": {
             "width": 3
            },
            "marker": {
             "size": 9
            },
            "type": "scatterternary"
           }
          ],
          "table": [
           {
            "cells": {
             "height": 30
            },
            "header": {
             "height": 36
            },
            "type": "table"
           }
          ]
         },
         "layout": {
          "font": {
           "size": 18
          },
          "xaxis": {
           "title": {
            "standoff": 15
           }
          },
          "yaxis": {
           "title": {
            "standoff": 15
           }
          }
         }
        },
        "title": {
         "text": "Income Distribution by Native Region (%)"
        },
        "xaxis": {
         "anchor": "y",
         "autorange": true,
         "domain": [
          0,
          1
         ],
         "range": [
          -0.5,
          4.5
         ],
         "title": {
          "text": "native_region"
         },
         "type": "category"
        },
        "yaxis": {
         "anchor": "x",
         "autorange": true,
         "domain": [
          0,
          1
         ],
         "range": [
          0,
          93.61189232623543
         ],
         "title": {
          "text": "percentage"
         },
         "type": "linear"
        }
       }
      },
      "image/png": "[encoded data removed]"
     },
     "metadata": {},
     "output_type": "display_data"
    }
   ],
   "source": [
    "import plotly.express as px\n",
    "\n",
    "# Plot the bar chart\n",
    "fig = px.bar(\n",
    "    adult_df_income_native_region,\n",
    "    x='native_region',\n",
    "    y='percentage',\n",
    "    color='income',\n",
    "    title='Income Distribution by Native Region (%)',\n",
    "    barmode='group',\n",
    "    height=500,\n",
    "    color_discrete_sequence=px.colors.sequential.RdBu,\n",
    "    text='percentage'\n",
    ")\n",
    "\n",
    "# Format the text on bars\n",
    "fig.update_traces(texttemplate='%{text:.2f}%',)\n",
    "\n",
    "fig.update_traces(textposition='outside')\n",
    "fig.update_layout(template='presentation', paper_bgcolor='rgb(0, 0, 0)', plot_bgcolor='rgb(0, 0, 0)')\n",
    "\n",
    "# Save in multiple formats\n",
    "fig.write_image(os.path.join(results_dir, 'income_distribution_by_nativeregion_bar_plot.jpg'))\n",
    "fig.write_image(os.path.join(results_dir, 'income_distribution_by_nativeregion_bar_plot.png'))\n",
    "fig.write_html(os.path.join(results_dir, 'income_distribution_by_nativeregion_bar_plot.html'))\n",
    "\n",
    "\n",
    "# Show the figure\n",
    "fig.show()\n"
   ]
  },
  {
   "cell_type": "code",
   "execution_count": null,
   "id": "233f6258-69f3-4cf2-aab7-8c29481d0017",
   "metadata": {},
   "outputs": [],
   "source": []
  },
  {
   "cell_type": "code",
   "execution_count": 99,
   "id": "6fb5334b-bba0-46b5-97cc-50febf27906b",
   "metadata": {},
   "outputs": [
    {
     "data": {
      "text/html": [
       "<div>\n",
       "<style scoped>\n",
       "    .dataframe tbody tr th:only-of-type {\n",
       "        vertical-align: middle;\n",
       "    }\n",
       "\n",
       "    .dataframe tbody tr th {\n",
       "        vertical-align: top;\n",
       "    }\n",
       "\n",
       "    .dataframe thead th {\n",
       "        text-align: right;\n",
       "    }\n",
       "</style>\n",
       "<table border=\"1\" class=\"dataframe\">\n",
       "  <thead>\n",
       "    <tr style=\"text-align: right;\">\n",
       "      <th></th>\n",
       "      <th>race</th>\n",
       "      <th>income</th>\n",
       "      <th>total_income_distr</th>\n",
       "    </tr>\n",
       "  </thead>\n",
       "  <tbody>\n",
       "    <tr>\n",
       "      <th>0</th>\n",
       "      <td>amer-indian-eskimo</td>\n",
       "      <td>&lt;=50k</td>\n",
       "      <td>275</td>\n",
       "    </tr>\n",
       "    <tr>\n",
       "      <th>1</th>\n",
       "      <td>amer-indian-eskimo</td>\n",
       "      <td>&gt;50k</td>\n",
       "      <td>36</td>\n",
       "    </tr>\n",
       "    <tr>\n",
       "      <th>2</th>\n",
       "      <td>asian-pac-islander</td>\n",
       "      <td>&lt;=50k</td>\n",
       "      <td>762</td>\n",
       "    </tr>\n",
       "    <tr>\n",
       "      <th>3</th>\n",
       "      <td>asian-pac-islander</td>\n",
       "      <td>&gt;50k</td>\n",
       "      <td>276</td>\n",
       "    </tr>\n",
       "    <tr>\n",
       "      <th>4</th>\n",
       "      <td>black</td>\n",
       "      <td>&lt;=50k</td>\n",
       "      <td>2735</td>\n",
       "    </tr>\n",
       "    <tr>\n",
       "      <th>5</th>\n",
       "      <td>black</td>\n",
       "      <td>&gt;50k</td>\n",
       "      <td>387</td>\n",
       "    </tr>\n",
       "    <tr>\n",
       "      <th>6</th>\n",
       "      <td>other</td>\n",
       "      <td>&lt;=50k</td>\n",
       "      <td>246</td>\n",
       "    </tr>\n",
       "    <tr>\n",
       "      <th>7</th>\n",
       "      <td>other</td>\n",
       "      <td>&gt;50k</td>\n",
       "      <td>25</td>\n",
       "    </tr>\n",
       "    <tr>\n",
       "      <th>8</th>\n",
       "      <td>white</td>\n",
       "      <td>&lt;=50k</td>\n",
       "      <td>20661</td>\n",
       "    </tr>\n",
       "    <tr>\n",
       "      <th>9</th>\n",
       "      <td>white</td>\n",
       "      <td>&gt;50k</td>\n",
       "      <td>7113</td>\n",
       "    </tr>\n",
       "  </tbody>\n",
       "</table>\n",
       "</div>"
      ],
      "text/plain": [
       "                 race income  total_income_distr\n",
       "0  amer-indian-eskimo  <=50k                 275\n",
       "1  amer-indian-eskimo   >50k                  36\n",
       "2  asian-pac-islander  <=50k                 762\n",
       "3  asian-pac-islander   >50k                 276\n",
       "4               black  <=50k                2735\n",
       "5               black   >50k                 387\n",
       "6               other  <=50k                 246\n",
       "7               other   >50k                  25\n",
       "8               white  <=50k               20661\n",
       "9               white   >50k                7113"
      ]
     },
     "execution_count": 99,
     "metadata": {},
     "output_type": "execute_result"
    }
   ],
   "source": [
    "adult_df_income_race = adult_df.groupby(['race', 'income']).size().reset_index(name='total_income_distr')\n",
    "adult_df_income_race"
   ]
  },
  {
   "cell_type": "code",
   "execution_count": 100,
   "id": "b9ba6722-43f8-4036-9dfe-e1595059a1f3",
   "metadata": {},
   "outputs": [
    {
     "data": {
      "text/html": [
       "<div>\n",
       "<style scoped>\n",
       "    .dataframe tbody tr th:only-of-type {\n",
       "        vertical-align: middle;\n",
       "    }\n",
       "\n",
       "    .dataframe tbody tr th {\n",
       "        vertical-align: top;\n",
       "    }\n",
       "\n",
       "    .dataframe thead th {\n",
       "        text-align: right;\n",
       "    }\n",
       "</style>\n",
       "<table border=\"1\" class=\"dataframe\">\n",
       "  <thead>\n",
       "    <tr style=\"text-align: right;\">\n",
       "      <th></th>\n",
       "      <th>race</th>\n",
       "      <th>income</th>\n",
       "      <th>total_income_distr</th>\n",
       "      <th>percentage</th>\n",
       "    </tr>\n",
       "  </thead>\n",
       "  <tbody>\n",
       "    <tr>\n",
       "      <th>0</th>\n",
       "      <td>amer-indian-eskimo</td>\n",
       "      <td>&lt;=50k</td>\n",
       "      <td>275</td>\n",
       "      <td>88.424437</td>\n",
       "    </tr>\n",
       "    <tr>\n",
       "      <th>1</th>\n",
       "      <td>amer-indian-eskimo</td>\n",
       "      <td>&gt;50k</td>\n",
       "      <td>36</td>\n",
       "      <td>11.575563</td>\n",
       "    </tr>\n",
       "    <tr>\n",
       "      <th>2</th>\n",
       "      <td>asian-pac-islander</td>\n",
       "      <td>&lt;=50k</td>\n",
       "      <td>762</td>\n",
       "      <td>73.410405</td>\n",
       "    </tr>\n",
       "    <tr>\n",
       "      <th>3</th>\n",
       "      <td>asian-pac-islander</td>\n",
       "      <td>&gt;50k</td>\n",
       "      <td>276</td>\n",
       "      <td>26.589595</td>\n",
       "    </tr>\n",
       "    <tr>\n",
       "      <th>4</th>\n",
       "      <td>black</td>\n",
       "      <td>&lt;=50k</td>\n",
       "      <td>2735</td>\n",
       "      <td>87.604100</td>\n",
       "    </tr>\n",
       "    <tr>\n",
       "      <th>5</th>\n",
       "      <td>black</td>\n",
       "      <td>&gt;50k</td>\n",
       "      <td>387</td>\n",
       "      <td>12.395900</td>\n",
       "    </tr>\n",
       "    <tr>\n",
       "      <th>6</th>\n",
       "      <td>other</td>\n",
       "      <td>&lt;=50k</td>\n",
       "      <td>246</td>\n",
       "      <td>90.774908</td>\n",
       "    </tr>\n",
       "    <tr>\n",
       "      <th>7</th>\n",
       "      <td>other</td>\n",
       "      <td>&gt;50k</td>\n",
       "      <td>25</td>\n",
       "      <td>9.225092</td>\n",
       "    </tr>\n",
       "    <tr>\n",
       "      <th>8</th>\n",
       "      <td>white</td>\n",
       "      <td>&lt;=50k</td>\n",
       "      <td>20661</td>\n",
       "      <td>74.389717</td>\n",
       "    </tr>\n",
       "    <tr>\n",
       "      <th>9</th>\n",
       "      <td>white</td>\n",
       "      <td>&gt;50k</td>\n",
       "      <td>7113</td>\n",
       "      <td>25.610283</td>\n",
       "    </tr>\n",
       "  </tbody>\n",
       "</table>\n",
       "</div>"
      ],
      "text/plain": [
       "                 race income  total_income_distr  percentage\n",
       "0  amer-indian-eskimo  <=50k                 275   88.424437\n",
       "1  amer-indian-eskimo   >50k                  36   11.575563\n",
       "2  asian-pac-islander  <=50k                 762   73.410405\n",
       "3  asian-pac-islander   >50k                 276   26.589595\n",
       "4               black  <=50k                2735   87.604100\n",
       "5               black   >50k                 387   12.395900\n",
       "6               other  <=50k                 246   90.774908\n",
       "7               other   >50k                  25    9.225092\n",
       "8               white  <=50k               20661   74.389717\n",
       "9               white   >50k                7113   25.610283"
      ]
     },
     "execution_count": 100,
     "metadata": {},
     "output_type": "execute_result"
    }
   ],
   "source": [
    "total_per_race = adult_df_income_race.groupby('race')['total_income_distr'].transform('sum')\n",
    "adult_df_income_race['percentage'] = (adult_df_income_race['total_income_distr']/total_per_race) * 100\n",
    "adult_df_income_race"
   ]
  },
  {
   "cell_type": "code",
   "execution_count": 104,
   "id": "8fc894bd-5206-48e7-b8dd-b0cccc1644f0",
   "metadata": {},
   "outputs": [
    {
     "data": {
      "application/vnd.plotly.v1+json": {
       "config": {
        "plotlyServerURL": "https://plot.ly"
       },
       "data": [
        {
         "alignmentgroup": "True",
         "hovertemplate": "income=<=50k<br>race=%{x}<br>percentage=%{text}<extra></extra>",
         "legendgroup": "<=50k",
         "marker": {
          "color": "rgb(103,0,31)",
          "pattern": {
           "shape": ""
          }
         },
         "name": "<=50k",
         "offsetgroup": "<=50k",
         "orientation": "v",
         "showlegend": true,
         "text": {
          "_inputArray": {
           "0": 88.42443729903538,
           "1": 73.41040462427746,
           "2": 87.6040999359385,
           "3": 90.7749077490775,
           "4": 74.3897170015122,
           "bdata": "z6MP+ykbVkCH2cERRFpSQMgXx5Kp5lVAHO2rFpixVkAqDJQf8ZhSQA==",
           "dtype": "f8",
           "shape": "5"
          },
          "bdata": "z6MP+ykbVkCH2cERRFpSQMgXx5Kp5lVAHO2rFpixVkAqDJQf8ZhSQA==",
          "dtype": "f8"
         },
         "textposition": "outside",
         "texttemplate": "%{text:.2f}%",
         "type": "bar",
         "x": [
          "amer-indian-eskimo",
          "asian-pac-islander",
          "black",
          "other",
          "white"
         ],
         "xaxis": "x",
         "y": {
          "_inputArray": {
           "0": 88.42443729903538,
           "1": 73.41040462427746,
           "2": 87.6040999359385,
           "3": 90.7749077490775,
           "4": 74.3897170015122,
           "bdata": "z6MP+ykbVkCH2cERRFpSQMgXx5Kp5lVAHO2rFpixVkAqDJQf8ZhSQA==",
           "dtype": "f8",
           "shape": "5"
          },
          "bdata": "z6MP+ykbVkCH2cERRFpSQMgXx5Kp5lVAHO2rFpixVkAqDJQf8ZhSQA==",
          "dtype": "f8"
         },
         "yaxis": "y"
        },
        {
         "alignmentgroup": "True",
         "hovertemplate": "income=>50k<br>race=%{x}<br>percentage=%{text}<extra></extra>",
         "legendgroup": ">50k",
         "marker": {
          "color": "rgb(178,24,43)",
          "pattern": {
           "shape": ""
          }
         },
         "name": ">50k",
         "offsetgroup": ">50k",
         "orientation": "v",
         "showlegend": true,
         "text": {
          "_inputArray": {
           "0": 11.57556270096463,
           "1": 26.589595375722542,
           "2": 12.395900064061498,
           "3": 9.22509225092251,
           "4": 25.610282998487794,
           "bdata": "i+GCJ7AmJ0Dlmfi475Y6QMNBx2mzyihAJZegSj9zIkBVz6+BO5w5QA==",
           "dtype": "f8",
           "shape": "5"
          },
          "bdata": "i+GCJ7AmJ0Dlmfi475Y6QMNBx2mzyihAJZegSj9zIkBVz6+BO5w5QA==",
          "dtype": "f8"
         },
         "textposition": "outside",
         "texttemplate": "%{text:.2f}%",
         "type": "bar",
         "x": [
          "amer-indian-eskimo",
          "asian-pac-islander",
          "black",
          "other",
          "white"
         ],
         "xaxis": "x",
         "y": {
          "_inputArray": {
           "0": 11.57556270096463,
           "1": 26.589595375722542,
           "2": 12.395900064061498,
           "3": 9.22509225092251,
           "4": 25.610282998487794,
           "bdata": "i+GCJ7AmJ0Dlmfi475Y6QMNBx2mzyihAJZegSj9zIkBVz6+BO5w5QA==",
           "dtype": "f8",
           "shape": "5"
          },
          "bdata": "i+GCJ7AmJ0Dlmfi475Y6QMNBx2mzyihAJZegSj9zIkBVz6+BO5w5QA==",
          "dtype": "f8"
         },
         "yaxis": "y"
        }
       ],
       "layout": {
        "autosize": true,
        "barmode": "group",
        "legend": {
         "title": {
          "text": "income"
         },
         "tracegroupgap": 0
        },
        "paper_bgcolor": "rgb(0, 0, 0)",
        "plot_bgcolor": "rgb(0, 0, 0)",
        "template": {
         "data": {
          "pie": [
           {
            "automargin": true,
            "type": "pie"
           }
          ],
          "scatter": [
           {
            "line": {
             "width": 3
            },
            "marker": {
             "size": 9
            },
            "type": "scatter"
           }
          ],
          "scatter3d": [
           {
            "line": {
             "width": 3
            },
            "marker": {
             "size": 9
            },
            "type": "scatter3d"
           }
          ],
          "scattergeo": [
           {
            "line": {
             "width": 3
            },
            "marker": {
             "size": 9
            },
            "type": "scattergeo"
           }
          ],
          "scattergl": [
           {
            "line": {
             "width": 3
            },
            "marker": {
             "size": 9
            },
            "type": "scattergl"
           }
          ],
          "scatterpolar": [
           {
            "line": {
             "width": 3
            },
            "marker": {
             "size": 9
            },
            "type": "scatterpolar"
           }
          ],
          "scatterpolargl": [
           {
            "line": {
             "width": 3
            },
            "marker": {
             "size": 9
            },
            "type": "scatterpolargl"
           }
          ],
          "scatterternary": [
           {
            "line": {
             "width": 3
            },
            "marker": {
             "size": 9
            },
            "type": "scatterternary"
           }
          ],
          "table": [
           {
            "cells": {
             "height": 30
            },
            "header": {
             "height": 36
            },
            "type": "table"
           }
          ]
         },
         "layout": {
          "font": {
           "size": 18
          },
          "xaxis": {
           "title": {
            "standoff": 15
           }
          },
          "yaxis": {
           "title": {
            "standoff": 15
           }
          }
         }
        },
        "title": {
         "text": "Income Distribution by race (%)"
        },
        "xaxis": {
         "anchor": "y",
         "autorange": true,
         "domain": [
          0,
          1
         ],
         "range": [
          -0.5,
          4.5
         ],
         "title": {
          "text": "race"
         },
         "type": "category"
        },
        "yaxis": {
         "anchor": "x",
         "autorange": true,
         "domain": [
          0,
          1
         ],
         "range": [
          0,
          95.55253447271316
         ],
         "title": {
          "text": "percentage"
         },
         "type": "linear"
        }
       }
      },
      "image/png": "[encoded data removed]"
     },
     "metadata": {},
     "output_type": "display_data"
    }
   ],
   "source": [
    "import plotly.express as px\n",
    "\n",
    "# Plot the bar chart\n",
    "fig = px.bar(\n",
    "    adult_df_income_race,\n",
    "    x='race',\n",
    "    y='percentage',\n",
    "    color='income',\n",
    "    title='Income Distribution by race (%)',\n",
    "    barmode='group',\n",
    "    height=500,\n",
    "    color_discrete_sequence=px.colors.sequential.RdBu,\n",
    "    text='percentage'\n",
    ")\n",
    "\n",
    "# Format the text on bars\n",
    "fig.update_traces(texttemplate='%{text:.2f}%',),\n",
    "fig.update_traces(textposition='outside')\n",
    "\n",
    "fig.update_layout(template='presentation', paper_bgcolor='rgb(0, 0, 0)', plot_bgcolor='rgb(0, 0, 0)')\n",
    "\n",
    "# Save in multiple formats\n",
    "fig.write_image(os.path.join(results_dir, 'income_distribution_by_race_bar_plot.jpg'))\n",
    "fig.write_image(os.path.join(results_dir, 'income_distribution_by_race_bar_plot.png'))\n",
    "fig.write_html(os.path.join(results_dir, 'income_distribution_by_race_bar_plot.html'))\n",
    "\n",
    "fig.show()\n",
    "\n"
   ]
  },
  {
   "cell_type": "code",
   "execution_count": 105,
   "id": "00772cf5-3067-4be3-b8e7-a64488122081",
   "metadata": {},
   "outputs": [
    {
     "data": {
      "text/html": [
       "<div>\n",
       "<style scoped>\n",
       "    .dataframe tbody tr th:only-of-type {\n",
       "        vertical-align: middle;\n",
       "    }\n",
       "\n",
       "    .dataframe tbody tr th {\n",
       "        vertical-align: top;\n",
       "    }\n",
       "\n",
       "    .dataframe thead th {\n",
       "        text-align: right;\n",
       "    }\n",
       "</style>\n",
       "<table border=\"1\" class=\"dataframe\">\n",
       "  <thead>\n",
       "    <tr style=\"text-align: right;\">\n",
       "      <th></th>\n",
       "      <th>education_level</th>\n",
       "      <th>occupation_grouped</th>\n",
       "      <th>income</th>\n",
       "      <th>total_income_distr</th>\n",
       "    </tr>\n",
       "  </thead>\n",
       "  <tbody>\n",
       "    <tr>\n",
       "      <th>0</th>\n",
       "      <td>associate</td>\n",
       "      <td>blue collar</td>\n",
       "      <td>&lt;=50k</td>\n",
       "      <td>482</td>\n",
       "    </tr>\n",
       "    <tr>\n",
       "      <th>1</th>\n",
       "      <td>associate</td>\n",
       "      <td>blue collar</td>\n",
       "      <td>&gt;50k</td>\n",
       "      <td>166</td>\n",
       "    </tr>\n",
       "    <tr>\n",
       "      <th>2</th>\n",
       "      <td>associate</td>\n",
       "      <td>service</td>\n",
       "      <td>&lt;=50k</td>\n",
       "      <td>237</td>\n",
       "    </tr>\n",
       "    <tr>\n",
       "      <th>3</th>\n",
       "      <td>associate</td>\n",
       "      <td>service</td>\n",
       "      <td>&gt;50k</td>\n",
       "      <td>44</td>\n",
       "    </tr>\n",
       "    <tr>\n",
       "      <th>4</th>\n",
       "      <td>associate</td>\n",
       "      <td>white collar</td>\n",
       "      <td>&lt;=50k</td>\n",
       "      <td>831</td>\n",
       "    </tr>\n",
       "    <tr>\n",
       "      <th>5</th>\n",
       "      <td>associate</td>\n",
       "      <td>white collar</td>\n",
       "      <td>&gt;50k</td>\n",
       "      <td>331</td>\n",
       "    </tr>\n",
       "    <tr>\n",
       "      <th>6</th>\n",
       "      <td>associate</td>\n",
       "      <td>white collar</td>\n",
       "      <td>&lt;=50k</td>\n",
       "      <td>184</td>\n",
       "    </tr>\n",
       "    <tr>\n",
       "      <th>7</th>\n",
       "      <td>associate</td>\n",
       "      <td>white collar</td>\n",
       "      <td>&gt;50k</td>\n",
       "      <td>66</td>\n",
       "    </tr>\n",
       "    <tr>\n",
       "      <th>8</th>\n",
       "      <td>high school graduate</td>\n",
       "      <td>blue collar</td>\n",
       "      <td>&lt;=50k</td>\n",
       "      <td>3976</td>\n",
       "    </tr>\n",
       "    <tr>\n",
       "      <th>9</th>\n",
       "      <td>high school graduate</td>\n",
       "      <td>blue collar</td>\n",
       "      <td>&gt;50k</td>\n",
       "      <td>796</td>\n",
       "    </tr>\n",
       "    <tr>\n",
       "      <th>10</th>\n",
       "      <td>high school graduate</td>\n",
       "      <td>military</td>\n",
       "      <td>&lt;=50k</td>\n",
       "      <td>4</td>\n",
       "    </tr>\n",
       "    <tr>\n",
       "      <th>11</th>\n",
       "      <td>high school graduate</td>\n",
       "      <td>service</td>\n",
       "      <td>&lt;=50k</td>\n",
       "      <td>1444</td>\n",
       "    </tr>\n",
       "    <tr>\n",
       "      <th>12</th>\n",
       "      <td>high school graduate</td>\n",
       "      <td>service</td>\n",
       "      <td>&gt;50k</td>\n",
       "      <td>100</td>\n",
       "    </tr>\n",
       "    <tr>\n",
       "      <th>13</th>\n",
       "      <td>high school graduate</td>\n",
       "      <td>white collar</td>\n",
       "      <td>&lt;=50k</td>\n",
       "      <td>2031</td>\n",
       "    </tr>\n",
       "    <tr>\n",
       "      <th>14</th>\n",
       "      <td>high school graduate</td>\n",
       "      <td>white collar</td>\n",
       "      <td>&gt;50k</td>\n",
       "      <td>531</td>\n",
       "    </tr>\n",
       "    <tr>\n",
       "      <th>15</th>\n",
       "      <td>high school graduate</td>\n",
       "      <td>white collar</td>\n",
       "      <td>&lt;=50k</td>\n",
       "      <td>869</td>\n",
       "    </tr>\n",
       "    <tr>\n",
       "      <th>16</th>\n",
       "      <td>high school graduate</td>\n",
       "      <td>white collar</td>\n",
       "      <td>&gt;50k</td>\n",
       "      <td>200</td>\n",
       "    </tr>\n",
       "    <tr>\n",
       "      <th>17</th>\n",
       "      <td>preschool</td>\n",
       "      <td>blue collar</td>\n",
       "      <td>&lt;=50k</td>\n",
       "      <td>25</td>\n",
       "    </tr>\n",
       "    <tr>\n",
       "      <th>18</th>\n",
       "      <td>preschool</td>\n",
       "      <td>service</td>\n",
       "      <td>&lt;=50k</td>\n",
       "      <td>17</td>\n",
       "    </tr>\n",
       "    <tr>\n",
       "      <th>19</th>\n",
       "      <td>preschool</td>\n",
       "      <td>white collar</td>\n",
       "      <td>&lt;=50k</td>\n",
       "      <td>3</td>\n",
       "    </tr>\n",
       "    <tr>\n",
       "      <th>20</th>\n",
       "      <td>primary</td>\n",
       "      <td>blue collar</td>\n",
       "      <td>&lt;=50k</td>\n",
       "      <td>634</td>\n",
       "    </tr>\n",
       "    <tr>\n",
       "      <th>21</th>\n",
       "      <td>primary</td>\n",
       "      <td>blue collar</td>\n",
       "      <td>&gt;50k</td>\n",
       "      <td>40</td>\n",
       "    </tr>\n",
       "    <tr>\n",
       "      <th>22</th>\n",
       "      <td>primary</td>\n",
       "      <td>service</td>\n",
       "      <td>&lt;=50k</td>\n",
       "      <td>243</td>\n",
       "    </tr>\n",
       "    <tr>\n",
       "      <th>23</th>\n",
       "      <td>primary</td>\n",
       "      <td>service</td>\n",
       "      <td>&gt;50k</td>\n",
       "      <td>1</td>\n",
       "    </tr>\n",
       "    <tr>\n",
       "      <th>24</th>\n",
       "      <td>primary</td>\n",
       "      <td>white collar</td>\n",
       "      <td>&lt;=50k</td>\n",
       "      <td>51</td>\n",
       "    </tr>\n",
       "    <tr>\n",
       "      <th>25</th>\n",
       "      <td>primary</td>\n",
       "      <td>white collar</td>\n",
       "      <td>&gt;50k</td>\n",
       "      <td>10</td>\n",
       "    </tr>\n",
       "    <tr>\n",
       "      <th>26</th>\n",
       "      <td>primary</td>\n",
       "      <td>white collar</td>\n",
       "      <td>&lt;=50k</td>\n",
       "      <td>42</td>\n",
       "    </tr>\n",
       "    <tr>\n",
       "      <th>27</th>\n",
       "      <td>primary</td>\n",
       "      <td>white collar</td>\n",
       "      <td>&gt;50k</td>\n",
       "      <td>7</td>\n",
       "    </tr>\n",
       "    <tr>\n",
       "      <th>28</th>\n",
       "      <td>secondary</td>\n",
       "      <td>blue collar</td>\n",
       "      <td>&lt;=50k</td>\n",
       "      <td>1349</td>\n",
       "    </tr>\n",
       "    <tr>\n",
       "      <th>29</th>\n",
       "      <td>secondary</td>\n",
       "      <td>blue collar</td>\n",
       "      <td>&gt;50k</td>\n",
       "      <td>116</td>\n",
       "    </tr>\n",
       "    <tr>\n",
       "      <th>30</th>\n",
       "      <td>secondary</td>\n",
       "      <td>military</td>\n",
       "      <td>&lt;=50k</td>\n",
       "      <td>1</td>\n",
       "    </tr>\n",
       "    <tr>\n",
       "      <th>31</th>\n",
       "      <td>secondary</td>\n",
       "      <td>service</td>\n",
       "      <td>&lt;=50k</td>\n",
       "      <td>663</td>\n",
       "    </tr>\n",
       "    <tr>\n",
       "      <th>32</th>\n",
       "      <td>secondary</td>\n",
       "      <td>service</td>\n",
       "      <td>&gt;50k</td>\n",
       "      <td>12</td>\n",
       "    </tr>\n",
       "    <tr>\n",
       "      <th>33</th>\n",
       "      <td>secondary</td>\n",
       "      <td>white collar</td>\n",
       "      <td>&lt;=50k</td>\n",
       "      <td>266</td>\n",
       "    </tr>\n",
       "    <tr>\n",
       "      <th>34</th>\n",
       "      <td>secondary</td>\n",
       "      <td>white collar</td>\n",
       "      <td>&gt;50k</td>\n",
       "      <td>31</td>\n",
       "    </tr>\n",
       "    <tr>\n",
       "      <th>35</th>\n",
       "      <td>secondary</td>\n",
       "      <td>white collar</td>\n",
       "      <td>&lt;=50k</td>\n",
       "      <td>286</td>\n",
       "    </tr>\n",
       "    <tr>\n",
       "      <th>36</th>\n",
       "      <td>secondary</td>\n",
       "      <td>white collar</td>\n",
       "      <td>&gt;50k</td>\n",
       "      <td>18</td>\n",
       "    </tr>\n",
       "    <tr>\n",
       "      <th>37</th>\n",
       "      <td>some college</td>\n",
       "      <td>blue collar</td>\n",
       "      <td>&lt;=50k</td>\n",
       "      <td>1503</td>\n",
       "    </tr>\n",
       "    <tr>\n",
       "      <th>38</th>\n",
       "      <td>some college</td>\n",
       "      <td>blue collar</td>\n",
       "      <td>&gt;50k</td>\n",
       "      <td>397</td>\n",
       "    </tr>\n",
       "    <tr>\n",
       "      <th>39</th>\n",
       "      <td>some college</td>\n",
       "      <td>military</td>\n",
       "      <td>&lt;=50k</td>\n",
       "      <td>2</td>\n",
       "    </tr>\n",
       "    <tr>\n",
       "      <th>40</th>\n",
       "      <td>some college</td>\n",
       "      <td>service</td>\n",
       "      <td>&lt;=50k</td>\n",
       "      <td>902</td>\n",
       "    </tr>\n",
       "    <tr>\n",
       "      <th>41</th>\n",
       "      <td>some college</td>\n",
       "      <td>service</td>\n",
       "      <td>&gt;50k</td>\n",
       "      <td>95</td>\n",
       "    </tr>\n",
       "    <tr>\n",
       "      <th>42</th>\n",
       "      <td>some college</td>\n",
       "      <td>white collar</td>\n",
       "      <td>&lt;=50k</td>\n",
       "      <td>2209</td>\n",
       "    </tr>\n",
       "    <tr>\n",
       "      <th>43</th>\n",
       "      <td>some college</td>\n",
       "      <td>white collar</td>\n",
       "      <td>&gt;50k</td>\n",
       "      <td>645</td>\n",
       "    </tr>\n",
       "    <tr>\n",
       "      <th>44</th>\n",
       "      <td>some college</td>\n",
       "      <td>white collar</td>\n",
       "      <td>&lt;=50k</td>\n",
       "      <td>795</td>\n",
       "    </tr>\n",
       "    <tr>\n",
       "      <th>45</th>\n",
       "      <td>some college</td>\n",
       "      <td>white collar</td>\n",
       "      <td>&gt;50k</td>\n",
       "      <td>214</td>\n",
       "    </tr>\n",
       "    <tr>\n",
       "      <th>46</th>\n",
       "      <td>tertiary</td>\n",
       "      <td>blue collar</td>\n",
       "      <td>&lt;=50k</td>\n",
       "      <td>375</td>\n",
       "    </tr>\n",
       "    <tr>\n",
       "      <th>47</th>\n",
       "      <td>tertiary</td>\n",
       "      <td>blue collar</td>\n",
       "      <td>&gt;50k</td>\n",
       "      <td>183</td>\n",
       "    </tr>\n",
       "    <tr>\n",
       "      <th>48</th>\n",
       "      <td>tertiary</td>\n",
       "      <td>military</td>\n",
       "      <td>&lt;=50k</td>\n",
       "      <td>1</td>\n",
       "    </tr>\n",
       "    <tr>\n",
       "      <th>49</th>\n",
       "      <td>tertiary</td>\n",
       "      <td>military</td>\n",
       "      <td>&gt;50k</td>\n",
       "      <td>1</td>\n",
       "    </tr>\n",
       "    <tr>\n",
       "      <th>50</th>\n",
       "      <td>tertiary</td>\n",
       "      <td>service</td>\n",
       "      <td>&lt;=50k</td>\n",
       "      <td>232</td>\n",
       "    </tr>\n",
       "    <tr>\n",
       "      <th>51</th>\n",
       "      <td>tertiary</td>\n",
       "      <td>service</td>\n",
       "      <td>&gt;50k</td>\n",
       "      <td>97</td>\n",
       "    </tr>\n",
       "    <tr>\n",
       "      <th>52</th>\n",
       "      <td>tertiary</td>\n",
       "      <td>white collar</td>\n",
       "      <td>&lt;=50k</td>\n",
       "      <td>2879</td>\n",
       "    </tr>\n",
       "    <tr>\n",
       "      <th>53</th>\n",
       "      <td>tertiary</td>\n",
       "      <td>white collar</td>\n",
       "      <td>&gt;50k</td>\n",
       "      <td>3067</td>\n",
       "    </tr>\n",
       "    <tr>\n",
       "      <th>54</th>\n",
       "      <td>tertiary</td>\n",
       "      <td>white collar</td>\n",
       "      <td>&lt;=50k</td>\n",
       "      <td>491</td>\n",
       "    </tr>\n",
       "    <tr>\n",
       "      <th>55</th>\n",
       "      <td>tertiary</td>\n",
       "      <td>white collar</td>\n",
       "      <td>&gt;50k</td>\n",
       "      <td>478</td>\n",
       "    </tr>\n",
       "  </tbody>\n",
       "</table>\n",
       "</div>"
      ],
      "text/plain": [
       "         education_level occupation_grouped income  total_income_distr\n",
       "0              associate        blue collar  <=50k                 482\n",
       "1              associate        blue collar   >50k                 166\n",
       "2              associate            service  <=50k                 237\n",
       "3              associate            service   >50k                  44\n",
       "4              associate       white collar  <=50k                 831\n",
       "5              associate       white collar   >50k                 331\n",
       "6              associate      white collar   <=50k                 184\n",
       "7              associate      white collar    >50k                  66\n",
       "8   high school graduate        blue collar  <=50k                3976\n",
       "9   high school graduate        blue collar   >50k                 796\n",
       "10  high school graduate           military  <=50k                   4\n",
       "11  high school graduate            service  <=50k                1444\n",
       "12  high school graduate            service   >50k                 100\n",
       "13  high school graduate       white collar  <=50k                2031\n",
       "14  high school graduate       white collar   >50k                 531\n",
       "15  high school graduate      white collar   <=50k                 869\n",
       "16  high school graduate      white collar    >50k                 200\n",
       "17             preschool        blue collar  <=50k                  25\n",
       "18             preschool            service  <=50k                  17\n",
       "19             preschool       white collar  <=50k                   3\n",
       "20               primary        blue collar  <=50k                 634\n",
       "21               primary        blue collar   >50k                  40\n",
       "22               primary            service  <=50k                 243\n",
       "23               primary            service   >50k                   1\n",
       "24               primary       white collar  <=50k                  51\n",
       "25               primary       white collar   >50k                  10\n",
       "26               primary      white collar   <=50k                  42\n",
       "27               primary      white collar    >50k                   7\n",
       "28             secondary        blue collar  <=50k                1349\n",
       "29             secondary        blue collar   >50k                 116\n",
       "30             secondary           military  <=50k                   1\n",
       "31             secondary            service  <=50k                 663\n",
       "32             secondary            service   >50k                  12\n",
       "33             secondary       white collar  <=50k                 266\n",
       "34             secondary       white collar   >50k                  31\n",
       "35             secondary      white collar   <=50k                 286\n",
       "36             secondary      white collar    >50k                  18\n",
       "37          some college        blue collar  <=50k                1503\n",
       "38          some college        blue collar   >50k                 397\n",
       "39          some college           military  <=50k                   2\n",
       "40          some college            service  <=50k                 902\n",
       "41          some college            service   >50k                  95\n",
       "42          some college       white collar  <=50k                2209\n",
       "43          some college       white collar   >50k                 645\n",
       "44          some college      white collar   <=50k                 795\n",
       "45          some college      white collar    >50k                 214\n",
       "46              tertiary        blue collar  <=50k                 375\n",
       "47              tertiary        blue collar   >50k                 183\n",
       "48              tertiary           military  <=50k                   1\n",
       "49              tertiary           military   >50k                   1\n",
       "50              tertiary            service  <=50k                 232\n",
       "51              tertiary            service   >50k                  97\n",
       "52              tertiary       white collar  <=50k                2879\n",
       "53              tertiary       white collar   >50k                3067\n",
       "54              tertiary      white collar   <=50k                 491\n",
       "55              tertiary      white collar    >50k                 478"
      ]
     },
     "execution_count": 105,
     "metadata": {},
     "output_type": "execute_result"
    }
   ],
   "source": [
    "adult_df_income_educ_occ = adult_df.groupby(['education_level','occupation_grouped','income']).size().reset_index(name='total_income_distr')\n",
    "adult_df_income_educ_occ"
   ]
  },
  {
   "cell_type": "code",
   "execution_count": null,
   "id": "7aaca19e-ab22-4a95-83c4-9faa75823d13",
   "metadata": {},
   "outputs": [],
   "source": []
  },
  {
   "cell_type": "code",
   "execution_count": 107,
   "id": "bd3a2aef-7e07-4e6d-991c-aeef7bba3631",
   "metadata": {},
   "outputs": [
    {
     "data": {
      "text/html": [
       "<div>\n",
       "<style scoped>\n",
       "    .dataframe tbody tr th:only-of-type {\n",
       "        vertical-align: middle;\n",
       "    }\n",
       "\n",
       "    .dataframe tbody tr th {\n",
       "        vertical-align: top;\n",
       "    }\n",
       "\n",
       "    .dataframe thead th {\n",
       "        text-align: right;\n",
       "    }\n",
       "</style>\n",
       "<table border=\"1\" class=\"dataframe\">\n",
       "  <thead>\n",
       "    <tr style=\"text-align: right;\">\n",
       "      <th></th>\n",
       "      <th>education_level</th>\n",
       "      <th>occupation_grouped</th>\n",
       "      <th>income</th>\n",
       "      <th>total_income_distr</th>\n",
       "      <th>edu_occ</th>\n",
       "    </tr>\n",
       "  </thead>\n",
       "  <tbody>\n",
       "    <tr>\n",
       "      <th>0</th>\n",
       "      <td>associate</td>\n",
       "      <td>blue collar</td>\n",
       "      <td>&lt;=50k</td>\n",
       "      <td>482</td>\n",
       "      <td>associate | blue collar</td>\n",
       "    </tr>\n",
       "    <tr>\n",
       "      <th>1</th>\n",
       "      <td>associate</td>\n",
       "      <td>blue collar</td>\n",
       "      <td>&gt;50k</td>\n",
       "      <td>166</td>\n",
       "      <td>associate | blue collar</td>\n",
       "    </tr>\n",
       "    <tr>\n",
       "      <th>2</th>\n",
       "      <td>associate</td>\n",
       "      <td>service</td>\n",
       "      <td>&lt;=50k</td>\n",
       "      <td>237</td>\n",
       "      <td>associate | service</td>\n",
       "    </tr>\n",
       "    <tr>\n",
       "      <th>3</th>\n",
       "      <td>associate</td>\n",
       "      <td>service</td>\n",
       "      <td>&gt;50k</td>\n",
       "      <td>44</td>\n",
       "      <td>associate | service</td>\n",
       "    </tr>\n",
       "    <tr>\n",
       "      <th>4</th>\n",
       "      <td>associate</td>\n",
       "      <td>white collar</td>\n",
       "      <td>&lt;=50k</td>\n",
       "      <td>831</td>\n",
       "      <td>associate | white collar</td>\n",
       "    </tr>\n",
       "    <tr>\n",
       "      <th>5</th>\n",
       "      <td>associate</td>\n",
       "      <td>white collar</td>\n",
       "      <td>&gt;50k</td>\n",
       "      <td>331</td>\n",
       "      <td>associate | white collar</td>\n",
       "    </tr>\n",
       "    <tr>\n",
       "      <th>6</th>\n",
       "      <td>associate</td>\n",
       "      <td>white collar</td>\n",
       "      <td>&lt;=50k</td>\n",
       "      <td>184</td>\n",
       "      <td>associate | white collar</td>\n",
       "    </tr>\n",
       "    <tr>\n",
       "      <th>7</th>\n",
       "      <td>associate</td>\n",
       "      <td>white collar</td>\n",
       "      <td>&gt;50k</td>\n",
       "      <td>66</td>\n",
       "      <td>associate | white collar</td>\n",
       "    </tr>\n",
       "    <tr>\n",
       "      <th>8</th>\n",
       "      <td>high school graduate</td>\n",
       "      <td>blue collar</td>\n",
       "      <td>&lt;=50k</td>\n",
       "      <td>3976</td>\n",
       "      <td>high school graduate | blue collar</td>\n",
       "    </tr>\n",
       "    <tr>\n",
       "      <th>9</th>\n",
       "      <td>high school graduate</td>\n",
       "      <td>blue collar</td>\n",
       "      <td>&gt;50k</td>\n",
       "      <td>796</td>\n",
       "      <td>high school graduate | blue collar</td>\n",
       "    </tr>\n",
       "    <tr>\n",
       "      <th>10</th>\n",
       "      <td>high school graduate</td>\n",
       "      <td>military</td>\n",
       "      <td>&lt;=50k</td>\n",
       "      <td>4</td>\n",
       "      <td>high school graduate | military</td>\n",
       "    </tr>\n",
       "    <tr>\n",
       "      <th>11</th>\n",
       "      <td>high school graduate</td>\n",
       "      <td>service</td>\n",
       "      <td>&lt;=50k</td>\n",
       "      <td>1444</td>\n",
       "      <td>high school graduate | service</td>\n",
       "    </tr>\n",
       "    <tr>\n",
       "      <th>12</th>\n",
       "      <td>high school graduate</td>\n",
       "      <td>service</td>\n",
       "      <td>&gt;50k</td>\n",
       "      <td>100</td>\n",
       "      <td>high school graduate | service</td>\n",
       "    </tr>\n",
       "    <tr>\n",
       "      <th>13</th>\n",
       "      <td>high school graduate</td>\n",
       "      <td>white collar</td>\n",
       "      <td>&lt;=50k</td>\n",
       "      <td>2031</td>\n",
       "      <td>high school graduate | white collar</td>\n",
       "    </tr>\n",
       "    <tr>\n",
       "      <th>14</th>\n",
       "      <td>high school graduate</td>\n",
       "      <td>white collar</td>\n",
       "      <td>&gt;50k</td>\n",
       "      <td>531</td>\n",
       "      <td>high school graduate | white collar</td>\n",
       "    </tr>\n",
       "    <tr>\n",
       "      <th>15</th>\n",
       "      <td>high school graduate</td>\n",
       "      <td>white collar</td>\n",
       "      <td>&lt;=50k</td>\n",
       "      <td>869</td>\n",
       "      <td>high school graduate | white collar</td>\n",
       "    </tr>\n",
       "    <tr>\n",
       "      <th>16</th>\n",
       "      <td>high school graduate</td>\n",
       "      <td>white collar</td>\n",
       "      <td>&gt;50k</td>\n",
       "      <td>200</td>\n",
       "      <td>high school graduate | white collar</td>\n",
       "    </tr>\n",
       "    <tr>\n",
       "      <th>17</th>\n",
       "      <td>preschool</td>\n",
       "      <td>blue collar</td>\n",
       "      <td>&lt;=50k</td>\n",
       "      <td>25</td>\n",
       "      <td>preschool | blue collar</td>\n",
       "    </tr>\n",
       "    <tr>\n",
       "      <th>18</th>\n",
       "      <td>preschool</td>\n",
       "      <td>service</td>\n",
       "      <td>&lt;=50k</td>\n",
       "      <td>17</td>\n",
       "      <td>preschool | service</td>\n",
       "    </tr>\n",
       "    <tr>\n",
       "      <th>19</th>\n",
       "      <td>preschool</td>\n",
       "      <td>white collar</td>\n",
       "      <td>&lt;=50k</td>\n",
       "      <td>3</td>\n",
       "      <td>preschool | white collar</td>\n",
       "    </tr>\n",
       "    <tr>\n",
       "      <th>20</th>\n",
       "      <td>primary</td>\n",
       "      <td>blue collar</td>\n",
       "      <td>&lt;=50k</td>\n",
       "      <td>634</td>\n",
       "      <td>primary | blue collar</td>\n",
       "    </tr>\n",
       "    <tr>\n",
       "      <th>21</th>\n",
       "      <td>primary</td>\n",
       "      <td>blue collar</td>\n",
       "      <td>&gt;50k</td>\n",
       "      <td>40</td>\n",
       "      <td>primary | blue collar</td>\n",
       "    </tr>\n",
       "    <tr>\n",
       "      <th>22</th>\n",
       "      <td>primary</td>\n",
       "      <td>service</td>\n",
       "      <td>&lt;=50k</td>\n",
       "      <td>243</td>\n",
       "      <td>primary | service</td>\n",
       "    </tr>\n",
       "    <tr>\n",
       "      <th>23</th>\n",
       "      <td>primary</td>\n",
       "      <td>service</td>\n",
       "      <td>&gt;50k</td>\n",
       "      <td>1</td>\n",
       "      <td>primary | service</td>\n",
       "    </tr>\n",
       "    <tr>\n",
       "      <th>24</th>\n",
       "      <td>primary</td>\n",
       "      <td>white collar</td>\n",
       "      <td>&lt;=50k</td>\n",
       "      <td>51</td>\n",
       "      <td>primary | white collar</td>\n",
       "    </tr>\n",
       "    <tr>\n",
       "      <th>25</th>\n",
       "      <td>primary</td>\n",
       "      <td>white collar</td>\n",
       "      <td>&gt;50k</td>\n",
       "      <td>10</td>\n",
       "      <td>primary | white collar</td>\n",
       "    </tr>\n",
       "    <tr>\n",
       "      <th>26</th>\n",
       "      <td>primary</td>\n",
       "      <td>white collar</td>\n",
       "      <td>&lt;=50k</td>\n",
       "      <td>42</td>\n",
       "      <td>primary | white collar</td>\n",
       "    </tr>\n",
       "    <tr>\n",
       "      <th>27</th>\n",
       "      <td>primary</td>\n",
       "      <td>white collar</td>\n",
       "      <td>&gt;50k</td>\n",
       "      <td>7</td>\n",
       "      <td>primary | white collar</td>\n",
       "    </tr>\n",
       "    <tr>\n",
       "      <th>28</th>\n",
       "      <td>secondary</td>\n",
       "      <td>blue collar</td>\n",
       "      <td>&lt;=50k</td>\n",
       "      <td>1349</td>\n",
       "      <td>secondary | blue collar</td>\n",
       "    </tr>\n",
       "    <tr>\n",
       "      <th>29</th>\n",
       "      <td>secondary</td>\n",
       "      <td>blue collar</td>\n",
       "      <td>&gt;50k</td>\n",
       "      <td>116</td>\n",
       "      <td>secondary | blue collar</td>\n",
       "    </tr>\n",
       "    <tr>\n",
       "      <th>30</th>\n",
       "      <td>secondary</td>\n",
       "      <td>military</td>\n",
       "      <td>&lt;=50k</td>\n",
       "      <td>1</td>\n",
       "      <td>secondary | military</td>\n",
       "    </tr>\n",
       "    <tr>\n",
       "      <th>31</th>\n",
       "      <td>secondary</td>\n",
       "      <td>service</td>\n",
       "      <td>&lt;=50k</td>\n",
       "      <td>663</td>\n",
       "      <td>secondary | service</td>\n",
       "    </tr>\n",
       "    <tr>\n",
       "      <th>32</th>\n",
       "      <td>secondary</td>\n",
       "      <td>service</td>\n",
       "      <td>&gt;50k</td>\n",
       "      <td>12</td>\n",
       "      <td>secondary | service</td>\n",
       "    </tr>\n",
       "    <tr>\n",
       "      <th>33</th>\n",
       "      <td>secondary</td>\n",
       "      <td>white collar</td>\n",
       "      <td>&lt;=50k</td>\n",
       "      <td>266</td>\n",
       "      <td>secondary | white collar</td>\n",
       "    </tr>\n",
       "    <tr>\n",
       "      <th>34</th>\n",
       "      <td>secondary</td>\n",
       "      <td>white collar</td>\n",
       "      <td>&gt;50k</td>\n",
       "      <td>31</td>\n",
       "      <td>secondary | white collar</td>\n",
       "    </tr>\n",
       "    <tr>\n",
       "      <th>35</th>\n",
       "      <td>secondary</td>\n",
       "      <td>white collar</td>\n",
       "      <td>&lt;=50k</td>\n",
       "      <td>286</td>\n",
       "      <td>secondary | white collar</td>\n",
       "    </tr>\n",
       "    <tr>\n",
       "      <th>36</th>\n",
       "      <td>secondary</td>\n",
       "      <td>white collar</td>\n",
       "      <td>&gt;50k</td>\n",
       "      <td>18</td>\n",
       "      <td>secondary | white collar</td>\n",
       "    </tr>\n",
       "    <tr>\n",
       "      <th>37</th>\n",
       "      <td>some college</td>\n",
       "      <td>blue collar</td>\n",
       "      <td>&lt;=50k</td>\n",
       "      <td>1503</td>\n",
       "      <td>some college | blue collar</td>\n",
       "    </tr>\n",
       "    <tr>\n",
       "      <th>38</th>\n",
       "      <td>some college</td>\n",
       "      <td>blue collar</td>\n",
       "      <td>&gt;50k</td>\n",
       "      <td>397</td>\n",
       "      <td>some college | blue collar</td>\n",
       "    </tr>\n",
       "    <tr>\n",
       "      <th>39</th>\n",
       "      <td>some college</td>\n",
       "      <td>military</td>\n",
       "      <td>&lt;=50k</td>\n",
       "      <td>2</td>\n",
       "      <td>some college | military</td>\n",
       "    </tr>\n",
       "    <tr>\n",
       "      <th>40</th>\n",
       "      <td>some college</td>\n",
       "      <td>service</td>\n",
       "      <td>&lt;=50k</td>\n",
       "      <td>902</td>\n",
       "      <td>some college | service</td>\n",
       "    </tr>\n",
       "    <tr>\n",
       "      <th>41</th>\n",
       "      <td>some college</td>\n",
       "      <td>service</td>\n",
       "      <td>&gt;50k</td>\n",
       "      <td>95</td>\n",
       "      <td>some college | service</td>\n",
       "    </tr>\n",
       "    <tr>\n",
       "      <th>42</th>\n",
       "      <td>some college</td>\n",
       "      <td>white collar</td>\n",
       "      <td>&lt;=50k</td>\n",
       "      <td>2209</td>\n",
       "      <td>some college | white collar</td>\n",
       "    </tr>\n",
       "    <tr>\n",
       "      <th>43</th>\n",
       "      <td>some college</td>\n",
       "      <td>white collar</td>\n",
       "      <td>&gt;50k</td>\n",
       "      <td>645</td>\n",
       "      <td>some college | white collar</td>\n",
       "    </tr>\n",
       "    <tr>\n",
       "      <th>44</th>\n",
       "      <td>some college</td>\n",
       "      <td>white collar</td>\n",
       "      <td>&lt;=50k</td>\n",
       "      <td>795</td>\n",
       "      <td>some college | white collar</td>\n",
       "    </tr>\n",
       "    <tr>\n",
       "      <th>45</th>\n",
       "      <td>some college</td>\n",
       "      <td>white collar</td>\n",
       "      <td>&gt;50k</td>\n",
       "      <td>214</td>\n",
       "      <td>some college | white collar</td>\n",
       "    </tr>\n",
       "    <tr>\n",
       "      <th>46</th>\n",
       "      <td>tertiary</td>\n",
       "      <td>blue collar</td>\n",
       "      <td>&lt;=50k</td>\n",
       "      <td>375</td>\n",
       "      <td>tertiary | blue collar</td>\n",
       "    </tr>\n",
       "    <tr>\n",
       "      <th>47</th>\n",
       "      <td>tertiary</td>\n",
       "      <td>blue collar</td>\n",
       "      <td>&gt;50k</td>\n",
       "      <td>183</td>\n",
       "      <td>tertiary | blue collar</td>\n",
       "    </tr>\n",
       "    <tr>\n",
       "      <th>48</th>\n",
       "      <td>tertiary</td>\n",
       "      <td>military</td>\n",
       "      <td>&lt;=50k</td>\n",
       "      <td>1</td>\n",
       "      <td>tertiary | military</td>\n",
       "    </tr>\n",
       "    <tr>\n",
       "      <th>49</th>\n",
       "      <td>tertiary</td>\n",
       "      <td>military</td>\n",
       "      <td>&gt;50k</td>\n",
       "      <td>1</td>\n",
       "      <td>tertiary | military</td>\n",
       "    </tr>\n",
       "    <tr>\n",
       "      <th>50</th>\n",
       "      <td>tertiary</td>\n",
       "      <td>service</td>\n",
       "      <td>&lt;=50k</td>\n",
       "      <td>232</td>\n",
       "      <td>tertiary | service</td>\n",
       "    </tr>\n",
       "    <tr>\n",
       "      <th>51</th>\n",
       "      <td>tertiary</td>\n",
       "      <td>service</td>\n",
       "      <td>&gt;50k</td>\n",
       "      <td>97</td>\n",
       "      <td>tertiary | service</td>\n",
       "    </tr>\n",
       "    <tr>\n",
       "      <th>52</th>\n",
       "      <td>tertiary</td>\n",
       "      <td>white collar</td>\n",
       "      <td>&lt;=50k</td>\n",
       "      <td>2879</td>\n",
       "      <td>tertiary | white collar</td>\n",
       "    </tr>\n",
       "    <tr>\n",
       "      <th>53</th>\n",
       "      <td>tertiary</td>\n",
       "      <td>white collar</td>\n",
       "      <td>&gt;50k</td>\n",
       "      <td>3067</td>\n",
       "      <td>tertiary | white collar</td>\n",
       "    </tr>\n",
       "    <tr>\n",
       "      <th>54</th>\n",
       "      <td>tertiary</td>\n",
       "      <td>white collar</td>\n",
       "      <td>&lt;=50k</td>\n",
       "      <td>491</td>\n",
       "      <td>tertiary | white collar</td>\n",
       "    </tr>\n",
       "    <tr>\n",
       "      <th>55</th>\n",
       "      <td>tertiary</td>\n",
       "      <td>white collar</td>\n",
       "      <td>&gt;50k</td>\n",
       "      <td>478</td>\n",
       "      <td>tertiary | white collar</td>\n",
       "    </tr>\n",
       "  </tbody>\n",
       "</table>\n",
       "</div>"
      ],
      "text/plain": [
       "         education_level occupation_grouped income  total_income_distr  \\\n",
       "0              associate        blue collar  <=50k                 482   \n",
       "1              associate        blue collar   >50k                 166   \n",
       "2              associate            service  <=50k                 237   \n",
       "3              associate            service   >50k                  44   \n",
       "4              associate       white collar  <=50k                 831   \n",
       "5              associate       white collar   >50k                 331   \n",
       "6              associate      white collar   <=50k                 184   \n",
       "7              associate      white collar    >50k                  66   \n",
       "8   high school graduate        blue collar  <=50k                3976   \n",
       "9   high school graduate        blue collar   >50k                 796   \n",
       "10  high school graduate           military  <=50k                   4   \n",
       "11  high school graduate            service  <=50k                1444   \n",
       "12  high school graduate            service   >50k                 100   \n",
       "13  high school graduate       white collar  <=50k                2031   \n",
       "14  high school graduate       white collar   >50k                 531   \n",
       "15  high school graduate      white collar   <=50k                 869   \n",
       "16  high school graduate      white collar    >50k                 200   \n",
       "17             preschool        blue collar  <=50k                  25   \n",
       "18             preschool            service  <=50k                  17   \n",
       "19             preschool       white collar  <=50k                   3   \n",
       "20               primary        blue collar  <=50k                 634   \n",
       "21               primary        blue collar   >50k                  40   \n",
       "22               primary            service  <=50k                 243   \n",
       "23               primary            service   >50k                   1   \n",
       "24               primary       white collar  <=50k                  51   \n",
       "25               primary       white collar   >50k                  10   \n",
       "26               primary      white collar   <=50k                  42   \n",
       "27               primary      white collar    >50k                   7   \n",
       "28             secondary        blue collar  <=50k                1349   \n",
       "29             secondary        blue collar   >50k                 116   \n",
       "30             secondary           military  <=50k                   1   \n",
       "31             secondary            service  <=50k                 663   \n",
       "32             secondary            service   >50k                  12   \n",
       "33             secondary       white collar  <=50k                 266   \n",
       "34             secondary       white collar   >50k                  31   \n",
       "35             secondary      white collar   <=50k                 286   \n",
       "36             secondary      white collar    >50k                  18   \n",
       "37          some college        blue collar  <=50k                1503   \n",
       "38          some college        blue collar   >50k                 397   \n",
       "39          some college           military  <=50k                   2   \n",
       "40          some college            service  <=50k                 902   \n",
       "41          some college            service   >50k                  95   \n",
       "42          some college       white collar  <=50k                2209   \n",
       "43          some college       white collar   >50k                 645   \n",
       "44          some college      white collar   <=50k                 795   \n",
       "45          some college      white collar    >50k                 214   \n",
       "46              tertiary        blue collar  <=50k                 375   \n",
       "47              tertiary        blue collar   >50k                 183   \n",
       "48              tertiary           military  <=50k                   1   \n",
       "49              tertiary           military   >50k                   1   \n",
       "50              tertiary            service  <=50k                 232   \n",
       "51              tertiary            service   >50k                  97   \n",
       "52              tertiary       white collar  <=50k                2879   \n",
       "53              tertiary       white collar   >50k                3067   \n",
       "54              tertiary      white collar   <=50k                 491   \n",
       "55              tertiary      white collar    >50k                 478   \n",
       "\n",
       "                                 edu_occ  \n",
       "0                associate | blue collar  \n",
       "1                associate | blue collar  \n",
       "2                    associate | service  \n",
       "3                    associate | service  \n",
       "4               associate | white collar  \n",
       "5               associate | white collar  \n",
       "6              associate | white collar   \n",
       "7              associate | white collar   \n",
       "8     high school graduate | blue collar  \n",
       "9     high school graduate | blue collar  \n",
       "10       high school graduate | military  \n",
       "11        high school graduate | service  \n",
       "12        high school graduate | service  \n",
       "13   high school graduate | white collar  \n",
       "14   high school graduate | white collar  \n",
       "15  high school graduate | white collar   \n",
       "16  high school graduate | white collar   \n",
       "17               preschool | blue collar  \n",
       "18                   preschool | service  \n",
       "19              preschool | white collar  \n",
       "20                 primary | blue collar  \n",
       "21                 primary | blue collar  \n",
       "22                     primary | service  \n",
       "23                     primary | service  \n",
       "24                primary | white collar  \n",
       "25                primary | white collar  \n",
       "26               primary | white collar   \n",
       "27               primary | white collar   \n",
       "28               secondary | blue collar  \n",
       "29               secondary | blue collar  \n",
       "30                  secondary | military  \n",
       "31                   secondary | service  \n",
       "32                   secondary | service  \n",
       "33              secondary | white collar  \n",
       "34              secondary | white collar  \n",
       "35             secondary | white collar   \n",
       "36             secondary | white collar   \n",
       "37            some college | blue collar  \n",
       "38            some college | blue collar  \n",
       "39               some college | military  \n",
       "40                some college | service  \n",
       "41                some college | service  \n",
       "42           some college | white collar  \n",
       "43           some college | white collar  \n",
       "44          some college | white collar   \n",
       "45          some college | white collar   \n",
       "46                tertiary | blue collar  \n",
       "47                tertiary | blue collar  \n",
       "48                   tertiary | military  \n",
       "49                   tertiary | military  \n",
       "50                    tertiary | service  \n",
       "51                    tertiary | service  \n",
       "52               tertiary | white collar  \n",
       "53               tertiary | white collar  \n",
       "54              tertiary | white collar   \n",
       "55              tertiary | white collar   "
      ]
     },
     "execution_count": 107,
     "metadata": {},
     "output_type": "execute_result"
    }
   ],
   "source": [
    "adult_df_income_educ_occ['edu_occ'] = (adult_df_income_educ_occ['education_level'] + ' | ' + adult_df_income_educ_occ['occupation_grouped'])\n",
    "adult_df_income_educ_occ"
   ]
  },
  {
   "cell_type": "code",
   "execution_count": 116,
   "id": "83d566cb-4b50-48bd-9ad6-97285e822674",
   "metadata": {},
   "outputs": [
    {
     "data": {
      "application/vnd.plotly.v1+json": {
       "config": {
        "plotlyServerURL": "https://plot.ly"
       },
       "data": [
        {
         "alignmentgroup": "True",
         "hovertemplate": "income=<=50k<br>total_income_distr=%{text}<br>edu_occ=%{y}<extra></extra>",
         "legendgroup": "<=50k",
         "marker": {
          "color": "rgb(103,0,31)",
          "pattern": {
           "shape": ""
          }
         },
         "name": "<=50k",
         "offsetgroup": "<=50k",
         "orientation": "h",
         "showlegend": true,
         "text": {
          "_inputArray": {
           "0": 482,
           "1": 237,
           "2": 831,
           "3": 184,
           "4": 3976,
           "5": 4,
           "6": 1444,
           "7": 2031,
           "bdata": "AAAAAAAgfkAAAAAAAKBtQAAAAAAA+IlAAAAAAAAAZ0AAAAAAABCvQAAAAAAAABBAAAAAAACQlkAAAAAAALyfQA==",
           "dtype": "f8",
           "shape": "8"
          },
          "bdata": "AAAAAAAgfkAAAAAAAKBtQAAAAAAA+IlAAAAAAAAAZ0AAAAAAABCvQAAAAAAAABBAAAAAAACQlkAAAAAAALyfQA==",
          "dtype": "f8"
         },
         "textposition": "outside",
         "type": "bar",
         "x": {
          "_inputArray": {
           "0": 482,
           "1": 237,
           "2": 831,
           "3": 184,
           "4": 3976,
           "5": 4,
           "6": 1444,
           "7": 2031,
           "bdata": "4gHtAD8DuACIDwQApAXvBw==",
           "dtype": "i2",
           "shape": "8"
          },
          "bdata": "4gHtAD8DuACIDwQApAXvBw==",
          "dtype": "i2"
         },
         "xaxis": "x",
         "y": [
          "associate | blue collar",
          "associate | service",
          "associate | white collar",
          "associate | white collar ",
          "high school graduate | blue collar",
          "high school graduate | military",
          "high school graduate | service",
          "high school graduate | white collar"
         ],
         "yaxis": "y"
        },
        {
         "alignmentgroup": "True",
         "hovertemplate": "income=>50k<br>total_income_distr=%{text}<br>edu_occ=%{y}<extra></extra>",
         "legendgroup": ">50k",
         "marker": {
          "color": "rgb(178,24,43)",
          "pattern": {
           "shape": ""
          }
         },
         "name": ">50k",
         "offsetgroup": ">50k",
         "orientation": "h",
         "showlegend": true,
         "text": {
          "_inputArray": {
           "0": 166,
           "1": 44,
           "2": 331,
           "3": 66,
           "4": 796,
           "5": 100,
           "6": 531,
           "bdata": "AAAAAADAZEAAAAAAAABGQAAAAAAAsHRAAAAAAACAUEAAAAAAAOCIQAAAAAAAAFlAAAAAAACYgEA=",
           "dtype": "f8",
           "shape": "7"
          },
          "bdata": "AAAAAADAZEAAAAAAAABGQAAAAAAAsHRAAAAAAACAUEAAAAAAAOCIQAAAAAAAAFlAAAAAAACYgEA=",
          "dtype": "f8"
         },
         "textposition": "outside",
         "type": "bar",
         "x": {
          "_inputArray": {
           "0": 166,
           "1": 44,
           "2": 331,
           "3": 66,
           "4": 796,
           "5": 100,
           "6": 531,
           "bdata": "pgAsAEsBQgAcA2QAEwI=",
           "dtype": "i2",
           "shape": "7"
          },
          "bdata": "pgAsAEsBQgAcA2QAEwI=",
          "dtype": "i2"
         },
         "xaxis": "x",
         "y": [
          "associate | blue collar",
          "associate | service",
          "associate | white collar",
          "associate | white collar ",
          "high school graduate | blue collar",
          "high school graduate | service",
          "high school graduate | white collar"
         ],
         "yaxis": "y"
        }
       ],
       "layout": {
        "autosize": true,
        "barmode": "group",
        "legend": {
         "title": {
          "text": "Income Level"
         },
         "tracegroupgap": 0
        },
        "margin": {
         "b": 50,
         "l": 350,
         "r": 50,
         "t": 50
        },
        "template": {
         "data": {
          "pie": [
           {
            "automargin": true,
            "type": "pie"
           }
          ],
          "scatter": [
           {
            "line": {
             "width": 3
            },
            "marker": {
             "size": 9
            },
            "type": "scatter"
           }
          ],
          "scatter3d": [
           {
            "line": {
             "width": 3
            },
            "marker": {
             "size": 9
            },
            "type": "scatter3d"
           }
          ],
          "scattergeo": [
           {
            "line": {
             "width": 3
            },
            "marker": {
             "size": 9
            },
            "type": "scattergeo"
           }
          ],
          "scattergl": [
           {
            "line": {
             "width": 3
            },
            "marker": {
             "size": 9
            },
            "type": "scattergl"
           }
          ],
          "scatterpolar": [
           {
            "line": {
             "width": 3
            },
            "marker": {
             "size": 9
            },
            "type": "scatterpolar"
           }
          ],
          "scatterpolargl": [
           {
            "line": {
             "width": 3
            },
            "marker": {
             "size": 9
            },
            "type": "scatterpolargl"
           }
          ],
          "scatterternary": [
           {
            "line": {
             "width": 3
            },
            "marker": {
             "size": 9
            },
            "type": "scatterternary"
           }
          ],
          "table": [
           {
            "cells": {
             "height": 30
            },
            "header": {
             "height": 36
            },
            "type": "table"
           }
          ]
         },
         "layout": {
          "font": {
           "size": 18
          },
          "xaxis": {
           "title": {
            "standoff": 15
           }
          },
          "yaxis": {
           "title": {
            "standoff": 15
           }
          }
         }
        },
        "title": {
         "text": "Top 15 Education and Occupations by Income Group"
        },
        "xaxis": {
         "anchor": "y",
         "autorange": true,
         "domain": [
          0,
          1
         ],
         "range": [
          0,
          4185.263157894737
         ],
         "title": {
          "text": "Number of Individuals"
         },
         "type": "linear"
        },
        "yaxis": {
         "anchor": "x",
         "autorange": true,
         "domain": [
          0,
          1
         ],
         "range": [
          -0.5,
          7.5
         ],
         "title": {
          "text": "Education | Occupation Group"
         },
         "type": "category"
        }
       }
      },
      "image/png": "[encoded data removed]"
     },
     "metadata": {},
     "output_type": "display_data"
    },
    {
     "data": {
      "application/vnd.plotly.v1+json": {
       "config": {
        "plotlyServerURL": "https://plot.ly"
       },
       "data": [
        {
         "alignmentgroup": "True",
         "hovertemplate": "income=<=50k<br>total_income_distr=%{text}<br>edu_occ=%{y}<extra></extra>",
         "legendgroup": "<=50k",
         "marker": {
          "color": "rgb(103,0,31)",
          "pattern": {
           "shape": ""
          }
         },
         "name": "<=50k",
         "offsetgroup": "<=50k",
         "orientation": "h",
         "showlegend": true,
         "text": {
          "_inputArray": {
           "0": 482,
           "1": 237,
           "2": 831,
           "3": 184,
           "4": 3976,
           "5": 4,
           "6": 1444,
           "7": 2031,
           "bdata": "AAAAAAAgfkAAAAAAAKBtQAAAAAAA+IlAAAAAAAAAZ0AAAAAAABCvQAAAAAAAABBAAAAAAACQlkAAAAAAALyfQA==",
           "dtype": "f8",
           "shape": "8"
          },
          "bdata": "AAAAAAAgfkAAAAAAAKBtQAAAAAAA+IlAAAAAAAAAZ0AAAAAAABCvQAAAAAAAABBAAAAAAACQlkAAAAAAALyfQA==",
          "dtype": "f8"
         },
         "textposition": "outside",
         "type": "bar",
         "x": {
          "_inputArray": {
           "0": 482,
           "1": 237,
           "2": 831,
           "3": 184,
           "4": 3976,
           "5": 4,
           "6": 1444,
           "7": 2031,
           "bdata": "4gHtAD8DuACIDwQApAXvBw==",
           "dtype": "i2",
           "shape": "8"
          },
          "bdata": "4gHtAD8DuACIDwQApAXvBw==",
          "dtype": "i2"
         },
         "xaxis": "x",
         "y": [
          "associate | blue collar",
          "associate | service",
          "associate | white collar",
          "associate | white collar ",
          "high school graduate | blue collar",
          "high school graduate | military",
          "high school graduate | service",
          "high school graduate | white collar"
         ],
         "yaxis": "y"
        },
        {
         "alignmentgroup": "True",
         "hovertemplate": "income=>50k<br>total_income_distr=%{text}<br>edu_occ=%{y}<extra></extra>",
         "legendgroup": ">50k",
         "marker": {
          "color": "rgb(178,24,43)",
          "pattern": {
           "shape": ""
          }
         },
         "name": ">50k",
         "offsetgroup": ">50k",
         "orientation": "h",
         "showlegend": true,
         "text": {
          "_inputArray": {
           "0": 166,
           "1": 44,
           "2": 331,
           "3": 66,
           "4": 796,
           "5": 100,
           "6": 531,
           "bdata": "AAAAAADAZEAAAAAAAABGQAAAAAAAsHRAAAAAAACAUEAAAAAAAOCIQAAAAAAAAFlAAAAAAACYgEA=",
           "dtype": "f8",
           "shape": "7"
          },
          "bdata": "AAAAAADAZEAAAAAAAABGQAAAAAAAsHRAAAAAAACAUEAAAAAAAOCIQAAAAAAAAFlAAAAAAACYgEA=",
          "dtype": "f8"
         },
         "textposition": "outside",
         "type": "bar",
         "x": {
          "_inputArray": {
           "0": 166,
           "1": 44,
           "2": 331,
           "3": 66,
           "4": 796,
           "5": 100,
           "6": 531,
           "bdata": "pgAsAEsBQgAcA2QAEwI=",
           "dtype": "i2",
           "shape": "7"
          },
          "bdata": "pgAsAEsBQgAcA2QAEwI=",
          "dtype": "i2"
         },
         "xaxis": "x",
         "y": [
          "associate | blue collar",
          "associate | service",
          "associate | white collar",
          "associate | white collar ",
          "high school graduate | blue collar",
          "high school graduate | service",
          "high school graduate | white collar"
         ],
         "yaxis": "y"
        }
       ],
       "layout": {
        "autosize": true,
        "barmode": "group",
        "legend": {
         "title": {
          "text": "Income Level"
         },
         "tracegroupgap": 0
        },
        "margin": {
         "b": 50,
         "l": 350,
         "r": 50,
         "t": 50
        },
        "paper_bgcolor": "rgb(0, 0, 0)",
        "plot_bgcolor": "rgb(0, 0, 0)",
        "template": {
         "data": {
          "pie": [
           {
            "automargin": true,
            "type": "pie"
           }
          ],
          "scatter": [
           {
            "line": {
             "width": 3
            },
            "marker": {
             "size": 9
            },
            "type": "scatter"
           }
          ],
          "scatter3d": [
           {
            "line": {
             "width": 3
            },
            "marker": {
             "size": 9
            },
            "type": "scatter3d"
           }
          ],
          "scattergeo": [
           {
            "line": {
             "width": 3
            },
            "marker": {
             "size": 9
            },
            "type": "scattergeo"
           }
          ],
          "scattergl": [
           {
            "line": {
             "width": 3
            },
            "marker": {
             "size": 9
            },
            "type": "scattergl"
           }
          ],
          "scatterpolar": [
           {
            "line": {
             "width": 3
            },
            "marker": {
             "size": 9
            },
            "type": "scatterpolar"
           }
          ],
          "scatterpolargl": [
           {
            "line": {
             "width": 3
            },
            "marker": {
             "size": 9
            },
            "type": "scatterpolargl"
           }
          ],
          "scatterternary": [
           {
            "line": {
             "width": 3
            },
            "marker": {
             "size": 9
            },
            "type": "scatterternary"
           }
          ],
          "table": [
           {
            "cells": {
             "height": 30
            },
            "header": {
             "height": 36
            },
            "type": "table"
           }
          ]
         },
         "layout": {
          "font": {
           "size": 18
          },
          "xaxis": {
           "title": {
            "standoff": 15
           }
          },
          "yaxis": {
           "title": {
            "standoff": 15
           }
          }
         }
        },
        "title": {
         "text": "Top 15 Education and Occupations by Income Group"
        },
        "xaxis": {
         "anchor": "y",
         "autorange": true,
         "domain": [
          0,
          1
         ],
         "range": [
          0,
          4185.263157894737
         ],
         "title": {
          "text": "Number of Individuals"
         },
         "type": "linear"
        },
        "yaxis": {
         "anchor": "x",
         "autorange": true,
         "domain": [
          0,
          1
         ],
         "range": [
          -0.5,
          7.5
         ],
         "title": {
          "text": "Education | Occupation Group"
         },
         "type": "category"
        }
       }
      },
      "image/png": "[encoded data removed]"
     },
     "metadata": {},
     "output_type": "display_data"
    }
   ],
   "source": [
    "num = 15\n",
    "adult_df_combos = adult_df_income_educ_occ.head(num)\n",
    "\n",
    "fig = px.bar(\n",
    "    adult_df_combos,\n",
    "    x='total_income_distr',\n",
    "    y='edu_occ',\n",
    "    color='income',\n",
    "    orientation='h',\n",
    "    title=f'Top {num} Education and Occupations by Income Group',\n",
    "    barmode='group',\n",
    "    height=500,\n",
    "\n",
    "    color_discrete_sequence=px.colors.sequential.RdBu,\n",
    "    text='total_income_distr'\n",
    ")\n",
    "\n",
    "fig.update_layout(\n",
    "    template='presentation',\n",
    "    xaxis_title='Number of Individuals',\n",
    "    yaxis_title='Education | Occupation Group',\n",
    "    legend_title=dict(text='Income Level'),\n",
    "    margin=dict(l=350, r=50, t=50, b=50)  # fixed typo here\n",
    ")\n",
    "\n",
    "fig.update_traces(textposition='outside')\n",
    "fig.show()\n",
    "fig.update_layout(template='presentation', paper_bgcolor='rgb(0, 0, 0)', plot_bgcolor='rgb(0, 0, 0)')\n",
    "\n",
    "# Save in multiple formats\n",
    "fig.write_image(os.path.join(results_dir, 'income_distribution_by_eduandocc_bar_plot.jpg'))\n",
    "fig.write_image(os.path.join(results_dir, 'income_distribution_by_eduandocc_bar_plot.png'))\n",
    "fig.write_html(os.path.join(results_dir, 'income_distribution_by_eduandocc_bar_plot.html'))\n",
    "\n",
    "fig.show()\n",
    "\n"
   ]
  },
  {
   "cell_type": "code",
   "execution_count": null,
   "id": "074ec830-f823-4575-aa73-7be535a31418",
   "metadata": {},
   "outputs": [],
   "source": []
  },
  {
   "cell_type": "code",
   "execution_count": null,
   "id": "71a6f18f-70ef-4429-8dba-d3fa7311e88e",
   "metadata": {},
   "outputs": [],
   "source": []
  }
 ],
 "metadata": {
  "kernelspec": {
   "display_name": "Python [conda env:base] *",
   "language": "python",
   "name": "conda-base-py"
  },
  "language_info": {
   "codemirror_mode": {
    "name": "ipython",
    "version": 3
   },
   "file_extension": ".py",
   "mimetype": "text/x-python",
   "name": "python",
   "nbconvert_exporter": "python",
   "pygments_lexer": "ipython3",
   "version": "3.12.7"
  }
 },
 "nbformat": 4,
 "nbformat_minor": 5
}
