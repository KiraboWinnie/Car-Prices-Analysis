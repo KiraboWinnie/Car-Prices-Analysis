{
 "cells": [
  {
   "cell_type": "markdown",
   "id": "d0bde756-422a-4599-a4b3-2e4b22b526ea",
   "metadata": {},
   "source": [
    "## CAR SALES Dataset - Exploratory and Descriptive Analysis\n",
    " This note book is focused on the exploratory and descriptive analysis of the cleaned Version OF CAR SALES\n",
    " We start by importing essential Python libraries for data handling and manipulation.\n",
    "\n",
    "    pandas for structured data operations.\n",
    "\n",
    "    numpy for numerical operations.\n",
    "\n",
    "    os for interacting with the operating system and directory structures.\n",
    "\n"
   ]
  },
  {
   "cell_type": "code",
   "execution_count": 138,
   "id": "cb364c7d-39a6-4045-a765-41b5261ea5c0",
   "metadata": {},
   "outputs": [],
   "source": [
    "import pandas as pd \n",
    "import numpy as np \n",
    "import os \n",
    "import matplotlib.pyplot as plt\n",
    "import plotly.express as px"
   ]
  },
  {
   "cell_type": "markdown",
   "id": "ecdabfb6-402b-4913-a3a8-276538a70a8d",
   "metadata": {},
   "source": [
    "## Define and create Paths\n",
    "Define and Create Directory Paths\n",
    "\n",
    "To ensure reproducibility andorganized storage, we programmatically create directories for:\n",
    "\n",
    "    raw data\n",
    "    processed data\n",
    "    results\n",
    "    documentation\n",
    "\n",
    "These directories will store intermediate and final outputs for reproducibility."
   ]
  },
  {
   "cell_type": "code",
   "execution_count": 140,
   "id": "38a05d36-9647-4802-a138-aa8bc9b3bd6c",
   "metadata": {},
   "outputs": [],
   "source": [
    "current_dir= os.getcwd()\n",
    "#go one directory up to the root directory\n",
    "project_root_dir =os.path.dirname(current_dir)\n",
    "#Define paths to the data file\n",
    "data_dir = os.path.join(project_root_dir,\"data\")\n",
    "raw_dir = os.path.join(data_dir,\"raw\")\n",
    "processed_dir = os.path.join(data_dir,'processed')\n",
    "#Define paths to the result fold\n",
    "results_dir = os.path.join(project_root_dir,\"result\") \n",
    "#define path to docs folderabs\n",
    "docs_dir = os.path.join(project_root_dir,\"docs\")\n",
    "\n",
    "#create directory If they do not exist \n",
    "os.makedirs(raw_dir,exist_ok=True)\n",
    "os.makedirs(processed_dir,exist_ok=True)\n",
    "os.makedirs(results_dir,exist_ok=True)\n",
    "os.makedirs(docs_dir,exist_ok=True)"
   ]
  },
  {
   "cell_type": "markdown",
   "id": "5c72155c-12b3-49c8-b8fa-3ef4d4ba4013",
   "metadata": {},
   "source": [
    "## Read in the data"
   ]
  },
  {
   "cell_type": "markdown",
   "id": "5c9cda51-cf38-440a-94e1-9b44fd2d6d4f",
   "metadata": {},
   "source": [
    "Loading and Previewing Car Sales Data\n",
    "\n",
    "\n",
    "\n",
    " Construct the full file path to the cleaned car prices CSV file\n",
    "car_data_filename = os.path.join(\n",
    "    processed_dir,\n",
    "    r\"C:\\Users\\user\\Downloads\\Car-Prices-Analysis\\data\\data\\processed\\car_price_cleaned.csv\"\n",
    ")\n",
    "\n",
    " Read the CSV file into a pandas DataFrame\n",
    "car_sales_df = pd.read_csv(car_data_filename)\n",
    "\n",
    "Display the first 10 rows of the DataFrame\n",
    "car_sales_df.head(10)\n",
    "Code Explanation\n",
    "import os and import pandas as pd: These import the necessary libraries. os is used for handling file paths, and pandas is a powerful data analysis library.\n"
   ]
  },
  {
   "cell_type": "code",
   "execution_count": 49,
   "id": "3cf71407-2c2a-43f1-9286-7ff531c3caaa",
   "metadata": {},
   "outputs": [
    {
     "name": "stderr",
     "output_type": "stream",
     "text": [
      "C:\\Users\\user\\AppData\\Local\\Temp\\ipykernel_22404\\4085819255.py:2: DtypeWarning: Columns (8,9,13,14) have mixed types. Specify dtype option on import or set low_memory=False.\n",
      "  car_sales_df = pd.read_csv(car_data_filename)\n"
     ]
    },
    {
     "data": {
      "text/html": [
       "<div>\n",
       "<style scoped>\n",
       "    .dataframe tbody tr th:only-of-type {\n",
       "        vertical-align: middle;\n",
       "    }\n",
       "\n",
       "    .dataframe tbody tr th {\n",
       "        vertical-align: top;\n",
       "    }\n",
       "\n",
       "    .dataframe thead th {\n",
       "        text-align: right;\n",
       "    }\n",
       "</style>\n",
       "<table border=\"1\" class=\"dataframe\">\n",
       "  <thead>\n",
       "    <tr style=\"text-align: right;\">\n",
       "      <th></th>\n",
       "      <th>year</th>\n",
       "      <th>brand</th>\n",
       "      <th>model</th>\n",
       "      <th>trim</th>\n",
       "      <th>body</th>\n",
       "      <th>transmission</th>\n",
       "      <th>vehicle_id</th>\n",
       "      <th>Region</th>\n",
       "      <th>condition</th>\n",
       "      <th>odometer</th>\n",
       "      <th>exterior_color</th>\n",
       "      <th>interior_color</th>\n",
       "      <th>seller</th>\n",
       "      <th>mmr</th>\n",
       "      <th>selling_price</th>\n",
       "      <th>sale_date</th>\n",
       "      <th>sale_date_clean</th>\n",
       "      <th>sale_day</th>\n",
       "    </tr>\n",
       "  </thead>\n",
       "  <tbody>\n",
       "    <tr>\n",
       "      <th>0</th>\n",
       "      <td>2015</td>\n",
       "      <td>Kia</td>\n",
       "      <td>Sorento</td>\n",
       "      <td>LX</td>\n",
       "      <td>SUV</td>\n",
       "      <td>automatic</td>\n",
       "      <td>5xyktca69fg566472</td>\n",
       "      <td>California</td>\n",
       "      <td>5.0</td>\n",
       "      <td>16639.0</td>\n",
       "      <td>white</td>\n",
       "      <td>black</td>\n",
       "      <td>kia motors america  inc</td>\n",
       "      <td>20500.0</td>\n",
       "      <td>21500.0</td>\n",
       "      <td>Tue Dec 16 2014 12:30:00 GMT-0800 (PST)</td>\n",
       "      <td>2014-12-16 12:30:00</td>\n",
       "      <td>2014-12-16</td>\n",
       "    </tr>\n",
       "    <tr>\n",
       "      <th>1</th>\n",
       "      <td>2015</td>\n",
       "      <td>Kia</td>\n",
       "      <td>Sorento</td>\n",
       "      <td>LX</td>\n",
       "      <td>SUV</td>\n",
       "      <td>automatic</td>\n",
       "      <td>5xyktca69fg561319</td>\n",
       "      <td>California</td>\n",
       "      <td>5.0</td>\n",
       "      <td>9393.0</td>\n",
       "      <td>white</td>\n",
       "      <td>beige</td>\n",
       "      <td>kia motors america  inc</td>\n",
       "      <td>20800.0</td>\n",
       "      <td>21500.0</td>\n",
       "      <td>Tue Dec 16 2014 12:30:00 GMT-0800 (PST)</td>\n",
       "      <td>2014-12-16 12:30:00</td>\n",
       "      <td>2014-12-16</td>\n",
       "    </tr>\n",
       "    <tr>\n",
       "      <th>2</th>\n",
       "      <td>2014</td>\n",
       "      <td>BMW</td>\n",
       "      <td>3 Series</td>\n",
       "      <td>328i SULEV</td>\n",
       "      <td>Sedan</td>\n",
       "      <td>automatic</td>\n",
       "      <td>wba3c1c51ek116351</td>\n",
       "      <td>California</td>\n",
       "      <td>45.0</td>\n",
       "      <td>1331.0</td>\n",
       "      <td>gray</td>\n",
       "      <td>black</td>\n",
       "      <td>financial services remarketing (lease)</td>\n",
       "      <td>31900.0</td>\n",
       "      <td>30000.0</td>\n",
       "      <td>Thu Jan 15 2015 04:30:00 GMT-0800 (PST)</td>\n",
       "      <td>2015-01-15 04:30:00</td>\n",
       "      <td>2015-01-15</td>\n",
       "    </tr>\n",
       "    <tr>\n",
       "      <th>3</th>\n",
       "      <td>2015</td>\n",
       "      <td>Volvo</td>\n",
       "      <td>S60</td>\n",
       "      <td>T5</td>\n",
       "      <td>Sedan</td>\n",
       "      <td>automatic</td>\n",
       "      <td>yv1612tb4f1310987</td>\n",
       "      <td>California</td>\n",
       "      <td>41.0</td>\n",
       "      <td>14282.0</td>\n",
       "      <td>white</td>\n",
       "      <td>black</td>\n",
       "      <td>volvo na rep/world omni</td>\n",
       "      <td>27500.0</td>\n",
       "      <td>27750.0</td>\n",
       "      <td>Thu Jan 29 2015 04:30:00 GMT-0800 (PST)</td>\n",
       "      <td>2015-01-29 04:30:00</td>\n",
       "      <td>2015-01-29</td>\n",
       "    </tr>\n",
       "    <tr>\n",
       "      <th>4</th>\n",
       "      <td>2014</td>\n",
       "      <td>BMW</td>\n",
       "      <td>6 Series Gran Coupe</td>\n",
       "      <td>650i</td>\n",
       "      <td>Sedan</td>\n",
       "      <td>automatic</td>\n",
       "      <td>wba6b2c57ed129731</td>\n",
       "      <td>California</td>\n",
       "      <td>43.0</td>\n",
       "      <td>2641.0</td>\n",
       "      <td>gray</td>\n",
       "      <td>black</td>\n",
       "      <td>financial services remarketing (lease)</td>\n",
       "      <td>66000.0</td>\n",
       "      <td>67000.0</td>\n",
       "      <td>Thu Dec 18 2014 12:30:00 GMT-0800 (PST)</td>\n",
       "      <td>2014-12-18 12:30:00</td>\n",
       "      <td>2014-12-18</td>\n",
       "    </tr>\n",
       "    <tr>\n",
       "      <th>5</th>\n",
       "      <td>2015</td>\n",
       "      <td>Nissan</td>\n",
       "      <td>Altima</td>\n",
       "      <td>2.5 S</td>\n",
       "      <td>Sedan</td>\n",
       "      <td>automatic</td>\n",
       "      <td>1n4al3ap1fn326013</td>\n",
       "      <td>California</td>\n",
       "      <td>1.0</td>\n",
       "      <td>5554.0</td>\n",
       "      <td>gray</td>\n",
       "      <td>black</td>\n",
       "      <td>enterprise vehicle exchange / tra / rental / t...</td>\n",
       "      <td>15350.0</td>\n",
       "      <td>10900.0</td>\n",
       "      <td>Tue Dec 30 2014 12:00:00 GMT-0800 (PST)</td>\n",
       "      <td>2014-12-30 12:00:00</td>\n",
       "      <td>2014-12-30</td>\n",
       "    </tr>\n",
       "    <tr>\n",
       "      <th>6</th>\n",
       "      <td>2014</td>\n",
       "      <td>BMW</td>\n",
       "      <td>M5</td>\n",
       "      <td>Base</td>\n",
       "      <td>Sedan</td>\n",
       "      <td>automatic</td>\n",
       "      <td>wbsfv9c51ed593089</td>\n",
       "      <td>California</td>\n",
       "      <td>34.0</td>\n",
       "      <td>14943.0</td>\n",
       "      <td>black</td>\n",
       "      <td>black</td>\n",
       "      <td>the hertz corporation</td>\n",
       "      <td>69000.0</td>\n",
       "      <td>65000.0</td>\n",
       "      <td>Wed Dec 17 2014 12:30:00 GMT-0800 (PST)</td>\n",
       "      <td>2014-12-17 12:30:00</td>\n",
       "      <td>2014-12-17</td>\n",
       "    </tr>\n",
       "    <tr>\n",
       "      <th>7</th>\n",
       "      <td>2014</td>\n",
       "      <td>Chevrolet</td>\n",
       "      <td>Cruze</td>\n",
       "      <td>1LT</td>\n",
       "      <td>Sedan</td>\n",
       "      <td>automatic</td>\n",
       "      <td>1g1pc5sb2e7128460</td>\n",
       "      <td>California</td>\n",
       "      <td>2.0</td>\n",
       "      <td>28617.0</td>\n",
       "      <td>black</td>\n",
       "      <td>black</td>\n",
       "      <td>enterprise vehicle exchange / tra / rental / t...</td>\n",
       "      <td>11900.0</td>\n",
       "      <td>9800.0</td>\n",
       "      <td>Tue Dec 16 2014 13:00:00 GMT-0800 (PST)</td>\n",
       "      <td>2014-12-16 13:00:00</td>\n",
       "      <td>2014-12-16</td>\n",
       "    </tr>\n",
       "    <tr>\n",
       "      <th>8</th>\n",
       "      <td>2014</td>\n",
       "      <td>Audi</td>\n",
       "      <td>A4</td>\n",
       "      <td>2.0T Premium Plus quattro</td>\n",
       "      <td>Sedan</td>\n",
       "      <td>automatic</td>\n",
       "      <td>wauffafl3en030343</td>\n",
       "      <td>California</td>\n",
       "      <td>42.0</td>\n",
       "      <td>9557.0</td>\n",
       "      <td>white</td>\n",
       "      <td>black</td>\n",
       "      <td>audi mission viejo</td>\n",
       "      <td>32100.0</td>\n",
       "      <td>32250.0</td>\n",
       "      <td>Thu Dec 18 2014 12:00:00 GMT-0800 (PST)</td>\n",
       "      <td>2014-12-18 12:00:00</td>\n",
       "      <td>2014-12-18</td>\n",
       "    </tr>\n",
       "    <tr>\n",
       "      <th>9</th>\n",
       "      <td>2014</td>\n",
       "      <td>Chevrolet</td>\n",
       "      <td>Camaro</td>\n",
       "      <td>LT</td>\n",
       "      <td>Convertible</td>\n",
       "      <td>automatic</td>\n",
       "      <td>2g1fb3d37e9218789</td>\n",
       "      <td>California</td>\n",
       "      <td>3.0</td>\n",
       "      <td>4809.0</td>\n",
       "      <td>red</td>\n",
       "      <td>black</td>\n",
       "      <td>d/m auto sales inc</td>\n",
       "      <td>26300.0</td>\n",
       "      <td>17500.0</td>\n",
       "      <td>Tue Jan 20 2015 04:00:00 GMT-0800 (PST)</td>\n",
       "      <td>2015-01-20 04:00:00</td>\n",
       "      <td>2015-01-20</td>\n",
       "    </tr>\n",
       "  </tbody>\n",
       "</table>\n",
       "</div>"
      ],
      "text/plain": [
       "   year      brand                model                       trim  \\\n",
       "0  2015        Kia              Sorento                         LX   \n",
       "1  2015        Kia              Sorento                         LX   \n",
       "2  2014        BMW             3 Series                 328i SULEV   \n",
       "3  2015      Volvo                  S60                         T5   \n",
       "4  2014        BMW  6 Series Gran Coupe                       650i   \n",
       "5  2015     Nissan               Altima                      2.5 S   \n",
       "6  2014        BMW                   M5                       Base   \n",
       "7  2014  Chevrolet                Cruze                        1LT   \n",
       "8  2014       Audi                   A4  2.0T Premium Plus quattro   \n",
       "9  2014  Chevrolet               Camaro                         LT   \n",
       "\n",
       "          body transmission         vehicle_id      Region condition odometer  \\\n",
       "0          SUV    automatic  5xyktca69fg566472  California       5.0  16639.0   \n",
       "1          SUV    automatic  5xyktca69fg561319  California       5.0   9393.0   \n",
       "2        Sedan    automatic  wba3c1c51ek116351  California      45.0   1331.0   \n",
       "3        Sedan    automatic  yv1612tb4f1310987  California      41.0  14282.0   \n",
       "4        Sedan    automatic  wba6b2c57ed129731  California      43.0   2641.0   \n",
       "5        Sedan    automatic  1n4al3ap1fn326013  California       1.0   5554.0   \n",
       "6        Sedan    automatic  wbsfv9c51ed593089  California      34.0  14943.0   \n",
       "7        Sedan    automatic  1g1pc5sb2e7128460  California       2.0  28617.0   \n",
       "8        Sedan    automatic  wauffafl3en030343  California      42.0   9557.0   \n",
       "9  Convertible    automatic  2g1fb3d37e9218789  California       3.0   4809.0   \n",
       "\n",
       "  exterior_color interior_color  \\\n",
       "0          white          black   \n",
       "1          white          beige   \n",
       "2           gray          black   \n",
       "3          white          black   \n",
       "4           gray          black   \n",
       "5           gray          black   \n",
       "6          black          black   \n",
       "7          black          black   \n",
       "8          white          black   \n",
       "9            red          black   \n",
       "\n",
       "                                              seller      mmr selling_price  \\\n",
       "0                            kia motors america  inc  20500.0       21500.0   \n",
       "1                            kia motors america  inc  20800.0       21500.0   \n",
       "2             financial services remarketing (lease)  31900.0       30000.0   \n",
       "3                            volvo na rep/world omni  27500.0       27750.0   \n",
       "4             financial services remarketing (lease)  66000.0       67000.0   \n",
       "5  enterprise vehicle exchange / tra / rental / t...  15350.0       10900.0   \n",
       "6                              the hertz corporation  69000.0       65000.0   \n",
       "7  enterprise vehicle exchange / tra / rental / t...  11900.0        9800.0   \n",
       "8                                 audi mission viejo  32100.0       32250.0   \n",
       "9                                 d/m auto sales inc  26300.0       17500.0   \n",
       "\n",
       "                                 sale_date      sale_date_clean    sale_day  \n",
       "0  Tue Dec 16 2014 12:30:00 GMT-0800 (PST)  2014-12-16 12:30:00  2014-12-16  \n",
       "1  Tue Dec 16 2014 12:30:00 GMT-0800 (PST)  2014-12-16 12:30:00  2014-12-16  \n",
       "2  Thu Jan 15 2015 04:30:00 GMT-0800 (PST)  2015-01-15 04:30:00  2015-01-15  \n",
       "3  Thu Jan 29 2015 04:30:00 GMT-0800 (PST)  2015-01-29 04:30:00  2015-01-29  \n",
       "4  Thu Dec 18 2014 12:30:00 GMT-0800 (PST)  2014-12-18 12:30:00  2014-12-18  \n",
       "5  Tue Dec 30 2014 12:00:00 GMT-0800 (PST)  2014-12-30 12:00:00  2014-12-30  \n",
       "6  Wed Dec 17 2014 12:30:00 GMT-0800 (PST)  2014-12-17 12:30:00  2014-12-17  \n",
       "7  Tue Dec 16 2014 13:00:00 GMT-0800 (PST)  2014-12-16 13:00:00  2014-12-16  \n",
       "8  Thu Dec 18 2014 12:00:00 GMT-0800 (PST)  2014-12-18 12:00:00  2014-12-18  \n",
       "9  Tue Jan 20 2015 04:00:00 GMT-0800 (PST)  2015-01-20 04:00:00  2015-01-20  "
      ]
     },
     "execution_count": 49,
     "metadata": {},
     "output_type": "execute_result"
    }
   ],
   "source": [
    "car_data_filename = os.path.join(processed_dir, r\"C:\\Users\\user\\Downloads\\Car-Prices-Analysis\\data\\data\\processed\\car_price_cleaned.csv\")\n",
    "car_sales_df = pd.read_csv(car_data_filename)\n",
    "car_sales_df.head(10)"
   ]
  },
  {
   "cell_type": "markdown",
   "id": "753c9a63-f8d7-4c39-bf43-c02257e4d312",
   "metadata": {},
   "source": [
    "## Converting Columns to Numeric Format\n",
    "\n",
    "The following code ensures that specific columns in the `car_sales_df` DataFrame are properly converted to numeric data types. This is a critical step in preparing data for analysis, especially when columns may contain non-numeric values (such as strings or missing data) that need to be handled.\n"
   ]
  },
  {
   "cell_type": "code",
   "execution_count": 178,
   "id": "0771a4f8-a7d1-454e-b830-5ec773b9b966",
   "metadata": {},
   "outputs": [],
   "source": [
    "car_sales_df['mmr'] = pd.to_numeric(car_sales_df['mmr'], errors='coerce')\n",
    "car_sales_df['selling_price'] = pd.to_numeric(car_sales_df['selling_price'], errors='coerce')\n",
    "\n",
    "car_sales_df['odometer'] = pd.to_numeric(car_sales_df['odometer'], errors='coerce')"
   ]
  },
  {
   "cell_type": "code",
   "execution_count": 144,
   "id": "b7415c43-0083-4a1d-9d38-3c6f8be4f5d9",
   "metadata": {},
   "outputs": [],
   "source": [
    "car_sales_df['year'] = pd.to_numeric(car_sales_df['year'], errors='coerce')"
   ]
  },
  {
   "cell_type": "markdown",
   "id": "a8f99ad2-abb6-43ec-9226-33deebc33581",
   "metadata": {},
   "source": [
    "### I added deprecition column that shows rate and amount on how car  price or sale decreases over time"
   ]
  },
  {
   "cell_type": "code",
   "execution_count": 92,
   "id": "69e12c92-e7f0-429b-841c-c2055727ae15",
   "metadata": {},
   "outputs": [],
   "source": [
    "car_sales_df['depreciation'] =car_sales_df['mmr'] - car_sales_df['selling_price']\n",
    "car_sales_df['depreciation_rate'] = (car_sales_df['depreciation'] / car_sales_df['mmr']).round(2)\n",
    "car_sales_df['age'] = 2025 - car_sales_df['year']\n",
    "car_sales_df['price_per_km'] = (car_sales_df['selling_price'] / car_sales_df['odometer']).round(2)\n",
    "car_sales_df['is_new'] = (car_sales_df['odometer'] < 1000).astype(int)"
   ]
  },
  {
   "cell_type": "code",
   "execution_count": 94,
   "id": "9bc95a8f-86c5-49e2-aabc-85f5c6234457",
   "metadata": {},
   "outputs": [
    {
     "data": {
      "text/html": [
       "<div>\n",
       "<style scoped>\n",
       "    .dataframe tbody tr th:only-of-type {\n",
       "        vertical-align: middle;\n",
       "    }\n",
       "\n",
       "    .dataframe tbody tr th {\n",
       "        vertical-align: top;\n",
       "    }\n",
       "\n",
       "    .dataframe thead th {\n",
       "        text-align: right;\n",
       "    }\n",
       "</style>\n",
       "<table border=\"1\" class=\"dataframe\">\n",
       "  <thead>\n",
       "    <tr style=\"text-align: right;\">\n",
       "      <th></th>\n",
       "      <th>year</th>\n",
       "      <th>brand</th>\n",
       "      <th>model</th>\n",
       "      <th>trim</th>\n",
       "      <th>body</th>\n",
       "      <th>transmission</th>\n",
       "      <th>vehicle_id</th>\n",
       "      <th>Region</th>\n",
       "      <th>condition</th>\n",
       "      <th>odometer</th>\n",
       "      <th>...</th>\n",
       "      <th>sale_date</th>\n",
       "      <th>sale_date_clean</th>\n",
       "      <th>sale_day</th>\n",
       "      <th>sale_year</th>\n",
       "      <th>sale_month</th>\n",
       "      <th>depreciation</th>\n",
       "      <th>depreciation_rate</th>\n",
       "      <th>age</th>\n",
       "      <th>price_per_km</th>\n",
       "      <th>is_new</th>\n",
       "    </tr>\n",
       "  </thead>\n",
       "  <tbody>\n",
       "    <tr>\n",
       "      <th>0</th>\n",
       "      <td>2015</td>\n",
       "      <td>Kia</td>\n",
       "      <td>Sorento</td>\n",
       "      <td>LX</td>\n",
       "      <td>SUV</td>\n",
       "      <td>automatic</td>\n",
       "      <td>5xyktca69fg566472</td>\n",
       "      <td>California</td>\n",
       "      <td>5.0</td>\n",
       "      <td>16639.0</td>\n",
       "      <td>...</td>\n",
       "      <td>Tue Dec 16 2014 12:30:00 GMT-0800 (PST)</td>\n",
       "      <td>2014-12-16 12:30:00</td>\n",
       "      <td>2014-12-16</td>\n",
       "      <td>2014</td>\n",
       "      <td>12</td>\n",
       "      <td>-1000.0</td>\n",
       "      <td>-0.05</td>\n",
       "      <td>10</td>\n",
       "      <td>1.29</td>\n",
       "      <td>0</td>\n",
       "    </tr>\n",
       "    <tr>\n",
       "      <th>1</th>\n",
       "      <td>2015</td>\n",
       "      <td>Kia</td>\n",
       "      <td>Sorento</td>\n",
       "      <td>LX</td>\n",
       "      <td>SUV</td>\n",
       "      <td>automatic</td>\n",
       "      <td>5xyktca69fg561319</td>\n",
       "      <td>California</td>\n",
       "      <td>5.0</td>\n",
       "      <td>9393.0</td>\n",
       "      <td>...</td>\n",
       "      <td>Tue Dec 16 2014 12:30:00 GMT-0800 (PST)</td>\n",
       "      <td>2014-12-16 12:30:00</td>\n",
       "      <td>2014-12-16</td>\n",
       "      <td>2014</td>\n",
       "      <td>12</td>\n",
       "      <td>-700.0</td>\n",
       "      <td>-0.03</td>\n",
       "      <td>10</td>\n",
       "      <td>2.29</td>\n",
       "      <td>0</td>\n",
       "    </tr>\n",
       "    <tr>\n",
       "      <th>2</th>\n",
       "      <td>2014</td>\n",
       "      <td>BMW</td>\n",
       "      <td>3 Series</td>\n",
       "      <td>328i SULEV</td>\n",
       "      <td>Sedan</td>\n",
       "      <td>automatic</td>\n",
       "      <td>wba3c1c51ek116351</td>\n",
       "      <td>California</td>\n",
       "      <td>45.0</td>\n",
       "      <td>1331.0</td>\n",
       "      <td>...</td>\n",
       "      <td>Thu Jan 15 2015 04:30:00 GMT-0800 (PST)</td>\n",
       "      <td>2015-01-15 04:30:00</td>\n",
       "      <td>2015-01-15</td>\n",
       "      <td>2015</td>\n",
       "      <td>1</td>\n",
       "      <td>1900.0</td>\n",
       "      <td>0.06</td>\n",
       "      <td>11</td>\n",
       "      <td>22.54</td>\n",
       "      <td>0</td>\n",
       "    </tr>\n",
       "    <tr>\n",
       "      <th>3</th>\n",
       "      <td>2015</td>\n",
       "      <td>Volvo</td>\n",
       "      <td>S60</td>\n",
       "      <td>T5</td>\n",
       "      <td>Sedan</td>\n",
       "      <td>automatic</td>\n",
       "      <td>yv1612tb4f1310987</td>\n",
       "      <td>California</td>\n",
       "      <td>41.0</td>\n",
       "      <td>14282.0</td>\n",
       "      <td>...</td>\n",
       "      <td>Thu Jan 29 2015 04:30:00 GMT-0800 (PST)</td>\n",
       "      <td>2015-01-29 04:30:00</td>\n",
       "      <td>2015-01-29</td>\n",
       "      <td>2015</td>\n",
       "      <td>1</td>\n",
       "      <td>-250.0</td>\n",
       "      <td>-0.01</td>\n",
       "      <td>10</td>\n",
       "      <td>1.94</td>\n",
       "      <td>0</td>\n",
       "    </tr>\n",
       "    <tr>\n",
       "      <th>4</th>\n",
       "      <td>2014</td>\n",
       "      <td>BMW</td>\n",
       "      <td>6 Series Gran Coupe</td>\n",
       "      <td>650i</td>\n",
       "      <td>Sedan</td>\n",
       "      <td>automatic</td>\n",
       "      <td>wba6b2c57ed129731</td>\n",
       "      <td>California</td>\n",
       "      <td>43.0</td>\n",
       "      <td>2641.0</td>\n",
       "      <td>...</td>\n",
       "      <td>Thu Dec 18 2014 12:30:00 GMT-0800 (PST)</td>\n",
       "      <td>2014-12-18 12:30:00</td>\n",
       "      <td>2014-12-18</td>\n",
       "      <td>2014</td>\n",
       "      <td>12</td>\n",
       "      <td>-1000.0</td>\n",
       "      <td>-0.02</td>\n",
       "      <td>11</td>\n",
       "      <td>25.37</td>\n",
       "      <td>0</td>\n",
       "    </tr>\n",
       "    <tr>\n",
       "      <th>...</th>\n",
       "      <td>...</td>\n",
       "      <td>...</td>\n",
       "      <td>...</td>\n",
       "      <td>...</td>\n",
       "      <td>...</td>\n",
       "      <td>...</td>\n",
       "      <td>...</td>\n",
       "      <td>...</td>\n",
       "      <td>...</td>\n",
       "      <td>...</td>\n",
       "      <td>...</td>\n",
       "      <td>...</td>\n",
       "      <td>...</td>\n",
       "      <td>...</td>\n",
       "      <td>...</td>\n",
       "      <td>...</td>\n",
       "      <td>...</td>\n",
       "      <td>...</td>\n",
       "      <td>...</td>\n",
       "      <td>...</td>\n",
       "      <td>...</td>\n",
       "    </tr>\n",
       "    <tr>\n",
       "      <th>558832</th>\n",
       "      <td>2015</td>\n",
       "      <td>Kia</td>\n",
       "      <td>K900</td>\n",
       "      <td>Luxury</td>\n",
       "      <td>Sedan</td>\n",
       "      <td>Unknown</td>\n",
       "      <td>knalw4d4xf6019304</td>\n",
       "      <td>Indiana</td>\n",
       "      <td>45.0</td>\n",
       "      <td>18255.0</td>\n",
       "      <td>...</td>\n",
       "      <td>Thu Jul 09 2015 07:00:00 GMT-0700 (PDT)</td>\n",
       "      <td>2015-07-09 07:00:00</td>\n",
       "      <td>2015-07-09</td>\n",
       "      <td>2015</td>\n",
       "      <td>7</td>\n",
       "      <td>2300.0</td>\n",
       "      <td>0.07</td>\n",
       "      <td>10</td>\n",
       "      <td>1.81</td>\n",
       "      <td>0</td>\n",
       "    </tr>\n",
       "    <tr>\n",
       "      <th>558833</th>\n",
       "      <td>2012</td>\n",
       "      <td>Ram</td>\n",
       "      <td>2500</td>\n",
       "      <td>Power Wagon</td>\n",
       "      <td>Crew Cab</td>\n",
       "      <td>automatic</td>\n",
       "      <td>3c6td5et6cg112407</td>\n",
       "      <td>Washington</td>\n",
       "      <td>5.0</td>\n",
       "      <td>54393.0</td>\n",
       "      <td>...</td>\n",
       "      <td>Wed Jul 08 2015 09:30:00 GMT-0700 (PDT)</td>\n",
       "      <td>2015-07-08 09:30:00</td>\n",
       "      <td>2015-07-08</td>\n",
       "      <td>2015</td>\n",
       "      <td>7</td>\n",
       "      <td>-600.0</td>\n",
       "      <td>-0.02</td>\n",
       "      <td>13</td>\n",
       "      <td>0.57</td>\n",
       "      <td>0</td>\n",
       "    </tr>\n",
       "    <tr>\n",
       "      <th>558834</th>\n",
       "      <td>2012</td>\n",
       "      <td>BMW</td>\n",
       "      <td>X5</td>\n",
       "      <td>xDrive35d</td>\n",
       "      <td>SUV</td>\n",
       "      <td>automatic</td>\n",
       "      <td>5uxzw0c58cl668465</td>\n",
       "      <td>California</td>\n",
       "      <td>48.0</td>\n",
       "      <td>50561.0</td>\n",
       "      <td>...</td>\n",
       "      <td>Wed Jul 08 2015 09:30:00 GMT-0700 (PDT)</td>\n",
       "      <td>2015-07-08 09:30:00</td>\n",
       "      <td>2015-07-08</td>\n",
       "      <td>2015</td>\n",
       "      <td>7</td>\n",
       "      <td>-4200.0</td>\n",
       "      <td>-0.14</td>\n",
       "      <td>13</td>\n",
       "      <td>0.67</td>\n",
       "      <td>0</td>\n",
       "    </tr>\n",
       "    <tr>\n",
       "      <th>558835</th>\n",
       "      <td>2015</td>\n",
       "      <td>Nissan</td>\n",
       "      <td>Altima</td>\n",
       "      <td>2.5 S</td>\n",
       "      <td>sedan</td>\n",
       "      <td>automatic</td>\n",
       "      <td>1n4al3ap0fc216050</td>\n",
       "      <td>Georgia</td>\n",
       "      <td>38.0</td>\n",
       "      <td>16658.0</td>\n",
       "      <td>...</td>\n",
       "      <td>Thu Jul 09 2015 06:45:00 GMT-0700 (PDT)</td>\n",
       "      <td>2015-07-09 06:45:00</td>\n",
       "      <td>2015-07-09</td>\n",
       "      <td>2015</td>\n",
       "      <td>7</td>\n",
       "      <td>4000.0</td>\n",
       "      <td>0.26</td>\n",
       "      <td>10</td>\n",
       "      <td>0.67</td>\n",
       "      <td>0</td>\n",
       "    </tr>\n",
       "    <tr>\n",
       "      <th>558836</th>\n",
       "      <td>2014</td>\n",
       "      <td>Ford</td>\n",
       "      <td>F-150</td>\n",
       "      <td>XLT</td>\n",
       "      <td>SuperCrew</td>\n",
       "      <td>automatic</td>\n",
       "      <td>1ftfw1et2eke87277</td>\n",
       "      <td>California</td>\n",
       "      <td>34.0</td>\n",
       "      <td>15008.0</td>\n",
       "      <td>...</td>\n",
       "      <td>Thu May 28 2015 05:30:00 GMT-0700 (PDT)</td>\n",
       "      <td>2015-05-28 05:30:00</td>\n",
       "      <td>2015-05-28</td>\n",
       "      <td>2015</td>\n",
       "      <td>5</td>\n",
       "      <td>2900.0</td>\n",
       "      <td>0.10</td>\n",
       "      <td>11</td>\n",
       "      <td>1.78</td>\n",
       "      <td>0</td>\n",
       "    </tr>\n",
       "  </tbody>\n",
       "</table>\n",
       "<p>558837 rows × 25 columns</p>\n",
       "</div>"
      ],
      "text/plain": [
       "        year   brand                model         trim       body  \\\n",
       "0       2015     Kia              Sorento           LX        SUV   \n",
       "1       2015     Kia              Sorento           LX        SUV   \n",
       "2       2014     BMW             3 Series   328i SULEV      Sedan   \n",
       "3       2015   Volvo                  S60           T5      Sedan   \n",
       "4       2014     BMW  6 Series Gran Coupe         650i      Sedan   \n",
       "...      ...     ...                  ...          ...        ...   \n",
       "558832  2015     Kia                 K900       Luxury      Sedan   \n",
       "558833  2012     Ram                 2500  Power Wagon   Crew Cab   \n",
       "558834  2012     BMW                   X5    xDrive35d        SUV   \n",
       "558835  2015  Nissan               Altima        2.5 S      sedan   \n",
       "558836  2014    Ford                F-150          XLT  SuperCrew   \n",
       "\n",
       "       transmission         vehicle_id      Region condition  odometer  ...  \\\n",
       "0         automatic  5xyktca69fg566472  California       5.0   16639.0  ...   \n",
       "1         automatic  5xyktca69fg561319  California       5.0    9393.0  ...   \n",
       "2         automatic  wba3c1c51ek116351  California      45.0    1331.0  ...   \n",
       "3         automatic  yv1612tb4f1310987  California      41.0   14282.0  ...   \n",
       "4         automatic  wba6b2c57ed129731  California      43.0    2641.0  ...   \n",
       "...             ...                ...         ...       ...       ...  ...   \n",
       "558832      Unknown  knalw4d4xf6019304     Indiana      45.0   18255.0  ...   \n",
       "558833    automatic  3c6td5et6cg112407  Washington       5.0   54393.0  ...   \n",
       "558834    automatic  5uxzw0c58cl668465  California      48.0   50561.0  ...   \n",
       "558835    automatic  1n4al3ap0fc216050     Georgia      38.0   16658.0  ...   \n",
       "558836    automatic  1ftfw1et2eke87277  California      34.0   15008.0  ...   \n",
       "\n",
       "                                      sale_date      sale_date_clean  \\\n",
       "0       Tue Dec 16 2014 12:30:00 GMT-0800 (PST)  2014-12-16 12:30:00   \n",
       "1       Tue Dec 16 2014 12:30:00 GMT-0800 (PST)  2014-12-16 12:30:00   \n",
       "2       Thu Jan 15 2015 04:30:00 GMT-0800 (PST)  2015-01-15 04:30:00   \n",
       "3       Thu Jan 29 2015 04:30:00 GMT-0800 (PST)  2015-01-29 04:30:00   \n",
       "4       Thu Dec 18 2014 12:30:00 GMT-0800 (PST)  2014-12-18 12:30:00   \n",
       "...                                         ...                  ...   \n",
       "558832  Thu Jul 09 2015 07:00:00 GMT-0700 (PDT)  2015-07-09 07:00:00   \n",
       "558833  Wed Jul 08 2015 09:30:00 GMT-0700 (PDT)  2015-07-08 09:30:00   \n",
       "558834  Wed Jul 08 2015 09:30:00 GMT-0700 (PDT)  2015-07-08 09:30:00   \n",
       "558835  Thu Jul 09 2015 06:45:00 GMT-0700 (PDT)  2015-07-09 06:45:00   \n",
       "558836  Thu May 28 2015 05:30:00 GMT-0700 (PDT)  2015-05-28 05:30:00   \n",
       "\n",
       "         sale_day  sale_year  sale_month depreciation depreciation_rate age  \\\n",
       "0      2014-12-16       2014          12      -1000.0             -0.05  10   \n",
       "1      2014-12-16       2014          12       -700.0             -0.03  10   \n",
       "2      2015-01-15       2015           1       1900.0              0.06  11   \n",
       "3      2015-01-29       2015           1       -250.0             -0.01  10   \n",
       "4      2014-12-18       2014          12      -1000.0             -0.02  11   \n",
       "...           ...        ...         ...          ...               ...  ..   \n",
       "558832 2015-07-09       2015           7       2300.0              0.07  10   \n",
       "558833 2015-07-08       2015           7       -600.0             -0.02  13   \n",
       "558834 2015-07-08       2015           7      -4200.0             -0.14  13   \n",
       "558835 2015-07-09       2015           7       4000.0              0.26  10   \n",
       "558836 2015-05-28       2015           5       2900.0              0.10  11   \n",
       "\n",
       "        price_per_km  is_new  \n",
       "0               1.29       0  \n",
       "1               2.29       0  \n",
       "2              22.54       0  \n",
       "3               1.94       0  \n",
       "4              25.37       0  \n",
       "...              ...     ...  \n",
       "558832          1.81       0  \n",
       "558833          0.57       0  \n",
       "558834          0.67       0  \n",
       "558835          0.67       0  \n",
       "558836          1.78       0  \n",
       "\n",
       "[558837 rows x 25 columns]"
      ]
     },
     "execution_count": 94,
     "metadata": {},
     "output_type": "execute_result"
    }
   ],
   "source": [
    "car_sales_df"
   ]
  },
  {
   "cell_type": "markdown",
   "id": "2f7bc26b-edfc-4e3f-b9d4-bf6d26ff82f0",
   "metadata": {},
   "source": [
    "### Adding two column that will will help in analysis \n",
    " - sale year and also month"
   ]
  },
  {
   "cell_type": "code",
   "execution_count": 97,
   "id": "e7c446a7-3852-4757-8543-de02f2dcc2b9",
   "metadata": {},
   "outputs": [],
   "source": [
    "car_sales_df['sale_day'] = pd.to_datetime(car_sales_df['sale_day'], errors='coerce')\n",
    "car_sales_df['sale_year'] = car_sales_df['sale_day'].dt.year\n",
    "car_sales_df['sale_month'] = car_sales_df['sale_day'].dt.month"
   ]
  },
  {
   "cell_type": "code",
   "execution_count": 99,
   "id": "7599c1a7-4a0a-44f2-acb4-4320b01c50e1",
   "metadata": {},
   "outputs": [
    {
     "data": {
      "text/html": [
       "<div>\n",
       "<style scoped>\n",
       "    .dataframe tbody tr th:only-of-type {\n",
       "        vertical-align: middle;\n",
       "    }\n",
       "\n",
       "    .dataframe tbody tr th {\n",
       "        vertical-align: top;\n",
       "    }\n",
       "\n",
       "    .dataframe thead th {\n",
       "        text-align: right;\n",
       "    }\n",
       "</style>\n",
       "<table border=\"1\" class=\"dataframe\">\n",
       "  <thead>\n",
       "    <tr style=\"text-align: right;\">\n",
       "      <th></th>\n",
       "      <th>year</th>\n",
       "      <th>brand</th>\n",
       "      <th>model</th>\n",
       "      <th>trim</th>\n",
       "      <th>body</th>\n",
       "      <th>transmission</th>\n",
       "      <th>vehicle_id</th>\n",
       "      <th>Region</th>\n",
       "      <th>condition</th>\n",
       "      <th>odometer</th>\n",
       "      <th>...</th>\n",
       "      <th>sale_date</th>\n",
       "      <th>sale_date_clean</th>\n",
       "      <th>sale_day</th>\n",
       "      <th>sale_year</th>\n",
       "      <th>sale_month</th>\n",
       "      <th>depreciation</th>\n",
       "      <th>depreciation_rate</th>\n",
       "      <th>age</th>\n",
       "      <th>price_per_km</th>\n",
       "      <th>is_new</th>\n",
       "    </tr>\n",
       "  </thead>\n",
       "  <tbody>\n",
       "    <tr>\n",
       "      <th>0</th>\n",
       "      <td>2015</td>\n",
       "      <td>Kia</td>\n",
       "      <td>Sorento</td>\n",
       "      <td>LX</td>\n",
       "      <td>SUV</td>\n",
       "      <td>automatic</td>\n",
       "      <td>5xyktca69fg566472</td>\n",
       "      <td>California</td>\n",
       "      <td>5.0</td>\n",
       "      <td>16639.0</td>\n",
       "      <td>...</td>\n",
       "      <td>Tue Dec 16 2014 12:30:00 GMT-0800 (PST)</td>\n",
       "      <td>2014-12-16 12:30:00</td>\n",
       "      <td>2014-12-16</td>\n",
       "      <td>2014</td>\n",
       "      <td>12</td>\n",
       "      <td>-1000.0</td>\n",
       "      <td>-0.05</td>\n",
       "      <td>10</td>\n",
       "      <td>1.29</td>\n",
       "      <td>0</td>\n",
       "    </tr>\n",
       "    <tr>\n",
       "      <th>1</th>\n",
       "      <td>2015</td>\n",
       "      <td>Kia</td>\n",
       "      <td>Sorento</td>\n",
       "      <td>LX</td>\n",
       "      <td>SUV</td>\n",
       "      <td>automatic</td>\n",
       "      <td>5xyktca69fg561319</td>\n",
       "      <td>California</td>\n",
       "      <td>5.0</td>\n",
       "      <td>9393.0</td>\n",
       "      <td>...</td>\n",
       "      <td>Tue Dec 16 2014 12:30:00 GMT-0800 (PST)</td>\n",
       "      <td>2014-12-16 12:30:00</td>\n",
       "      <td>2014-12-16</td>\n",
       "      <td>2014</td>\n",
       "      <td>12</td>\n",
       "      <td>-700.0</td>\n",
       "      <td>-0.03</td>\n",
       "      <td>10</td>\n",
       "      <td>2.29</td>\n",
       "      <td>0</td>\n",
       "    </tr>\n",
       "    <tr>\n",
       "      <th>2</th>\n",
       "      <td>2014</td>\n",
       "      <td>BMW</td>\n",
       "      <td>3 Series</td>\n",
       "      <td>328i SULEV</td>\n",
       "      <td>Sedan</td>\n",
       "      <td>automatic</td>\n",
       "      <td>wba3c1c51ek116351</td>\n",
       "      <td>California</td>\n",
       "      <td>45.0</td>\n",
       "      <td>1331.0</td>\n",
       "      <td>...</td>\n",
       "      <td>Thu Jan 15 2015 04:30:00 GMT-0800 (PST)</td>\n",
       "      <td>2015-01-15 04:30:00</td>\n",
       "      <td>2015-01-15</td>\n",
       "      <td>2015</td>\n",
       "      <td>1</td>\n",
       "      <td>1900.0</td>\n",
       "      <td>0.06</td>\n",
       "      <td>11</td>\n",
       "      <td>22.54</td>\n",
       "      <td>0</td>\n",
       "    </tr>\n",
       "    <tr>\n",
       "      <th>3</th>\n",
       "      <td>2015</td>\n",
       "      <td>Volvo</td>\n",
       "      <td>S60</td>\n",
       "      <td>T5</td>\n",
       "      <td>Sedan</td>\n",
       "      <td>automatic</td>\n",
       "      <td>yv1612tb4f1310987</td>\n",
       "      <td>California</td>\n",
       "      <td>41.0</td>\n",
       "      <td>14282.0</td>\n",
       "      <td>...</td>\n",
       "      <td>Thu Jan 29 2015 04:30:00 GMT-0800 (PST)</td>\n",
       "      <td>2015-01-29 04:30:00</td>\n",
       "      <td>2015-01-29</td>\n",
       "      <td>2015</td>\n",
       "      <td>1</td>\n",
       "      <td>-250.0</td>\n",
       "      <td>-0.01</td>\n",
       "      <td>10</td>\n",
       "      <td>1.94</td>\n",
       "      <td>0</td>\n",
       "    </tr>\n",
       "    <tr>\n",
       "      <th>4</th>\n",
       "      <td>2014</td>\n",
       "      <td>BMW</td>\n",
       "      <td>6 Series Gran Coupe</td>\n",
       "      <td>650i</td>\n",
       "      <td>Sedan</td>\n",
       "      <td>automatic</td>\n",
       "      <td>wba6b2c57ed129731</td>\n",
       "      <td>California</td>\n",
       "      <td>43.0</td>\n",
       "      <td>2641.0</td>\n",
       "      <td>...</td>\n",
       "      <td>Thu Dec 18 2014 12:30:00 GMT-0800 (PST)</td>\n",
       "      <td>2014-12-18 12:30:00</td>\n",
       "      <td>2014-12-18</td>\n",
       "      <td>2014</td>\n",
       "      <td>12</td>\n",
       "      <td>-1000.0</td>\n",
       "      <td>-0.02</td>\n",
       "      <td>11</td>\n",
       "      <td>25.37</td>\n",
       "      <td>0</td>\n",
       "    </tr>\n",
       "    <tr>\n",
       "      <th>...</th>\n",
       "      <td>...</td>\n",
       "      <td>...</td>\n",
       "      <td>...</td>\n",
       "      <td>...</td>\n",
       "      <td>...</td>\n",
       "      <td>...</td>\n",
       "      <td>...</td>\n",
       "      <td>...</td>\n",
       "      <td>...</td>\n",
       "      <td>...</td>\n",
       "      <td>...</td>\n",
       "      <td>...</td>\n",
       "      <td>...</td>\n",
       "      <td>...</td>\n",
       "      <td>...</td>\n",
       "      <td>...</td>\n",
       "      <td>...</td>\n",
       "      <td>...</td>\n",
       "      <td>...</td>\n",
       "      <td>...</td>\n",
       "      <td>...</td>\n",
       "    </tr>\n",
       "    <tr>\n",
       "      <th>558832</th>\n",
       "      <td>2015</td>\n",
       "      <td>Kia</td>\n",
       "      <td>K900</td>\n",
       "      <td>Luxury</td>\n",
       "      <td>Sedan</td>\n",
       "      <td>Unknown</td>\n",
       "      <td>knalw4d4xf6019304</td>\n",
       "      <td>Indiana</td>\n",
       "      <td>45.0</td>\n",
       "      <td>18255.0</td>\n",
       "      <td>...</td>\n",
       "      <td>Thu Jul 09 2015 07:00:00 GMT-0700 (PDT)</td>\n",
       "      <td>2015-07-09 07:00:00</td>\n",
       "      <td>2015-07-09</td>\n",
       "      <td>2015</td>\n",
       "      <td>7</td>\n",
       "      <td>2300.0</td>\n",
       "      <td>0.07</td>\n",
       "      <td>10</td>\n",
       "      <td>1.81</td>\n",
       "      <td>0</td>\n",
       "    </tr>\n",
       "    <tr>\n",
       "      <th>558833</th>\n",
       "      <td>2012</td>\n",
       "      <td>Ram</td>\n",
       "      <td>2500</td>\n",
       "      <td>Power Wagon</td>\n",
       "      <td>Crew Cab</td>\n",
       "      <td>automatic</td>\n",
       "      <td>3c6td5et6cg112407</td>\n",
       "      <td>Washington</td>\n",
       "      <td>5.0</td>\n",
       "      <td>54393.0</td>\n",
       "      <td>...</td>\n",
       "      <td>Wed Jul 08 2015 09:30:00 GMT-0700 (PDT)</td>\n",
       "      <td>2015-07-08 09:30:00</td>\n",
       "      <td>2015-07-08</td>\n",
       "      <td>2015</td>\n",
       "      <td>7</td>\n",
       "      <td>-600.0</td>\n",
       "      <td>-0.02</td>\n",
       "      <td>13</td>\n",
       "      <td>0.57</td>\n",
       "      <td>0</td>\n",
       "    </tr>\n",
       "    <tr>\n",
       "      <th>558834</th>\n",
       "      <td>2012</td>\n",
       "      <td>BMW</td>\n",
       "      <td>X5</td>\n",
       "      <td>xDrive35d</td>\n",
       "      <td>SUV</td>\n",
       "      <td>automatic</td>\n",
       "      <td>5uxzw0c58cl668465</td>\n",
       "      <td>California</td>\n",
       "      <td>48.0</td>\n",
       "      <td>50561.0</td>\n",
       "      <td>...</td>\n",
       "      <td>Wed Jul 08 2015 09:30:00 GMT-0700 (PDT)</td>\n",
       "      <td>2015-07-08 09:30:00</td>\n",
       "      <td>2015-07-08</td>\n",
       "      <td>2015</td>\n",
       "      <td>7</td>\n",
       "      <td>-4200.0</td>\n",
       "      <td>-0.14</td>\n",
       "      <td>13</td>\n",
       "      <td>0.67</td>\n",
       "      <td>0</td>\n",
       "    </tr>\n",
       "    <tr>\n",
       "      <th>558835</th>\n",
       "      <td>2015</td>\n",
       "      <td>Nissan</td>\n",
       "      <td>Altima</td>\n",
       "      <td>2.5 S</td>\n",
       "      <td>sedan</td>\n",
       "      <td>automatic</td>\n",
       "      <td>1n4al3ap0fc216050</td>\n",
       "      <td>Georgia</td>\n",
       "      <td>38.0</td>\n",
       "      <td>16658.0</td>\n",
       "      <td>...</td>\n",
       "      <td>Thu Jul 09 2015 06:45:00 GMT-0700 (PDT)</td>\n",
       "      <td>2015-07-09 06:45:00</td>\n",
       "      <td>2015-07-09</td>\n",
       "      <td>2015</td>\n",
       "      <td>7</td>\n",
       "      <td>4000.0</td>\n",
       "      <td>0.26</td>\n",
       "      <td>10</td>\n",
       "      <td>0.67</td>\n",
       "      <td>0</td>\n",
       "    </tr>\n",
       "    <tr>\n",
       "      <th>558836</th>\n",
       "      <td>2014</td>\n",
       "      <td>Ford</td>\n",
       "      <td>F-150</td>\n",
       "      <td>XLT</td>\n",
       "      <td>SuperCrew</td>\n",
       "      <td>automatic</td>\n",
       "      <td>1ftfw1et2eke87277</td>\n",
       "      <td>California</td>\n",
       "      <td>34.0</td>\n",
       "      <td>15008.0</td>\n",
       "      <td>...</td>\n",
       "      <td>Thu May 28 2015 05:30:00 GMT-0700 (PDT)</td>\n",
       "      <td>2015-05-28 05:30:00</td>\n",
       "      <td>2015-05-28</td>\n",
       "      <td>2015</td>\n",
       "      <td>5</td>\n",
       "      <td>2900.0</td>\n",
       "      <td>0.10</td>\n",
       "      <td>11</td>\n",
       "      <td>1.78</td>\n",
       "      <td>0</td>\n",
       "    </tr>\n",
       "  </tbody>\n",
       "</table>\n",
       "<p>558837 rows × 25 columns</p>\n",
       "</div>"
      ],
      "text/plain": [
       "        year   brand                model         trim       body  \\\n",
       "0       2015     Kia              Sorento           LX        SUV   \n",
       "1       2015     Kia              Sorento           LX        SUV   \n",
       "2       2014     BMW             3 Series   328i SULEV      Sedan   \n",
       "3       2015   Volvo                  S60           T5      Sedan   \n",
       "4       2014     BMW  6 Series Gran Coupe         650i      Sedan   \n",
       "...      ...     ...                  ...          ...        ...   \n",
       "558832  2015     Kia                 K900       Luxury      Sedan   \n",
       "558833  2012     Ram                 2500  Power Wagon   Crew Cab   \n",
       "558834  2012     BMW                   X5    xDrive35d        SUV   \n",
       "558835  2015  Nissan               Altima        2.5 S      sedan   \n",
       "558836  2014    Ford                F-150          XLT  SuperCrew   \n",
       "\n",
       "       transmission         vehicle_id      Region condition  odometer  ...  \\\n",
       "0         automatic  5xyktca69fg566472  California       5.0   16639.0  ...   \n",
       "1         automatic  5xyktca69fg561319  California       5.0    9393.0  ...   \n",
       "2         automatic  wba3c1c51ek116351  California      45.0    1331.0  ...   \n",
       "3         automatic  yv1612tb4f1310987  California      41.0   14282.0  ...   \n",
       "4         automatic  wba6b2c57ed129731  California      43.0    2641.0  ...   \n",
       "...             ...                ...         ...       ...       ...  ...   \n",
       "558832      Unknown  knalw4d4xf6019304     Indiana      45.0   18255.0  ...   \n",
       "558833    automatic  3c6td5et6cg112407  Washington       5.0   54393.0  ...   \n",
       "558834    automatic  5uxzw0c58cl668465  California      48.0   50561.0  ...   \n",
       "558835    automatic  1n4al3ap0fc216050     Georgia      38.0   16658.0  ...   \n",
       "558836    automatic  1ftfw1et2eke87277  California      34.0   15008.0  ...   \n",
       "\n",
       "                                      sale_date      sale_date_clean  \\\n",
       "0       Tue Dec 16 2014 12:30:00 GMT-0800 (PST)  2014-12-16 12:30:00   \n",
       "1       Tue Dec 16 2014 12:30:00 GMT-0800 (PST)  2014-12-16 12:30:00   \n",
       "2       Thu Jan 15 2015 04:30:00 GMT-0800 (PST)  2015-01-15 04:30:00   \n",
       "3       Thu Jan 29 2015 04:30:00 GMT-0800 (PST)  2015-01-29 04:30:00   \n",
       "4       Thu Dec 18 2014 12:30:00 GMT-0800 (PST)  2014-12-18 12:30:00   \n",
       "...                                         ...                  ...   \n",
       "558832  Thu Jul 09 2015 07:00:00 GMT-0700 (PDT)  2015-07-09 07:00:00   \n",
       "558833  Wed Jul 08 2015 09:30:00 GMT-0700 (PDT)  2015-07-08 09:30:00   \n",
       "558834  Wed Jul 08 2015 09:30:00 GMT-0700 (PDT)  2015-07-08 09:30:00   \n",
       "558835  Thu Jul 09 2015 06:45:00 GMT-0700 (PDT)  2015-07-09 06:45:00   \n",
       "558836  Thu May 28 2015 05:30:00 GMT-0700 (PDT)  2015-05-28 05:30:00   \n",
       "\n",
       "         sale_day  sale_year  sale_month depreciation depreciation_rate age  \\\n",
       "0      2014-12-16       2014          12      -1000.0             -0.05  10   \n",
       "1      2014-12-16       2014          12       -700.0             -0.03  10   \n",
       "2      2015-01-15       2015           1       1900.0              0.06  11   \n",
       "3      2015-01-29       2015           1       -250.0             -0.01  10   \n",
       "4      2014-12-18       2014          12      -1000.0             -0.02  11   \n",
       "...           ...        ...         ...          ...               ...  ..   \n",
       "558832 2015-07-09       2015           7       2300.0              0.07  10   \n",
       "558833 2015-07-08       2015           7       -600.0             -0.02  13   \n",
       "558834 2015-07-08       2015           7      -4200.0             -0.14  13   \n",
       "558835 2015-07-09       2015           7       4000.0              0.26  10   \n",
       "558836 2015-05-28       2015           5       2900.0              0.10  11   \n",
       "\n",
       "        price_per_km  is_new  \n",
       "0               1.29       0  \n",
       "1               2.29       0  \n",
       "2              22.54       0  \n",
       "3               1.94       0  \n",
       "4              25.37       0  \n",
       "...              ...     ...  \n",
       "558832          1.81       0  \n",
       "558833          0.57       0  \n",
       "558834          0.67       0  \n",
       "558835          0.67       0  \n",
       "558836          1.78       0  \n",
       "\n",
       "[558837 rows x 25 columns]"
      ]
     },
     "execution_count": 99,
     "metadata": {},
     "output_type": "execute_result"
    }
   ],
   "source": [
    "car_sales_df"
   ]
  },
  {
   "cell_type": "markdown",
   "id": "7d113352-a3a4-40f2-84c8-0adeeb35d4f2",
   "metadata": {},
   "source": [
    "# Code Explanation: Saving a Cleaned DataFrame to CSV\n",
    "This creates the full path where the cleaned DataFrame (car_sales_df) will be saved.\n",
    "\n",
    "os.path.join() ensures the path is properly formatted for the operating system.\n",
    "\n",
    "The file will be saved as car_price_cleaned.csv in the processed folder.\n"
   ]
  },
  {
   "cell_type": "code",
   "execution_count": 182,
   "id": "f798d57d-bbab-4838-9a53-b0502196d947",
   "metadata": {},
   "outputs": [],
   "source": [
    "final_file = os.path.join(r\"C:\\Users\\user\\Downloads\\Car-Prices-Analysis\\data\\data\\processed\\car_price_cleaned.csv\")\n",
    "\n",
    "\n",
    "# Save the DataFrame\n",
    "car_sales_df.to_csv(final_file, index=False)"
   ]
  },
  {
   "cell_type": "markdown",
   "id": "aadd0a6e-685f-452a-a7d7-49323daa3711",
   "metadata": {},
   "source": [
    "## Exploratory Data Analysis (EDA)  are the following then.!"
   ]
  },
  {
   "cell_type": "markdown",
   "id": "5960da35-06b4-451e-b9d9-7518df91b14e",
   "metadata": {},
   "source": [
    "monthly_sales = car_sales_df.groupby('sale_month').agg(\n",
    "    total_cars_sold=('selling_price', 'count'),\n",
    "    total_revenue=('selling_price', 'sum')\n",
    ").reset_index()\n",
    "monthly_sales\n",
    "What this code does:\n",
    "Group data by sale_month:\n",
    "\n",
    "The DataFrame car_sales_df is grouped based on the sale_month column, meaning all sales in the same month are grouped together.\n",
    "\n",
    "Aggregate data using .agg():\n",
    "\n",
    "total_cars_sold: Counts how many cars were sold in each month using the count of values in the selling_price column.\n",
    "\n",
    "total_revenue: Calculates the total revenue from car sales in each month by summing the selling_price.\n",
    "\n",
    "Reset the index:\n",
    "\n",
    ".reset_index() is used to turn the grouped sale_month back into a column rather than keeping it as an index.\n",
    "\n",
    "Display the result:\n",
    "\n",
    "The monthly_sales DataFrame now shows two key metrics for each month:\n",
    "\n",
    "Number of cars sold (total_cars_sold)\n",
    "Total revenue generated (total_revenue)"
   ]
  },
  {
   "cell_type": "code",
   "execution_count": 194,
   "id": "9eef65e1-73d8-464e-a62d-68a104c27568",
   "metadata": {},
   "outputs": [
    {
     "data": {
      "text/html": [
       "<div>\n",
       "<style scoped>\n",
       "    .dataframe tbody tr th:only-of-type {\n",
       "        vertical-align: middle;\n",
       "    }\n",
       "\n",
       "    .dataframe tbody tr th {\n",
       "        vertical-align: top;\n",
       "    }\n",
       "\n",
       "    .dataframe thead th {\n",
       "        text-align: right;\n",
       "    }\n",
       "</style>\n",
       "<table border=\"1\" class=\"dataframe\">\n",
       "  <thead>\n",
       "    <tr style=\"text-align: right;\">\n",
       "      <th></th>\n",
       "      <th>sale_month</th>\n",
       "      <th>total_cars_sold</th>\n",
       "      <th>total_revenue</th>\n",
       "    </tr>\n",
       "  </thead>\n",
       "  <tbody>\n",
       "    <tr>\n",
       "      <th>0</th>\n",
       "      <td>1</td>\n",
       "      <td>140841</td>\n",
       "      <td>1.872036e+09</td>\n",
       "    </tr>\n",
       "    <tr>\n",
       "      <th>1</th>\n",
       "      <td>2</td>\n",
       "      <td>163053</td>\n",
       "      <td>2.218863e+09</td>\n",
       "    </tr>\n",
       "    <tr>\n",
       "      <th>2</th>\n",
       "      <td>3</td>\n",
       "      <td>46277</td>\n",
       "      <td>6.221053e+08</td>\n",
       "    </tr>\n",
       "    <tr>\n",
       "      <th>3</th>\n",
       "      <td>4</td>\n",
       "      <td>1450</td>\n",
       "      <td>1.479976e+07</td>\n",
       "    </tr>\n",
       "    <tr>\n",
       "      <th>4</th>\n",
       "      <td>5</td>\n",
       "      <td>52447</td>\n",
       "      <td>7.521785e+08</td>\n",
       "    </tr>\n",
       "    <tr>\n",
       "      <th>5</th>\n",
       "      <td>6</td>\n",
       "      <td>99937</td>\n",
       "      <td>1.499881e+09</td>\n",
       "    </tr>\n",
       "    <tr>\n",
       "      <th>6</th>\n",
       "      <td>7</td>\n",
       "      <td>1300</td>\n",
       "      <td>2.206976e+07</td>\n",
       "    </tr>\n",
       "    <tr>\n",
       "      <th>7</th>\n",
       "      <td>12</td>\n",
       "      <td>53520</td>\n",
       "      <td>6.044342e+08</td>\n",
       "    </tr>\n",
       "  </tbody>\n",
       "</table>\n",
       "</div>"
      ],
      "text/plain": [
       "   sale_month  total_cars_sold  total_revenue\n",
       "0           1           140841   1.872036e+09\n",
       "1           2           163053   2.218863e+09\n",
       "2           3            46277   6.221053e+08\n",
       "3           4             1450   1.479976e+07\n",
       "4           5            52447   7.521785e+08\n",
       "5           6            99937   1.499881e+09\n",
       "6           7             1300   2.206976e+07\n",
       "7          12            53520   6.044342e+08"
      ]
     },
     "execution_count": 194,
     "metadata": {},
     "output_type": "execute_result"
    }
   ],
   "source": [
    "monthly_sales = car_sales_df.groupby('sale_month').agg(\n",
    "    total_cars_sold=('selling_price', 'count'),\n",
    "    total_revenue=('selling_price', 'sum')\n",
    ").reset_index()\n",
    "monthly_sales"
   ]
  },
  {
   "cell_type": "markdown",
   "id": "3ca485ad-1c25-4821-975d-be595acd1b9c",
   "metadata": {},
   "source": [
    "### Total Revenue per Month"
   ]
  },
  {
   "cell_type": "code",
   "execution_count": 105,
   "id": "5275a2d0-4372-485d-9e58-72ae9bd82ee5",
   "metadata": {},
   "outputs": [
    {
     "data": {
      "application/vnd.plotly.v1+json": {
       "config": {
        "plotlyServerURL": "https://plot.ly"
       },
       "data": [
        {
         "hovertemplate": "Month=%{x}<br>Revenue (RWF)=%{y}<extra></extra>",
         "legendgroup": "",
         "line": {
          "color": "#636efa",
          "dash": "solid"
         },
         "marker": {
          "symbol": "circle"
         },
         "mode": "lines+markers",
         "name": "",
         "orientation": "v",
         "showlegend": false,
         "type": "scatter",
         "x": {
          "_inputArray": {
           "0": 1,
           "1": 2,
           "2": 3,
           "3": 4,
           "4": 5,
           "5": 6,
           "6": 7,
           "7": 12,
           "bdata": "AQAAAAIAAAADAAAABAAAAAUAAAAGAAAABwAAAAwAAAA=",
           "dtype": "i4",
           "shape": "8"
          },
          "bdata": "AQAAAAIAAAADAAAABAAAAAUAAAAGAAAABwAAAAwAAAA=",
          "dtype": "i4"
         },
         "xaxis": "x",
         "y": {
          "_inputArray": {
           "0": 1872036092,
           "1": 2218862827,
           "2": 622105273,
           "3": 14799755,
           "4": 752178456,
           "5": 1499881215,
           "6": 22069764,
           "7": 604434205,
           "bdata": "AAAAP0Dl20EAAGAdJYjgQQAAgFxJisJBAAAAYHE6bEEAAACMqmrGQQAAwL+XWdZBAAAAQCAMdUEAAICOdwPCQQ==",
           "dtype": "f8",
           "shape": "8"
          },
          "bdata": "AAAAP0Dl20EAAGAdJYjgQQAAgFxJisJBAAAAYHE6bEEAAACMqmrGQQAAwL+XWdZBAAAAQCAMdUEAAICOdwPCQQ==",
          "dtype": "f8"
         },
         "yaxis": "y"
        }
       ],
       "layout": {
        "height": 400,
        "legend": {
         "tracegroupgap": 0
        },
        "template": {
         "data": {
          "pie": [
           {
            "automargin": true,
            "type": "pie"
           }
          ],
          "scatter": [
           {
            "line": {
             "width": 3
            },
            "marker": {
             "size": 9
            },
            "type": "scatter"
           }
          ],
          "scatter3d": [
           {
            "line": {
             "width": 3
            },
            "marker": {
             "size": 9
            },
            "type": "scatter3d"
           }
          ],
          "scattergeo": [
           {
            "line": {
             "width": 3
            },
            "marker": {
             "size": 9
            },
            "type": "scattergeo"
           }
          ],
          "scattergl": [
           {
            "line": {
             "width": 3
            },
            "marker": {
             "size": 9
            },
            "type": "scattergl"
           }
          ],
          "scatterpolar": [
           {
            "line": {
             "width": 3
            },
            "marker": {
             "size": 9
            },
            "type": "scatterpolar"
           }
          ],
          "scatterpolargl": [
           {
            "line": {
             "width": 3
            },
            "marker": {
             "size": 9
            },
            "type": "scatterpolargl"
           }
          ],
          "scatterternary": [
           {
            "line": {
             "width": 3
            },
            "marker": {
             "size": 9
            },
            "type": "scatterternary"
           }
          ],
          "table": [
           {
            "cells": {
             "height": 30
            },
            "header": {
             "height": 36
            },
            "type": "table"
           }
          ]
         },
         "layout": {
          "font": {
           "size": 18
          },
          "xaxis": {
           "title": {
            "standoff": 15
           }
          },
          "yaxis": {
           "title": {
            "standoff": 15
           }
          }
         }
        },
        "title": {
         "text": "Total Revenue from Car Sales per Month"
        },
        "width": 800,
        "xaxis": {
         "anchor": "y",
         "autorange": true,
         "domain": [
          0,
          1
         ],
         "range": [
          0.267153607791058,
          12.732846392208941
         ],
         "title": {
          "text": "Month"
         },
         "type": "linear"
        },
        "yaxis": {
         "anchor": "x",
         "autorange": true,
         "domain": [
          0,
          1
         ],
         "range": [
          -181412017.80856758,
          2415074599.8085675
         ],
         "title": {
          "text": "Revenue (RWF)"
         },
         "type": "linear"
        }
       }
      },
      "image/png": "[encoded data removed]"
     },
     "metadata": {},
     "output_type": "display_data"
    }
   ],
   "source": [
    "# Group by sale month and sum selling prices (revenue)\n",
    "monthly_revenue = car_sales_df.groupby('sale_month')['selling_price'].sum().reset_index()\n",
    "monthly_revenue.columns = ['sale_month', 'total_revenue']\n",
    "fig = px.line(\n",
    "    monthly_revenue,\n",
    "    x='sale_month',\n",
    "    y='total_revenue',\n",
    "    title='Total Revenue from Car Sales per Month',\n",
    "    markers=True,\n",
    "    labels={'sale_month': 'Month', 'total_revenue': 'Revenue (RWF)'},\n",
    "    width=800,\n",
    "    height=400\n",
    ")\n",
    "fig.update_layout(template='presentation')\n",
    "fig.show()\n",
    "\n"
   ]
  },
  {
   "cell_type": "markdown",
   "id": "1541ad62-5ad4-435c-bf7a-ba2d134c1af9",
   "metadata": {},
   "source": [
    "# Top 10  brands by number of cars sold"
   ]
  },
  {
   "cell_type": "code",
   "execution_count": 198,
   "id": "e77ec71f-4fde-42a1-b785-b7082555bbd6",
   "metadata": {},
   "outputs": [],
   "source": [
    "# Question: Which car brands sell the most?\n",
    "\n",
    "top_brands = car_sales_df['brand'].value_counts().head(10).reset_index()\n",
    "top_brands.columns = ['brand', 'count']"
   ]
  },
  {
   "cell_type": "code",
   "execution_count": 192,
   "id": "49b70291-08c2-495d-8630-c774582c82cf",
   "metadata": {},
   "outputs": [
    {
     "data": {
      "application/vnd.plotly.v1+json": {
       "config": {
        "plotlyServerURL": "https://plot.ly"
       },
       "data": [
        {
         "hovertemplate": "brand=%{y}<br>count=%{x}<extra></extra>",
         "legendgroup": "Ford",
         "marker": {
          "color": "#00008B",
          "pattern": {
           "shape": ""
          }
         },
         "name": "Ford",
         "orientation": "h",
         "showlegend": true,
         "textposition": "auto",
         "type": "bar",
         "x": {
          "_inputArray": {
           "0": 93554,
           "bdata": "cm0BAA==",
           "dtype": "i4",
           "shape": "1"
          },
          "bdata": "cm0BAA==",
          "dtype": "i4"
         },
         "xaxis": "x",
         "y": [
          "Ford"
         ],
         "yaxis": "y"
        },
        {
         "hovertemplate": "brand=%{y}<br>count=%{x}<extra></extra>",
         "legendgroup": "Chevrolet",
         "marker": {
          "color": "#00008B",
          "pattern": {
           "shape": ""
          }
         },
         "name": "Chevrolet",
         "orientation": "h",
         "showlegend": true,
         "textposition": "auto",
         "type": "bar",
         "x": {
          "_inputArray": {
           "0": 60197,
           "bdata": "JesAAA==",
           "dtype": "i4",
           "shape": "1"
          },
          "bdata": "JesAAA==",
          "dtype": "i4"
         },
         "xaxis": "x",
         "y": [
          "Chevrolet"
         ],
         "yaxis": "y"
        },
        {
         "hovertemplate": "brand=%{y}<br>count=%{x}<extra></extra>",
         "legendgroup": "Nissan",
         "marker": {
          "color": "#00008B",
          "pattern": {
           "shape": ""
          }
         },
         "name": "Nissan",
         "orientation": "h",
         "showlegend": true,
         "textposition": "auto",
         "type": "bar",
         "x": {
          "_inputArray": {
           "0": 53946,
           "bdata": "utIAAA==",
           "dtype": "i4",
           "shape": "1"
          },
          "bdata": "utIAAA==",
          "dtype": "i4"
         },
         "xaxis": "x",
         "y": [
          "Nissan"
         ],
         "yaxis": "y"
        },
        {
         "hovertemplate": "brand=%{y}<br>count=%{x}<extra></extra>",
         "legendgroup": "Toyota",
         "marker": {
          "color": "#00008B",
          "pattern": {
           "shape": ""
          }
         },
         "name": "Toyota",
         "orientation": "h",
         "showlegend": true,
         "textposition": "auto",
         "type": "bar",
         "x": {
          "_inputArray": {
           "0": 39871,
           "bdata": "v5sAAA==",
           "dtype": "i4",
           "shape": "1"
          },
          "bdata": "v5sAAA==",
          "dtype": "i4"
         },
         "xaxis": "x",
         "y": [
          "Toyota"
         ],
         "yaxis": "y"
        },
        {
         "hovertemplate": "brand=%{y}<br>count=%{x}<extra></extra>",
         "legendgroup": "Dodge",
         "marker": {
          "color": "#00008B",
          "pattern": {
           "shape": ""
          }
         },
         "name": "Dodge",
         "orientation": "h",
         "showlegend": true,
         "textposition": "auto",
         "type": "bar",
         "x": {
          "_inputArray": {
           "0": 30710,
           "bdata": "9nc=",
           "dtype": "i2",
           "shape": "1"
          },
          "bdata": "9nc=",
          "dtype": "i2"
         },
         "xaxis": "x",
         "y": [
          "Dodge"
         ],
         "yaxis": "y"
        },
        {
         "hovertemplate": "brand=%{y}<br>count=%{x}<extra></extra>",
         "legendgroup": "Honda",
         "marker": {
          "color": "#00008B",
          "pattern": {
           "shape": ""
          }
         },
         "name": "Honda",
         "orientation": "h",
         "showlegend": true,
         "textposition": "auto",
         "type": "bar",
         "x": {
          "_inputArray": {
           "0": 27206,
           "bdata": "Rmo=",
           "dtype": "i2",
           "shape": "1"
          },
          "bdata": "Rmo=",
          "dtype": "i2"
         },
         "xaxis": "x",
         "y": [
          "Honda"
         ],
         "yaxis": "y"
        },
        {
         "hovertemplate": "brand=%{y}<br>count=%{x}<extra></extra>",
         "legendgroup": "Hyundai",
         "marker": {
          "color": "#00008B",
          "pattern": {
           "shape": ""
          }
         },
         "name": "Hyundai",
         "orientation": "h",
         "showlegend": true,
         "textposition": "auto",
         "type": "bar",
         "x": {
          "_inputArray": {
           "0": 21816,
           "bdata": "OFU=",
           "dtype": "i2",
           "shape": "1"
          },
          "bdata": "OFU=",
          "dtype": "i2"
         },
         "xaxis": "x",
         "y": [
          "Hyundai"
         ],
         "yaxis": "y"
        },
        {
         "hovertemplate": "brand=%{y}<br>count=%{x}<extra></extra>",
         "legendgroup": "BMW",
         "marker": {
          "color": "#00008B",
          "pattern": {
           "shape": ""
          }
         },
         "name": "BMW",
         "orientation": "h",
         "showlegend": true,
         "textposition": "auto",
         "type": "bar",
         "x": {
          "_inputArray": {
           "0": 20719,
           "bdata": "71A=",
           "dtype": "i2",
           "shape": "1"
          },
          "bdata": "71A=",
          "dtype": "i2"
         },
         "xaxis": "x",
         "y": [
          "BMW"
         ],
         "yaxis": "y"
        },
        {
         "hovertemplate": "brand=%{y}<br>count=%{x}<extra></extra>",
         "legendgroup": "Kia",
         "marker": {
          "color": "#00008B",
          "pattern": {
           "shape": ""
          }
         },
         "name": "Kia",
         "orientation": "h",
         "showlegend": true,
         "textposition": "auto",
         "type": "bar",
         "x": {
          "_inputArray": {
           "0": 18077,
           "bdata": "nUY=",
           "dtype": "i2",
           "shape": "1"
          },
          "bdata": "nUY=",
          "dtype": "i2"
         },
         "xaxis": "x",
         "y": [
          "Kia"
         ],
         "yaxis": "y"
        },
        {
         "hovertemplate": "brand=%{y}<br>count=%{x}<extra></extra>",
         "legendgroup": "Chrysler",
         "marker": {
          "color": "#00008B",
          "pattern": {
           "shape": ""
          }
         },
         "name": "Chrysler",
         "orientation": "h",
         "showlegend": true,
         "textposition": "auto",
         "type": "bar",
         "x": {
          "_inputArray": {
           "0": 17276,
           "bdata": "fEM=",
           "dtype": "i2",
           "shape": "1"
          },
          "bdata": "fEM=",
          "dtype": "i2"
         },
         "xaxis": "x",
         "y": [
          "Chrysler"
         ],
         "yaxis": "y"
        }
       ],
       "layout": {
        "autosize": true,
        "barmode": "relative",
        "legend": {
         "title": {
          "text": "brand"
         },
         "tracegroupgap": 0
        },
        "template": {
         "data": {
          "bar": [
           {
            "error_x": {
             "color": "#2a3f5f"
            },
            "error_y": {
             "color": "#2a3f5f"
            },
            "marker": {
             "line": {
              "color": "#E5ECF6",
              "width": 0.5
             },
             "pattern": {
              "fillmode": "overlay",
              "size": 10,
              "solidity": 0.2
             }
            },
            "type": "bar"
           }
          ],
          "barpolar": [
           {
            "marker": {
             "line": {
              "color": "#E5ECF6",
              "width": 0.5
             },
             "pattern": {
              "fillmode": "overlay",
              "size": 10,
              "solidity": 0.2
             }
            },
            "type": "barpolar"
           }
          ],
          "carpet": [
           {
            "aaxis": {
             "endlinecolor": "#2a3f5f",
             "gridcolor": "white",
             "linecolor": "white",
             "minorgridcolor": "white",
             "startlinecolor": "#2a3f5f"
            },
            "baxis": {
             "endlinecolor": "#2a3f5f",
             "gridcolor": "white",
             "linecolor": "white",
             "minorgridcolor": "white",
             "startlinecolor": "#2a3f5f"
            },
            "type": "carpet"
           }
          ],
          "choropleth": [
           {
            "colorbar": {
             "outlinewidth": 0,
             "ticks": ""
            },
            "type": "choropleth"
           }
          ],
          "contour": [
           {
            "colorbar": {
             "outlinewidth": 0,
             "ticks": ""
            },
            "colorscale": [
             [
              0,
              "#0d0887"
             ],
             [
              0.1111111111111111,
              "#46039f"
             ],
             [
              0.2222222222222222,
              "#7201a8"
             ],
             [
              0.3333333333333333,
              "#9c179e"
             ],
             [
              0.4444444444444444,
              "#bd3786"
             ],
             [
              0.5555555555555556,
              "#d8576b"
             ],
             [
              0.6666666666666666,
              "#ed7953"
             ],
             [
              0.7777777777777778,
              "#fb9f3a"
             ],
             [
              0.8888888888888888,
              "#fdca26"
             ],
             [
              1,
              "#f0f921"
             ]
            ],
            "type": "contour"
           }
          ],
          "contourcarpet": [
           {
            "colorbar": {
             "outlinewidth": 0,
             "ticks": ""
            },
            "type": "contourcarpet"
           }
          ],
          "heatmap": [
           {
            "colorbar": {
             "outlinewidth": 0,
             "ticks": ""
            },
            "colorscale": [
             [
              0,
              "#0d0887"
             ],
             [
              0.1111111111111111,
              "#46039f"
             ],
             [
              0.2222222222222222,
              "#7201a8"
             ],
             [
              0.3333333333333333,
              "#9c179e"
             ],
             [
              0.4444444444444444,
              "#bd3786"
             ],
             [
              0.5555555555555556,
              "#d8576b"
             ],
             [
              0.6666666666666666,
              "#ed7953"
             ],
             [
              0.7777777777777778,
              "#fb9f3a"
             ],
             [
              0.8888888888888888,
              "#fdca26"
             ],
             [
              1,
              "#f0f921"
             ]
            ],
            "type": "heatmap"
           }
          ],
          "histogram": [
           {
            "marker": {
             "pattern": {
              "fillmode": "overlay",
              "size": 10,
              "solidity": 0.2
             }
            },
            "type": "histogram"
           }
          ],
          "histogram2d": [
           {
            "colorbar": {
             "outlinewidth": 0,
             "ticks": ""
            },
            "colorscale": [
             [
              0,
              "#0d0887"
             ],
             [
              0.1111111111111111,
              "#46039f"
             ],
             [
              0.2222222222222222,
              "#7201a8"
             ],
             [
              0.3333333333333333,
              "#9c179e"
             ],
             [
              0.4444444444444444,
              "#bd3786"
             ],
             [
              0.5555555555555556,
              "#d8576b"
             ],
             [
              0.6666666666666666,
              "#ed7953"
             ],
             [
              0.7777777777777778,
              "#fb9f3a"
             ],
             [
              0.8888888888888888,
              "#fdca26"
             ],
             [
              1,
              "#f0f921"
             ]
            ],
            "type": "histogram2d"
           }
          ],
          "histogram2dcontour": [
           {
            "colorbar": {
             "outlinewidth": 0,
             "ticks": ""
            },
            "colorscale": [
             [
              0,
              "#0d0887"
             ],
             [
              0.1111111111111111,
              "#46039f"
             ],
             [
              0.2222222222222222,
              "#7201a8"
             ],
             [
              0.3333333333333333,
              "#9c179e"
             ],
             [
              0.4444444444444444,
              "#bd3786"
             ],
             [
              0.5555555555555556,
              "#d8576b"
             ],
             [
              0.6666666666666666,
              "#ed7953"
             ],
             [
              0.7777777777777778,
              "#fb9f3a"
             ],
             [
              0.8888888888888888,
              "#fdca26"
             ],
             [
              1,
              "#f0f921"
             ]
            ],
            "type": "histogram2dcontour"
           }
          ],
          "mesh3d": [
           {
            "colorbar": {
             "outlinewidth": 0,
             "ticks": ""
            },
            "type": "mesh3d"
           }
          ],
          "parcoords": [
           {
            "line": {
             "colorbar": {
              "outlinewidth": 0,
              "ticks": ""
             }
            },
            "type": "parcoords"
           }
          ],
          "pie": [
           {
            "automargin": true,
            "type": "pie"
           }
          ],
          "scatter": [
           {
            "fillpattern": {
             "fillmode": "overlay",
             "size": 10,
             "solidity": 0.2
            },
            "type": "scatter"
           }
          ],
          "scatter3d": [
           {
            "line": {
             "colorbar": {
              "outlinewidth": 0,
              "ticks": ""
             }
            },
            "marker": {
             "colorbar": {
              "outlinewidth": 0,
              "ticks": ""
             }
            },
            "type": "scatter3d"
           }
          ],
          "scattercarpet": [
           {
            "marker": {
             "colorbar": {
              "outlinewidth": 0,
              "ticks": ""
             }
            },
            "type": "scattercarpet"
           }
          ],
          "scattergeo": [
           {
            "marker": {
             "colorbar": {
              "outlinewidth": 0,
              "ticks": ""
             }
            },
            "type": "scattergeo"
           }
          ],
          "scattergl": [
           {
            "marker": {
             "colorbar": {
              "outlinewidth": 0,
              "ticks": ""
             }
            },
            "type": "scattergl"
           }
          ],
          "scattermap": [
           {
            "marker": {
             "colorbar": {
              "outlinewidth": 0,
              "ticks": ""
             }
            },
            "type": "scattermap"
           }
          ],
          "scattermapbox": [
           {
            "marker": {
             "colorbar": {
              "outlinewidth": 0,
              "ticks": ""
             }
            },
            "type": "scattermapbox"
           }
          ],
          "scatterpolar": [
           {
            "marker": {
             "colorbar": {
              "outlinewidth": 0,
              "ticks": ""
             }
            },
            "type": "scatterpolar"
           }
          ],
          "scatterpolargl": [
           {
            "marker": {
             "colorbar": {
              "outlinewidth": 0,
              "ticks": ""
             }
            },
            "type": "scatterpolargl"
           }
          ],
          "scatterternary": [
           {
            "marker": {
             "colorbar": {
              "outlinewidth": 0,
              "ticks": ""
             }
            },
            "type": "scatterternary"
           }
          ],
          "surface": [
           {
            "colorbar": {
             "outlinewidth": 0,
             "ticks": ""
            },
            "colorscale": [
             [
              0,
              "#0d0887"
             ],
             [
              0.1111111111111111,
              "#46039f"
             ],
             [
              0.2222222222222222,
              "#7201a8"
             ],
             [
              0.3333333333333333,
              "#9c179e"
             ],
             [
              0.4444444444444444,
              "#bd3786"
             ],
             [
              0.5555555555555556,
              "#d8576b"
             ],
             [
              0.6666666666666666,
              "#ed7953"
             ],
             [
              0.7777777777777778,
              "#fb9f3a"
             ],
             [
              0.8888888888888888,
              "#fdca26"
             ],
             [
              1,
              "#f0f921"
             ]
            ],
            "type": "surface"
           }
          ],
          "table": [
           {
            "cells": {
             "fill": {
              "color": "#EBF0F8"
             },
             "line": {
              "color": "white"
             }
            },
            "header": {
             "fill": {
              "color": "#C8D4E3"
             },
             "line": {
              "color": "white"
             }
            },
            "type": "table"
           }
          ]
         },
         "layout": {
          "annotationdefaults": {
           "arrowcolor": "#2a3f5f",
           "arrowhead": 0,
           "arrowwidth": 1
          },
          "autotypenumbers": "strict",
          "coloraxis": {
           "colorbar": {
            "outlinewidth": 0,
            "ticks": ""
           }
          },
          "colorscale": {
           "diverging": [
            [
             0,
             "#8e0152"
            ],
            [
             0.1,
             "#c51b7d"
            ],
            [
             0.2,
             "#de77ae"
            ],
            [
             0.3,
             "#f1b6da"
            ],
            [
             0.4,
             "#fde0ef"
            ],
            [
             0.5,
             "#f7f7f7"
            ],
            [
             0.6,
             "#e6f5d0"
            ],
            [
             0.7,
             "#b8e186"
            ],
            [
             0.8,
             "#7fbc41"
            ],
            [
             0.9,
             "#4d9221"
            ],
            [
             1,
             "#276419"
            ]
           ],
           "sequential": [
            [
             0,
             "#0d0887"
            ],
            [
             0.1111111111111111,
             "#46039f"
            ],
            [
             0.2222222222222222,
             "#7201a8"
            ],
            [
             0.3333333333333333,
             "#9c179e"
            ],
            [
             0.4444444444444444,
             "#bd3786"
            ],
            [
             0.5555555555555556,
             "#d8576b"
            ],
            [
             0.6666666666666666,
             "#ed7953"
            ],
            [
             0.7777777777777778,
             "#fb9f3a"
            ],
            [
             0.8888888888888888,
             "#fdca26"
            ],
            [
             1,
             "#f0f921"
            ]
           ],
           "sequentialminus": [
            [
             0,
             "#0d0887"
            ],
            [
             0.1111111111111111,
             "#46039f"
            ],
            [
             0.2222222222222222,
             "#7201a8"
            ],
            [
             0.3333333333333333,
             "#9c179e"
            ],
            [
             0.4444444444444444,
             "#bd3786"
            ],
            [
             0.5555555555555556,
             "#d8576b"
            ],
            [
             0.6666666666666666,
             "#ed7953"
            ],
            [
             0.7777777777777778,
             "#fb9f3a"
            ],
            [
             0.8888888888888888,
             "#fdca26"
            ],
            [
             1,
             "#f0f921"
            ]
           ]
          },
          "colorway": [
           "#636efa",
           "#EF553B",
           "#00cc96",
           "#ab63fa",
           "#FFA15A",
           "#19d3f3",
           "#FF6692",
           "#B6E880",
           "#FF97FF",
           "#FECB52"
          ],
          "font": {
           "color": "#2a3f5f"
          },
          "geo": {
           "bgcolor": "white",
           "lakecolor": "white",
           "landcolor": "#E5ECF6",
           "showlakes": true,
           "showland": true,
           "subunitcolor": "white"
          },
          "hoverlabel": {
           "align": "left"
          },
          "hovermode": "closest",
          "mapbox": {
           "style": "light"
          },
          "paper_bgcolor": "white",
          "plot_bgcolor": "#E5ECF6",
          "polar": {
           "angularaxis": {
            "gridcolor": "white",
            "linecolor": "white",
            "ticks": ""
           },
           "bgcolor": "#E5ECF6",
           "radialaxis": {
            "gridcolor": "white",
            "linecolor": "white",
            "ticks": ""
           }
          },
          "scene": {
           "xaxis": {
            "backgroundcolor": "#E5ECF6",
            "gridcolor": "white",
            "gridwidth": 2,
            "linecolor": "white",
            "showbackground": true,
            "ticks": "",
            "zerolinecolor": "white"
           },
           "yaxis": {
            "backgroundcolor": "#E5ECF6",
            "gridcolor": "white",
            "gridwidth": 2,
            "linecolor": "white",
            "showbackground": true,
            "ticks": "",
            "zerolinecolor": "white"
           },
           "zaxis": {
            "backgroundcolor": "#E5ECF6",
            "gridcolor": "white",
            "gridwidth": 2,
            "linecolor": "white",
            "showbackground": true,
            "ticks": "",
            "zerolinecolor": "white"
           }
          },
          "shapedefaults": {
           "line": {
            "color": "#2a3f5f"
           }
          },
          "ternary": {
           "aaxis": {
            "gridcolor": "white",
            "linecolor": "white",
            "ticks": ""
           },
           "baxis": {
            "gridcolor": "white",
            "linecolor": "white",
            "ticks": ""
           },
           "bgcolor": "#E5ECF6",
           "caxis": {
            "gridcolor": "white",
            "linecolor": "white",
            "ticks": ""
           }
          },
          "title": {
           "x": 0.05
          },
          "xaxis": {
           "automargin": true,
           "gridcolor": "white",
           "linecolor": "white",
           "ticks": "",
           "title": {
            "standoff": 15
           },
           "zerolinecolor": "white",
           "zerolinewidth": 2
          },
          "yaxis": {
           "automargin": true,
           "gridcolor": "white",
           "linecolor": "white",
           "ticks": "",
           "title": {
            "standoff": 15
           },
           "zerolinecolor": "white",
           "zerolinewidth": 2
          }
         }
        },
        "title": {
         "text": "Top 10 Car Brands by Number of Cars Sold"
        },
        "xaxis": {
         "anchor": "y",
         "autorange": true,
         "domain": [
          0,
          1
         ],
         "range": [
          0,
          98477.8947368421
         ],
         "title": {
          "text": "count"
         },
         "type": "linear"
        },
        "yaxis": {
         "anchor": "x",
         "autorange": true,
         "categoryarray": [
          "Chrysler",
          "Kia",
          "BMW",
          "Hyundai",
          "Honda",
          "Dodge",
          "Toyota",
          "Nissan",
          "Chevrolet",
          "Ford"
         ],
         "categoryorder": "array",
         "domain": [
          0,
          1
         ],
         "range": [
          9.5,
          -0.5
         ],
         "title": {
          "text": "brand"
         },
         "type": "category"
        }
       }
      },
      "image/png": "[encoded data removed]"
     },
     "metadata": {},
     "output_type": "display_data"
    },
    {
     "data": {
      "application/vnd.plotly.v1+json": {
       "config": {
        "plotlyServerURL": "https://plot.ly"
       },
       "data": [
        {
         "hovertemplate": "brand=%{y}<br>count=%{x}<extra></extra>",
         "legendgroup": "Ford",
         "marker": {
          "color": "#00008B",
          "pattern": {
           "shape": ""
          }
         },
         "name": "Ford",
         "orientation": "h",
         "showlegend": true,
         "textposition": "auto",
         "type": "bar",
         "x": {
          "_inputArray": {
           "0": 93554,
           "bdata": "cm0BAA==",
           "dtype": "i4",
           "shape": "1"
          },
          "bdata": "cm0BAA==",
          "dtype": "i4"
         },
         "xaxis": "x",
         "y": [
          "Ford"
         ],
         "yaxis": "y"
        },
        {
         "hovertemplate": "brand=%{y}<br>count=%{x}<extra></extra>",
         "legendgroup": "Chevrolet",
         "marker": {
          "color": "#00008B",
          "pattern": {
           "shape": ""
          }
         },
         "name": "Chevrolet",
         "orientation": "h",
         "showlegend": true,
         "textposition": "auto",
         "type": "bar",
         "x": {
          "_inputArray": {
           "0": 60197,
           "bdata": "JesAAA==",
           "dtype": "i4",
           "shape": "1"
          },
          "bdata": "JesAAA==",
          "dtype": "i4"
         },
         "xaxis": "x",
         "y": [
          "Chevrolet"
         ],
         "yaxis": "y"
        },
        {
         "hovertemplate": "brand=%{y}<br>count=%{x}<extra></extra>",
         "legendgroup": "Nissan",
         "marker": {
          "color": "#00008B",
          "pattern": {
           "shape": ""
          }
         },
         "name": "Nissan",
         "orientation": "h",
         "showlegend": true,
         "textposition": "auto",
         "type": "bar",
         "x": {
          "_inputArray": {
           "0": 53946,
           "bdata": "utIAAA==",
           "dtype": "i4",
           "shape": "1"
          },
          "bdata": "utIAAA==",
          "dtype": "i4"
         },
         "xaxis": "x",
         "y": [
          "Nissan"
         ],
         "yaxis": "y"
        },
        {
         "hovertemplate": "brand=%{y}<br>count=%{x}<extra></extra>",
         "legendgroup": "Toyota",
         "marker": {
          "color": "#00008B",
          "pattern": {
           "shape": ""
          }
         },
         "name": "Toyota",
         "orientation": "h",
         "showlegend": true,
         "textposition": "auto",
         "type": "bar",
         "x": {
          "_inputArray": {
           "0": 39871,
           "bdata": "v5sAAA==",
           "dtype": "i4",
           "shape": "1"
          },
          "bdata": "v5sAAA==",
          "dtype": "i4"
         },
         "xaxis": "x",
         "y": [
          "Toyota"
         ],
         "yaxis": "y"
        },
        {
         "hovertemplate": "brand=%{y}<br>count=%{x}<extra></extra>",
         "legendgroup": "Dodge",
         "marker": {
          "color": "#00008B",
          "pattern": {
           "shape": ""
          }
         },
         "name": "Dodge",
         "orientation": "h",
         "showlegend": true,
         "textposition": "auto",
         "type": "bar",
         "x": {
          "_inputArray": {
           "0": 30710,
           "bdata": "9nc=",
           "dtype": "i2",
           "shape": "1"
          },
          "bdata": "9nc=",
          "dtype": "i2"
         },
         "xaxis": "x",
         "y": [
          "Dodge"
         ],
         "yaxis": "y"
        },
        {
         "hovertemplate": "brand=%{y}<br>count=%{x}<extra></extra>",
         "legendgroup": "Honda",
         "marker": {
          "color": "#00008B",
          "pattern": {
           "shape": ""
          }
         },
         "name": "Honda",
         "orientation": "h",
         "showlegend": true,
         "textposition": "auto",
         "type": "bar",
         "x": {
          "_inputArray": {
           "0": 27206,
           "bdata": "Rmo=",
           "dtype": "i2",
           "shape": "1"
          },
          "bdata": "Rmo=",
          "dtype": "i2"
         },
         "xaxis": "x",
         "y": [
          "Honda"
         ],
         "yaxis": "y"
        },
        {
         "hovertemplate": "brand=%{y}<br>count=%{x}<extra></extra>",
         "legendgroup": "Hyundai",
         "marker": {
          "color": "#00008B",
          "pattern": {
           "shape": ""
          }
         },
         "name": "Hyundai",
         "orientation": "h",
         "showlegend": true,
         "textposition": "auto",
         "type": "bar",
         "x": {
          "_inputArray": {
           "0": 21816,
           "bdata": "OFU=",
           "dtype": "i2",
           "shape": "1"
          },
          "bdata": "OFU=",
          "dtype": "i2"
         },
         "xaxis": "x",
         "y": [
          "Hyundai"
         ],
         "yaxis": "y"
        },
        {
         "hovertemplate": "brand=%{y}<br>count=%{x}<extra></extra>",
         "legendgroup": "BMW",
         "marker": {
          "color": "#00008B",
          "pattern": {
           "shape": ""
          }
         },
         "name": "BMW",
         "orientation": "h",
         "showlegend": true,
         "textposition": "auto",
         "type": "bar",
         "x": {
          "_inputArray": {
           "0": 20719,
           "bdata": "71A=",
           "dtype": "i2",
           "shape": "1"
          },
          "bdata": "71A=",
          "dtype": "i2"
         },
         "xaxis": "x",
         "y": [
          "BMW"
         ],
         "yaxis": "y"
        },
        {
         "hovertemplate": "brand=%{y}<br>count=%{x}<extra></extra>",
         "legendgroup": "Kia",
         "marker": {
          "color": "#00008B",
          "pattern": {
           "shape": ""
          }
         },
         "name": "Kia",
         "orientation": "h",
         "showlegend": true,
         "textposition": "auto",
         "type": "bar",
         "x": {
          "_inputArray": {
           "0": 18077,
           "bdata": "nUY=",
           "dtype": "i2",
           "shape": "1"
          },
          "bdata": "nUY=",
          "dtype": "i2"
         },
         "xaxis": "x",
         "y": [
          "Kia"
         ],
         "yaxis": "y"
        },
        {
         "hovertemplate": "brand=%{y}<br>count=%{x}<extra></extra>",
         "legendgroup": "Chrysler",
         "marker": {
          "color": "#00008B",
          "pattern": {
           "shape": ""
          }
         },
         "name": "Chrysler",
         "orientation": "h",
         "showlegend": true,
         "textposition": "auto",
         "type": "bar",
         "x": {
          "_inputArray": {
           "0": 17276,
           "bdata": "fEM=",
           "dtype": "i2",
           "shape": "1"
          },
          "bdata": "fEM=",
          "dtype": "i2"
         },
         "xaxis": "x",
         "y": [
          "Chrysler"
         ],
         "yaxis": "y"
        }
       ],
       "layout": {
        "autosize": true,
        "barmode": "relative",
        "legend": {
         "title": {
          "text": "brand"
         },
         "tracegroupgap": 0
        },
        "paper_bgcolor": "rgb(0, 0, 0)",
        "plot_bgcolor": "rgb(0, 0, 0)",
        "template": {
         "data": {
          "pie": [
           {
            "automargin": true,
            "type": "pie"
           }
          ],
          "scatter": [
           {
            "line": {
             "width": 3
            },
            "marker": {
             "size": 9
            },
            "type": "scatter"
           }
          ],
          "scatter3d": [
           {
            "line": {
             "width": 3
            },
            "marker": {
             "size": 9
            },
            "type": "scatter3d"
           }
          ],
          "scattergeo": [
           {
            "line": {
             "width": 3
            },
            "marker": {
             "size": 9
            },
            "type": "scattergeo"
           }
          ],
          "scattergl": [
           {
            "line": {
             "width": 3
            },
            "marker": {
             "size": 9
            },
            "type": "scattergl"
           }
          ],
          "scatterpolar": [
           {
            "line": {
             "width": 3
            },
            "marker": {
             "size": 9
            },
            "type": "scatterpolar"
           }
          ],
          "scatterpolargl": [
           {
            "line": {
             "width": 3
            },
            "marker": {
             "size": 9
            },
            "type": "scatterpolargl"
           }
          ],
          "scatterternary": [
           {
            "line": {
             "width": 3
            },
            "marker": {
             "size": 9
            },
            "type": "scatterternary"
           }
          ],
          "table": [
           {
            "cells": {
             "height": 30
            },
            "header": {
             "height": 36
            },
            "type": "table"
           }
          ]
         },
         "layout": {
          "font": {
           "size": 18
          },
          "xaxis": {
           "title": {
            "standoff": 15
           }
          },
          "yaxis": {
           "title": {
            "standoff": 15
           }
          }
         }
        },
        "title": {
         "text": "Top 10 Car Brands by Number of Cars Sold"
        },
        "xaxis": {
         "anchor": "y",
         "autorange": true,
         "domain": [
          0,
          1
         ],
         "range": [
          0,
          98477.8947368421
         ],
         "title": {
          "text": "count"
         },
         "type": "linear"
        },
        "yaxis": {
         "anchor": "x",
         "autorange": true,
         "categoryarray": [
          "Chrysler",
          "Kia",
          "BMW",
          "Hyundai",
          "Honda",
          "Dodge",
          "Toyota",
          "Nissan",
          "Chevrolet",
          "Ford"
         ],
         "categoryorder": "array",
         "domain": [
          0,
          1
         ],
         "range": [
          9.5,
          -0.5
         ],
         "title": {
          "text": "brand"
         },
         "type": "category"
        }
       }
      },
      "image/png": "[encoded data removed]"
     },
     "metadata": {},
     "output_type": "display_data"
    }
   ],
   "source": [
    "import plotly.express as px\n",
    "\n",
    "fig = px.bar(\n",
    "    top_brands, \n",
    "    x='count', \n",
    "    y='brand', \n",
    "    orientation='h',\n",
    "    title='Top 10 Car Brands by Number of Cars Sold',\n",
    "    color_discrete_sequence=['#00008B'],  # Dark blue\n",
    "    color='brand'  # Needed for plotly to apply color; we'll override it\n",
    ")\n",
    "\n",
    "# Force all bars to the same dark blue color by turning off color grouping\n",
    "fig.for_each_trace(lambda t: t.update(marker_color='#00008B'))\n",
    "\n",
    "# Optional: Reverse y-axis for better ranking order (top at top)\n",
    "fig.update_layout(yaxis=dict(autorange='reversed'))\n",
    "\n",
    "fig.show()\n",
    "fig.update_layout(template='presentation', paper_bgcolor='rgb(0, 0, 0)', plot_bgcolor='rgb(0, 0, 0)')\n",
    "fig.show()\n",
    "\n",
    "# Save in multiple formats\n",
    "fig.write_image(os.path.join(results_dir, 'Top_10_cars_brands_by_number_of _cars_soldbar.jpg'))\n",
    "fig.write_image(os.path.join(results_dir, 'Top_10_cars_brands_by_number_of _cars_soldbar.png'))\n",
    "fig.write_html(os.path.join(results_dir, 'Top_10_cars_brands_by_number_of _cars_soldbar.html'))\n"
   ]
  },
  {
   "cell_type": "code",
   "execution_count": null,
   "id": "7edd5f67-92be-49fd-abe6-d70cd8a3f508",
   "metadata": {},
   "outputs": [],
   "source": []
  },
  {
   "cell_type": "markdown",
   "id": "9a72a1dc-0f39-44f8-8631-b40112284cfd",
   "metadata": {},
   "source": [
    "### Average Depreciation Rate by Brand"
   ]
  },
  {
   "cell_type": "code",
   "execution_count": 200,
   "id": "6315240e-b5a8-452a-9437-550185a997e3",
   "metadata": {},
   "outputs": [
    {
     "ename": "SyntaxError",
     "evalue": "incomplete input (2545975530.py, line 7)",
     "output_type": "error",
     "traceback": [
      "\u001b[1;36m  Cell \u001b[1;32mIn[200], line 7\u001b[1;36m\u001b[0m\n\u001b[1;33m    .reset_index()\u001b[0m\n\u001b[1;37m                  ^\u001b[0m\n\u001b[1;31mSyntaxError\u001b[0m\u001b[1;31m:\u001b[0m incomplete input\n"
     ]
    }
   ],
   "source": [
    "#Question: Which brands lose value fastest?\n",
    "depr_by_brand = (\n",
    "    car_sales_df.groupby('brand', observed=True)['depreciation_rate']\n",
    "    .mean()\n",
    "    .sort_values(ascending=False)\n",
    "    .head(10)\n",
    "    .reset_index()"
   ]
  },
  {
   "cell_type": "code",
   "execution_count": 148,
   "id": "937c9c88-7338-4447-a146-fa3d198d964c",
   "metadata": {},
   "outputs": [
    {
     "data": {
      "application/vnd.plotly.v1+json": {
       "config": {
        "plotlyServerURL": "https://plot.ly"
       },
       "data": [
        {
         "hovertemplate": "brand=%{x}<br>depreciation_rate=%{text}<extra></extra>",
         "legendgroup": "",
         "marker": {
          "color": "rgb(103,0,31)",
          "pattern": {
           "shape": ""
          }
         },
         "name": "",
         "orientation": "v",
         "showlegend": false,
         "text": {
          "_inputArray": {
           "0": 0.41,
           "1": 0.2733333333333334,
           "2": 0.21142857142857144,
           "3": 0.19,
           "4": 0.136,
           "5": 0.12,
           "6": 0.11421052631578947,
           "7": 0.09333333333333332,
           "8": 0.086,
           "9": 0.08349999999999999,
           "bdata": "PQrXo3A92j9/seQXS37RPzXk3GcXEMs/UrgehetRyD+cxCCwcmjBP7gehetRuL4/m6Biq+Y8vT/kF0t+seS3P2q8dJMYBLY/xks3iUFgtT8=",
           "dtype": "f8",
           "shape": "10"
          },
          "bdata": "PQrXo3A92j9/seQXS37RPzXk3GcXEMs/UrgehetRyD+cxCCwcmjBP7gehetRuL4/m6Biq+Y8vT/kF0t+seS3P2q8dJMYBLY/xks3iUFgtT8=",
          "dtype": "f8"
         },
         "textfont": {
          "size": 12
         },
         "textposition": "outside",
         "texttemplate": "%{text:.2f}",
         "type": "bar",
         "x": [
          "dot",
          "Daewoo",
          "kia",
          "ford tk",
          "oldsmobile",
          "dodge tk",
          "Geo",
          "ford truck",
          "gmc",
          "Plymouth"
         ],
         "xaxis": "x",
         "y": {
          "_inputArray": {
           "0": 0.41,
           "1": 0.2733333333333334,
           "2": 0.21142857142857144,
           "3": 0.19,
           "4": 0.136,
           "5": 0.12,
           "6": 0.11421052631578947,
           "7": 0.09333333333333332,
           "8": 0.086,
           "9": 0.08349999999999999,
           "bdata": "PQrXo3A92j9/seQXS37RPzXk3GcXEMs/UrgehetRyD+cxCCwcmjBP7gehetRuL4/m6Biq+Y8vT/kF0t+seS3P2q8dJMYBLY/xks3iUFgtT8=",
           "dtype": "f8",
           "shape": "10"
          },
          "bdata": "PQrXo3A92j9/seQXS37RPzXk3GcXEMs/UrgehetRyD+cxCCwcmjBP7gehetRuL4/m6Biq+Y8vT/kF0t+seS3P2q8dJMYBLY/xks3iUFgtT8=",
          "dtype": "f8"
         },
         "yaxis": "y"
        }
       ],
       "layout": {
        "barmode": "relative",
        "height": 600,
        "legend": {
         "tracegroupgap": 0
        },
        "margin": {
         "b": 100,
         "r": 50,
         "t": 100
        },
        "paper_bgcolor": "#00008B",
        "plot_bgcolor": "#00008B",
        "showlegend": false,
        "template": {
         "data": {
          "pie": [
           {
            "automargin": true,
            "type": "pie"
           }
          ],
          "scatter": [
           {
            "line": {
             "width": 3
            },
            "marker": {
             "size": 9
            },
            "type": "scatter"
           }
          ],
          "scatter3d": [
           {
            "line": {
             "width": 3
            },
            "marker": {
             "size": 9
            },
            "type": "scatter3d"
           }
          ],
          "scattergeo": [
           {
            "line": {
             "width": 3
            },
            "marker": {
             "size": 9
            },
            "type": "scattergeo"
           }
          ],
          "scattergl": [
           {
            "line": {
             "width": 3
            },
            "marker": {
             "size": 9
            },
            "type": "scattergl"
           }
          ],
          "scatterpolar": [
           {
            "line": {
             "width": 3
            },
            "marker": {
             "size": 9
            },
            "type": "scatterpolar"
           }
          ],
          "scatterpolargl": [
           {
            "line": {
             "width": 3
            },
            "marker": {
             "size": 9
            },
            "type": "scatterpolargl"
           }
          ],
          "scatterternary": [
           {
            "line": {
             "width": 3
            },
            "marker": {
             "size": 9
            },
            "type": "scatterternary"
           }
          ],
          "table": [
           {
            "cells": {
             "height": 30
            },
            "header": {
             "height": 36
            },
            "type": "table"
           }
          ]
         },
         "layout": {
          "font": {
           "size": 18
          },
          "xaxis": {
           "title": {
            "standoff": 15
           }
          },
          "yaxis": {
           "title": {
            "standoff": 15
           }
          }
         }
        },
        "title": {
         "text": "Average Depreciation Rate by Brand (Top 10)"
        },
        "width": 800,
        "xaxis": {
         "anchor": "y",
         "autorange": true,
         "domain": [
          0,
          1
         ],
         "range": [
          -0.5,
          9.5
         ],
         "title": {
          "text": "Brand"
         },
         "type": "category"
        },
        "yaxis": {
         "anchor": "x",
         "autorange": true,
         "domain": [
          0,
          1
         ],
         "range": [
          0,
          0.431578947368421
         ],
         "title": {
          "text": "Depreciation Rate"
         },
         "type": "linear"
        }
       }
      },
      "image/png": "[encoded data removed]"
     },
     "metadata": {},
     "output_type": "display_data"
    },
    {
     "data": {
      "application/vnd.plotly.v1+json": {
       "config": {
        "plotlyServerURL": "https://plot.ly"
       },
       "data": [
        {
         "hovertemplate": "brand=%{x}<br>depreciation_rate=%{text}<extra></extra>",
         "legendgroup": "",
         "marker": {
          "color": "rgb(103,0,31)",
          "pattern": {
           "shape": ""
          }
         },
         "name": "",
         "orientation": "v",
         "showlegend": false,
         "text": {
          "_inputArray": {
           "0": 0.41,
           "1": 0.2733333333333334,
           "2": 0.21142857142857144,
           "3": 0.19,
           "4": 0.136,
           "5": 0.12,
           "6": 0.11421052631578947,
           "7": 0.09333333333333332,
           "8": 0.086,
           "9": 0.08349999999999999,
           "bdata": "PQrXo3A92j9/seQXS37RPzXk3GcXEMs/UrgehetRyD+cxCCwcmjBP7gehetRuL4/m6Biq+Y8vT/kF0t+seS3P2q8dJMYBLY/xks3iUFgtT8=",
           "dtype": "f8",
           "shape": "10"
          },
          "bdata": "PQrXo3A92j9/seQXS37RPzXk3GcXEMs/UrgehetRyD+cxCCwcmjBP7gehetRuL4/m6Biq+Y8vT/kF0t+seS3P2q8dJMYBLY/xks3iUFgtT8=",
          "dtype": "f8"
         },
         "textfont": {
          "size": 12
         },
         "textposition": "outside",
         "texttemplate": "%{text:.2f}",
         "type": "bar",
         "x": [
          "dot",
          "Daewoo",
          "kia",
          "ford tk",
          "oldsmobile",
          "dodge tk",
          "Geo",
          "ford truck",
          "gmc",
          "Plymouth"
         ],
         "xaxis": "x",
         "y": {
          "_inputArray": {
           "0": 0.41,
           "1": 0.2733333333333334,
           "2": 0.21142857142857144,
           "3": 0.19,
           "4": 0.136,
           "5": 0.12,
           "6": 0.11421052631578947,
           "7": 0.09333333333333332,
           "8": 0.086,
           "9": 0.08349999999999999,
           "bdata": "PQrXo3A92j9/seQXS37RPzXk3GcXEMs/UrgehetRyD+cxCCwcmjBP7gehetRuL4/m6Biq+Y8vT/kF0t+seS3P2q8dJMYBLY/xks3iUFgtT8=",
           "dtype": "f8",
           "shape": "10"
          },
          "bdata": "PQrXo3A92j9/seQXS37RPzXk3GcXEMs/UrgehetRyD+cxCCwcmjBP7gehetRuL4/m6Biq+Y8vT/kF0t+seS3P2q8dJMYBLY/xks3iUFgtT8=",
          "dtype": "f8"
         },
         "yaxis": "y"
        }
       ],
       "layout": {
        "barmode": "relative",
        "height": 600,
        "legend": {
         "tracegroupgap": 0
        },
        "margin": {
         "b": 100,
         "r": 50,
         "t": 100
        },
        "paper_bgcolor": "rgb(0, 0, 0)",
        "plot_bgcolor": "rgb(0, 0, 0)",
        "showlegend": false,
        "template": {
         "data": {
          "pie": [
           {
            "automargin": true,
            "type": "pie"
           }
          ],
          "scatter": [
           {
            "line": {
             "width": 3
            },
            "marker": {
             "size": 9
            },
            "type": "scatter"
           }
          ],
          "scatter3d": [
           {
            "line": {
             "width": 3
            },
            "marker": {
             "size": 9
            },
            "type": "scatter3d"
           }
          ],
          "scattergeo": [
           {
            "line": {
             "width": 3
            },
            "marker": {
             "size": 9
            },
            "type": "scattergeo"
           }
          ],
          "scattergl": [
           {
            "line": {
             "width": 3
            },
            "marker": {
             "size": 9
            },
            "type": "scattergl"
           }
          ],
          "scatterpolar": [
           {
            "line": {
             "width": 3
            },
            "marker": {
             "size": 9
            },
            "type": "scatterpolar"
           }
          ],
          "scatterpolargl": [
           {
            "line": {
             "width": 3
            },
            "marker": {
             "size": 9
            },
            "type": "scatterpolargl"
           }
          ],
          "scatterternary": [
           {
            "line": {
             "width": 3
            },
            "marker": {
             "size": 9
            },
            "type": "scatterternary"
           }
          ],
          "table": [
           {
            "cells": {
             "height": 30
            },
            "header": {
             "height": 36
            },
            "type": "table"
           }
          ]
         },
         "layout": {
          "font": {
           "size": 18
          },
          "xaxis": {
           "title": {
            "standoff": 15
           }
          },
          "yaxis": {
           "title": {
            "standoff": 15
           }
          }
         }
        },
        "title": {
         "text": "Average Depreciation Rate by Brand (Top 10)"
        },
        "width": 800,
        "xaxis": {
         "anchor": "y",
         "autorange": true,
         "domain": [
          0,
          1
         ],
         "range": [
          -0.5,
          9.5
         ],
         "title": {
          "text": "Brand"
         },
         "type": "category"
        },
        "yaxis": {
         "anchor": "x",
         "autorange": true,
         "domain": [
          0,
          1
         ],
         "range": [
          0,
          0.431578947368421
         ],
         "title": {
          "text": "Depreciation Rate"
         },
         "type": "linear"
        }
       }
      },
      "image/png": "[encoded data removed]"
     },
     "metadata": {},
     "output_type": "display_data"
    }
   ],
   "source": [
    "#Question: Which brands lose value fastest?\n",
    "depr_by_brand = (\n",
    "    car_sales_df.groupby('brand', observed=True)['depreciation_rate']\n",
    "    .mean()\n",
    "    .sort_values(ascending=False)\n",
    "    .head(10)\n",
    "    .reset_index()\n",
    ")\n",
    "\n",
    "fig = px.bar(\n",
    "    depr_by_brand,\n",
    "    x='brand',\n",
    "    y='depreciation_rate',\n",
    "    title='Average Depreciation Rate by Brand (Top 10)',\n",
    "\n",
    "    text='depreciation_rate',\n",
    "    color_discrete_sequence=px.colors.sequential.RdBu\n",
    ")\n",
    "\n",
    "fig.update_traces(texttemplate='%{text:.2f}', textposition='outside',textfont_size=12)\n",
    "fig.update_layout(\n",
    "    template=\"presentation\",\n",
    "    xaxis_title='Brand',\n",
    "    yaxis_title='Depreciation Rate',\n",
    "     width=800,  # increase width\n",
    "    height=600,\n",
    "    paper_bgcolor='#00008B',\n",
    "    plot_bgcolor='#00008B',\n",
    "    margin=dict(t=100,r=50, b=100),\n",
    "    showlegend=False\n",
    ")\n",
    "\n",
    "fig.show()\n",
    "fig.update_layout(template='presentation', paper_bgcolor='rgb(0, 0, 0)', plot_bgcolor='rgb(0, 0, 0)')\n",
    "fig.show()\n",
    "\n",
    "# Save in multiple formats\n",
    "fig.write_image(os.path.join(results_dir, 'average_depreciation_tate_by_brandbar.jpg'))\n",
    "fig.write_image(os.path.join(results_dir, 'average_depreciation_tate_by_brandbar.png'))\n",
    "fig.write_html(os.path.join(results_dir, 'average_depreciation_tate_by_brandbar.html'))\n"
   ]
  },
  {
   "cell_type": "markdown",
   "id": "c511ed13-418b-4bb7-97de-7a85eaabe8db",
   "metadata": {},
   "source": [
    "## Selling price by vehicle age group"
   ]
  },
  {
   "cell_type": "code",
   "execution_count": 202,
   "id": "07b0b9eb-146d-4861-b86e-5af3a5bf6ad0",
   "metadata": {},
   "outputs": [
    {
     "data": {
      "text/html": [
       "<div>\n",
       "<style scoped>\n",
       "    .dataframe tbody tr th:only-of-type {\n",
       "        vertical-align: middle;\n",
       "    }\n",
       "\n",
       "    .dataframe tbody tr th {\n",
       "        vertical-align: top;\n",
       "    }\n",
       "\n",
       "    .dataframe thead th {\n",
       "        text-align: right;\n",
       "    }\n",
       "</style>\n",
       "<table border=\"1\" class=\"dataframe\">\n",
       "  <thead>\n",
       "    <tr style=\"text-align: right;\">\n",
       "      <th></th>\n",
       "      <th>age_group</th>\n",
       "      <th>transmission</th>\n",
       "      <th>total_by_age</th>\n",
       "    </tr>\n",
       "  </thead>\n",
       "  <tbody>\n",
       "    <tr>\n",
       "      <th>0</th>\n",
       "      <td>11-15</td>\n",
       "      <td>Sedan</td>\n",
       "      <td>11</td>\n",
       "    </tr>\n",
       "    <tr>\n",
       "      <th>1</th>\n",
       "      <td>11-15</td>\n",
       "      <td>Unknown</td>\n",
       "      <td>42009</td>\n",
       "    </tr>\n",
       "    <tr>\n",
       "      <th>2</th>\n",
       "      <td>11-15</td>\n",
       "      <td>automatic</td>\n",
       "      <td>290512</td>\n",
       "    </tr>\n",
       "    <tr>\n",
       "      <th>3</th>\n",
       "      <td>11-15</td>\n",
       "      <td>manual</td>\n",
       "      <td>6991</td>\n",
       "    </tr>\n",
       "    <tr>\n",
       "      <th>4</th>\n",
       "      <td>11-15</td>\n",
       "      <td>sedan</td>\n",
       "      <td>15</td>\n",
       "    </tr>\n",
       "    <tr>\n",
       "      <th>5</th>\n",
       "      <td>16-20</td>\n",
       "      <td>Unknown</td>\n",
       "      <td>13755</td>\n",
       "    </tr>\n",
       "    <tr>\n",
       "      <th>6</th>\n",
       "      <td>16-20</td>\n",
       "      <td>automatic</td>\n",
       "      <td>116896</td>\n",
       "    </tr>\n",
       "    <tr>\n",
       "      <th>7</th>\n",
       "      <td>16-20</td>\n",
       "      <td>manual</td>\n",
       "      <td>5688</td>\n",
       "    </tr>\n",
       "    <tr>\n",
       "      <th>8</th>\n",
       "      <td>21-30</td>\n",
       "      <td>Unknown</td>\n",
       "      <td>9358</td>\n",
       "    </tr>\n",
       "    <tr>\n",
       "      <th>9</th>\n",
       "      <td>21-30</td>\n",
       "      <td>automatic</td>\n",
       "      <td>67269</td>\n",
       "    </tr>\n",
       "    <tr>\n",
       "      <th>10</th>\n",
       "      <td>21-30</td>\n",
       "      <td>manual</td>\n",
       "      <td>4709</td>\n",
       "    </tr>\n",
       "    <tr>\n",
       "      <th>11</th>\n",
       "      <td>30+</td>\n",
       "      <td>Unknown</td>\n",
       "      <td>230</td>\n",
       "    </tr>\n",
       "    <tr>\n",
       "      <th>12</th>\n",
       "      <td>30+</td>\n",
       "      <td>automatic</td>\n",
       "      <td>1236</td>\n",
       "    </tr>\n",
       "    <tr>\n",
       "      <th>13</th>\n",
       "      <td>30+</td>\n",
       "      <td>manual</td>\n",
       "      <td>156</td>\n",
       "    </tr>\n",
       "  </tbody>\n",
       "</table>\n",
       "</div>"
      ],
      "text/plain": [
       "   age_group transmission  total_by_age\n",
       "0      11-15        Sedan            11\n",
       "1      11-15      Unknown         42009\n",
       "2      11-15    automatic        290512\n",
       "3      11-15       manual          6991\n",
       "4      11-15        sedan            15\n",
       "5      16-20      Unknown         13755\n",
       "6      16-20    automatic        116896\n",
       "7      16-20       manual          5688\n",
       "8      21-30      Unknown          9358\n",
       "9      21-30    automatic         67269\n",
       "10     21-30       manual          4709\n",
       "11       30+      Unknown           230\n",
       "12       30+    automatic          1236\n",
       "13       30+       manual           156"
      ]
     },
     "execution_count": 202,
     "metadata": {},
     "output_type": "execute_result"
    }
   ],
   "source": [
    "bins = [0, 3, 6, 10, 15, 20, 30, car_sales_df['age'].max()]\n",
    "labels = ['0-3', '4-6', '7-10', '11-15', '16-20', '21-30', '30+']\n",
    "car_sales_df['age_group'] = pd.cut(car_sales_df['age'], bins=bins, labels=labels, right=False)\n",
    "age_trans_group = (\n",
    "    car_sales_df.groupby(['age_group', 'transmission'],observed=True)\n",
    "    .size()\n",
    "    .reset_index(name='total_by_age')\n",
    "    .sort_values(['age_group', 'transmission'])\n",
    ")\n",
    "age_trans_group"
   ]
  },
  {
   "cell_type": "code",
   "execution_count": 204,
   "id": "f021bd19-7e61-4922-86fb-9df7dc808939",
   "metadata": {},
   "outputs": [
    {
     "data": {
      "text/html": [
       "<div>\n",
       "<style scoped>\n",
       "    .dataframe tbody tr th:only-of-type {\n",
       "        vertical-align: middle;\n",
       "    }\n",
       "\n",
       "    .dataframe tbody tr th {\n",
       "        vertical-align: top;\n",
       "    }\n",
       "\n",
       "    .dataframe thead th {\n",
       "        text-align: right;\n",
       "    }\n",
       "</style>\n",
       "<table border=\"1\" class=\"dataframe\">\n",
       "  <thead>\n",
       "    <tr style=\"text-align: right;\">\n",
       "      <th></th>\n",
       "      <th>age_group</th>\n",
       "      <th>transmission</th>\n",
       "      <th>total_by_age</th>\n",
       "      <th>percentage</th>\n",
       "    </tr>\n",
       "  </thead>\n",
       "  <tbody>\n",
       "    <tr>\n",
       "      <th>0</th>\n",
       "      <td>11-15</td>\n",
       "      <td>Sedan</td>\n",
       "      <td>11</td>\n",
       "      <td>0.003240</td>\n",
       "    </tr>\n",
       "    <tr>\n",
       "      <th>1</th>\n",
       "      <td>11-15</td>\n",
       "      <td>Unknown</td>\n",
       "      <td>42009</td>\n",
       "      <td>12.372400</td>\n",
       "    </tr>\n",
       "    <tr>\n",
       "      <th>2</th>\n",
       "      <td>11-15</td>\n",
       "      <td>automatic</td>\n",
       "      <td>290512</td>\n",
       "      <td>85.560968</td>\n",
       "    </tr>\n",
       "    <tr>\n",
       "      <th>3</th>\n",
       "      <td>11-15</td>\n",
       "      <td>manual</td>\n",
       "      <td>6991</td>\n",
       "      <td>2.058974</td>\n",
       "    </tr>\n",
       "    <tr>\n",
       "      <th>4</th>\n",
       "      <td>11-15</td>\n",
       "      <td>sedan</td>\n",
       "      <td>15</td>\n",
       "      <td>0.004418</td>\n",
       "    </tr>\n",
       "    <tr>\n",
       "      <th>5</th>\n",
       "      <td>16-20</td>\n",
       "      <td>Unknown</td>\n",
       "      <td>13755</td>\n",
       "      <td>10.088823</td>\n",
       "    </tr>\n",
       "    <tr>\n",
       "      <th>6</th>\n",
       "      <td>16-20</td>\n",
       "      <td>automatic</td>\n",
       "      <td>116896</td>\n",
       "      <td>85.739224</td>\n",
       "    </tr>\n",
       "    <tr>\n",
       "      <th>7</th>\n",
       "      <td>16-20</td>\n",
       "      <td>manual</td>\n",
       "      <td>5688</td>\n",
       "      <td>4.171954</td>\n",
       "    </tr>\n",
       "    <tr>\n",
       "      <th>8</th>\n",
       "      <td>21-30</td>\n",
       "      <td>Unknown</td>\n",
       "      <td>9358</td>\n",
       "      <td>11.505360</td>\n",
       "    </tr>\n",
       "    <tr>\n",
       "      <th>9</th>\n",
       "      <td>21-30</td>\n",
       "      <td>automatic</td>\n",
       "      <td>67269</td>\n",
       "      <td>82.705075</td>\n",
       "    </tr>\n",
       "    <tr>\n",
       "      <th>10</th>\n",
       "      <td>21-30</td>\n",
       "      <td>manual</td>\n",
       "      <td>4709</td>\n",
       "      <td>5.789564</td>\n",
       "    </tr>\n",
       "    <tr>\n",
       "      <th>11</th>\n",
       "      <td>30+</td>\n",
       "      <td>Unknown</td>\n",
       "      <td>230</td>\n",
       "      <td>14.180025</td>\n",
       "    </tr>\n",
       "    <tr>\n",
       "      <th>12</th>\n",
       "      <td>30+</td>\n",
       "      <td>automatic</td>\n",
       "      <td>1236</td>\n",
       "      <td>76.202219</td>\n",
       "    </tr>\n",
       "    <tr>\n",
       "      <th>13</th>\n",
       "      <td>30+</td>\n",
       "      <td>manual</td>\n",
       "      <td>156</td>\n",
       "      <td>9.617756</td>\n",
       "    </tr>\n",
       "  </tbody>\n",
       "</table>\n",
       "</div>"
      ],
      "text/plain": [
       "   age_group transmission  total_by_age  percentage\n",
       "0      11-15        Sedan            11    0.003240\n",
       "1      11-15      Unknown         42009   12.372400\n",
       "2      11-15    automatic        290512   85.560968\n",
       "3      11-15       manual          6991    2.058974\n",
       "4      11-15        sedan            15    0.004418\n",
       "5      16-20      Unknown         13755   10.088823\n",
       "6      16-20    automatic        116896   85.739224\n",
       "7      16-20       manual          5688    4.171954\n",
       "8      21-30      Unknown          9358   11.505360\n",
       "9      21-30    automatic         67269   82.705075\n",
       "10     21-30       manual          4709    5.789564\n",
       "11       30+      Unknown           230   14.180025\n",
       "12       30+    automatic          1236   76.202219\n",
       "13       30+       manual           156    9.617756"
      ]
     },
     "execution_count": 204,
     "metadata": {},
     "output_type": "execute_result"
    }
   ],
   "source": [
    "total_per_group = age_trans_group.groupby('age_group',observed=True)['total_by_age'].transform('sum')\n",
    "age_trans_group['percentage'] = (age_trans_group['total_by_age'] / total_per_group) * 100\n",
    "age_trans_group"
   ]
  },
  {
   "cell_type": "code",
   "execution_count": 222,
   "id": "967cd6c0-4cb5-40cd-b2b1-04cfa561a469",
   "metadata": {},
   "outputs": [
    {
     "data": {
      "application/vnd.plotly.v1+json": {
       "config": {
        "plotlyServerURL": "https://plot.ly"
       },
       "data": [
        {
         "alignmentgroup": "True",
         "hovertemplate": "transmission=Sedan<br>age_group=%{x}<br>percentage=%{text}<extra></extra>",
         "legendgroup": "Sedan",
         "marker": {
          "color": "#4682B4",
          "pattern": {
           "shape": ""
          }
         },
         "name": "Sedan",
         "offsetgroup": "Sedan",
         "orientation": "v",
         "showlegend": true,
         "text": {
          "_inputArray": {
           "0": 0.0032396962931984046,
           "bdata": "07MatCKKaj8=",
           "dtype": "f8",
           "shape": "1"
          },
          "bdata": "07MatCKKaj8=",
          "dtype": "f8"
         },
         "textfont": {
          "color": "white",
          "size": 12
         },
         "textposition": "outside",
         "texttemplate": "%{text:.2f}%",
         "type": "bar",
         "x": [
          "11-15"
         ],
         "xaxis": "x",
         "y": {
          "_inputArray": {
           "0": 0.0032396962931984046,
           "bdata": "07MatCKKaj8=",
           "dtype": "f8",
           "shape": "1"
          },
          "bdata": "07MatCKKaj8=",
          "dtype": "f8"
         },
         "yaxis": "y"
        },
        {
         "alignmentgroup": "True",
         "hovertemplate": "transmission=Unknown<br>age_group=%{x}<br>percentage=%{text}<extra></extra>",
         "legendgroup": "Unknown",
         "marker": {
          "color": "#4682B4",
          "pattern": {
           "shape": ""
          }
         },
         "name": "Unknown",
         "offsetgroup": "Unknown",
         "orientation": "v",
         "showlegend": true,
         "text": {
          "_inputArray": {
           "0": 12.37240014372471,
           "1": 10.088822713970325,
           "2": 11.505360479984263,
           "3": 14.180024660912455,
           "bdata": "i6VMO6u+KED9Sbcrei0kQFFy3Ju+AidAWi8+MSxcLEA=",
           "dtype": "f8",
           "shape": "4"
          },
          "bdata": "i6VMO6u+KED9Sbcrei0kQFFy3Ju+AidAWi8+MSxcLEA=",
          "dtype": "f8"
         },
         "textfont": {
          "color": "white",
          "size": 12
         },
         "textposition": "outside",
         "texttemplate": "%{text:.2f}%",
         "type": "bar",
         "x": [
          "11-15",
          "16-20",
          "21-30",
          "30+"
         ],
         "xaxis": "x",
         "y": {
          "_inputArray": {
           "0": 12.37240014372471,
           "1": 10.088822713970325,
           "2": 11.505360479984263,
           "3": 14.180024660912455,
           "bdata": "i6VMO6u+KED9Sbcrei0kQFFy3Ju+AidAWi8+MSxcLEA=",
           "dtype": "f8",
           "shape": "4"
          },
          "bdata": "i6VMO6u+KED9Sbcrei0kQFFy3Ju+AidAWi8+MSxcLEA=",
          "dtype": "f8"
         },
         "yaxis": "y"
        },
        {
         "alignmentgroup": "True",
         "hovertemplate": "transmission=automatic<br>age_group=%{x}<br>percentage=%{text}<extra></extra>",
         "legendgroup": "automatic",
         "marker": {
          "color": "#4682B4",
          "pattern": {
           "shape": ""
          }
         },
         "name": "automatic",
         "offsetgroup": "automatic",
         "orientation": "v",
         "showlegend": true,
         "text": {
          "_inputArray": {
           "0": 85.56096813905954,
           "1": 85.73922355305525,
           "2": 82.70507524343465,
           "3": 76.20221948212084,
           "bdata": "9dbo5uZjVUCJM05wT29VQFnx6fMfrVRArZT7KfEMU0A=",
           "dtype": "f8",
           "shape": "4"
          },
          "bdata": "9dbo5uZjVUCJM05wT29VQFnx6fMfrVRArZT7KfEMU0A=",
          "dtype": "f8"
         },
         "textfont": {
          "color": "white",
          "size": 12
         },
         "textposition": "outside",
         "texttemplate": "%{text:.2f}%",
         "type": "bar",
         "x": [
          "11-15",
          "16-20",
          "21-30",
          "30+"
         ],
         "xaxis": "x",
         "y": {
          "_inputArray": {
           "0": 85.56096813905954,
           "1": 85.73922355305525,
           "2": 82.70507524343465,
           "3": 76.20221948212084,
           "bdata": "9dbo5uZjVUCJM05wT29VQFnx6fMfrVRArZT7KfEMU0A=",
           "dtype": "f8",
           "shape": "4"
          },
          "bdata": "9dbo5uZjVUCJM05wT29VQFnx6fMfrVRArZT7KfEMU0A=",
          "dtype": "f8"
         },
         "yaxis": "y"
        },
        {
         "alignmentgroup": "True",
         "hovertemplate": "transmission=manual<br>age_group=%{x}<br>percentage=%{text}<extra></extra>",
         "legendgroup": "manual",
         "marker": {
          "color": "#4682B4",
          "pattern": {
           "shape": ""
          }
         },
         "name": "manual",
         "offsetgroup": "manual",
         "orientation": "v",
         "showlegend": true,
         "text": {
          "_inputArray": {
           "0": 2.0589742532500046,
           "1": 4.171953732974424,
           "2": 5.789564276581096,
           "3": 9.617755856966708,
           "bdata": "Sx5Ifsd4AEB5M66jFLAQQNgFqImDKBdAPyvlfko8I0A=",
           "dtype": "f8",
           "shape": "4"
          },
          "bdata": "Sx5Ifsd4AEB5M66jFLAQQNgFqImDKBdAPyvlfko8I0A=",
          "dtype": "f8"
         },
         "textfont": {
          "color": "white",
          "size": 12
         },
         "textposition": "outside",
         "texttemplate": "%{text:.2f}%",
         "type": "bar",
         "x": [
          "11-15",
          "16-20",
          "21-30",
          "30+"
         ],
         "xaxis": "x",
         "y": {
          "_inputArray": {
           "0": 2.0589742532500046,
           "1": 4.171953732974424,
           "2": 5.789564276581096,
           "3": 9.617755856966708,
           "bdata": "Sx5Ifsd4AEB5M66jFLAQQNgFqImDKBdAPyvlfko8I0A=",
           "dtype": "f8",
           "shape": "4"
          },
          "bdata": "Sx5Ifsd4AEB5M66jFLAQQNgFqImDKBdAPyvlfko8I0A=",
          "dtype": "f8"
         },
         "yaxis": "y"
        },
        {
         "alignmentgroup": "True",
         "hovertemplate": "transmission=sedan<br>age_group=%{x}<br>percentage=%{text}<extra></extra>",
         "legendgroup": "sedan",
         "marker": {
          "color": "#4682B4",
          "pattern": {
           "shape": ""
          }
         },
         "name": "sedan",
         "offsetgroup": "sedan",
         "orientation": "v",
         "showlegend": true,
         "text": {
          "_inputArray": {
           "0": 0.004417767672543279,
           "bdata": "VmPMel0Ycj8=",
           "dtype": "f8",
           "shape": "1"
          },
          "bdata": "VmPMel0Ycj8=",
          "dtype": "f8"
         },
         "textfont": {
          "color": "white",
          "size": 12
         },
         "textposition": "outside",
         "texttemplate": "%{text:.2f}%",
         "type": "bar",
         "x": [
          "11-15"
         ],
         "xaxis": "x",
         "y": {
          "_inputArray": {
           "0": 0.004417767672543279,
           "bdata": "VmPMel0Ycj8=",
           "dtype": "f8",
           "shape": "1"
          },
          "bdata": "VmPMel0Ycj8=",
          "dtype": "f8"
         },
         "yaxis": "y"
        }
       ],
       "layout": {
        "barmode": "group",
        "height": 500,
        "legend": {
         "title": {
          "text": "transmission"
         },
         "tracegroupgap": 0
        },
        "paper_bgcolor": "rgb(0, 0, 0)",
        "plot_bgcolor": "rgb(0, 0, 0)",
        "template": {
         "data": {
          "pie": [
           {
            "automargin": true,
            "type": "pie"
           }
          ],
          "scatter": [
           {
            "line": {
             "width": 3
            },
            "marker": {
             "size": 9
            },
            "type": "scatter"
           }
          ],
          "scatter3d": [
           {
            "line": {
             "width": 3
            },
            "marker": {
             "size": 9
            },
            "type": "scatter3d"
           }
          ],
          "scattergeo": [
           {
            "line": {
             "width": 3
            },
            "marker": {
             "size": 9
            },
            "type": "scattergeo"
           }
          ],
          "scattergl": [
           {
            "line": {
             "width": 3
            },
            "marker": {
             "size": 9
            },
            "type": "scattergl"
           }
          ],
          "scatterpolar": [
           {
            "line": {
             "width": 3
            },
            "marker": {
             "size": 9
            },
            "type": "scatterpolar"
           }
          ],
          "scatterpolargl": [
           {
            "line": {
             "width": 3
            },
            "marker": {
             "size": 9
            },
            "type": "scatterpolargl"
           }
          ],
          "scatterternary": [
           {
            "line": {
             "width": 3
            },
            "marker": {
             "size": 9
            },
            "type": "scatterternary"
           }
          ],
          "table": [
           {
            "cells": {
             "height": 30
            },
            "header": {
             "height": 36
            },
            "type": "table"
           }
          ]
         },
         "layout": {
          "font": {
           "size": 18
          },
          "xaxis": {
           "title": {
            "standoff": 15
           }
          },
          "yaxis": {
           "title": {
            "standoff": 15
           }
          }
         }
        },
        "title": {
         "text": "Transmission Distribution by Car Age Group (%)"
        },
        "width": 900,
        "xaxis": {
         "anchor": "y",
         "autorange": true,
         "domain": [
          0,
          1
         ],
         "range": [
          -0.5,
          3.5
         ],
         "title": {
          "text": "age_group"
         },
         "type": "category"
        },
        "yaxis": {
         "anchor": "x",
         "autorange": true,
         "domain": [
          0,
          1
         ],
         "range": [
          0,
          90.25181426637396
         ],
         "title": {
          "text": "percentage"
         },
         "type": "linear"
        }
       }
      },
      "image/png": "[encoded data removed]"
     },
     "metadata": {},
     "output_type": "display_data"
    }
   ],
   "source": [
    "\n",
    "import plotly.express as px\n",
    "\n",
    "# Plot\n",
    "fig = px.bar(\n",
    "    age_trans_group,\n",
    "    x='age_group',\n",
    "    y='percentage',\n",
    "    color='transmission',\n",
    "    title='Transmission Distribution by Car Age Group (%)',\n",
    "    barmode='group',\n",
    "    height=500,\n",
    "    width=900,\n",
    "    text='percentage',\n",
    "    color_discrete_sequence=['#4682B4']  # Deep blue for bars\n",
    ")\n",
    "\n",
    "# Update trace text\n",
    "fig.update_traces(\n",
    "    texttemplate='%{text:.2f}%',\n",
    "    textposition='outside',\n",
    "    textfont_size=12,\n",
    "    textfont_color='white'  # Optional: white text for contrast\n",
    ")\n",
    "\n",
    "# Layout update with dark blue backgrounds\n",
    "fig.update_layout(\n",
    "    template=\"presentation\",\n",
    "    paper_bgcolor='rgb(0, 0, 139)',  # Deep blue background\n",
    "    plot_bgcolor='rgb(0, 0, 139)'    # Deep blue plot background\n",
    ")\n",
    "fig.update_layout(template='presentation', paper_bgcolor='rgb(0, 0, 0)', plot_bgcolor='rgb(0, 0, 0)')\n",
    "fig.show()\n",
    "\n",
    "\n",
    "# Save in multiple formats\n",
    "fig.write_image(os.path.join(results_dir, 'transmission_distribution_by_car_age_groupbar.jpg'))\n",
    "fig.write_image(os.path.join(results_dir, 'average_depreciation_tate_by_brandbar.png'))\n",
    "fig.write_html(os.path.join(results_dir, 'average_depreciation_tate_by_brandbar.html'))\n",
    "\n"
   ]
  },
  {
   "cell_type": "markdown",
   "id": "c5d9bcb9-fe78-4620-9bf4-815e4e78cc0b",
   "metadata": {},
   "source": [
    "### Monthly trend"
   ]
  },
  {
   "cell_type": "code",
   "execution_count": 117,
   "id": "0920976f-5cb2-4cab-a90e-b2d120456343",
   "metadata": {},
   "outputs": [
    {
     "data": {
      "application/vnd.plotly.v1+json": {
       "config": {
        "plotlyServerURL": "https://plot.ly"
       },
       "data": [
        {
         "hovertemplate": "month=%{x}<br>count=%{y}<extra></extra>",
         "legendgroup": "",
         "line": {
          "color": "#636efa",
          "dash": "solid"
         },
         "marker": {
          "symbol": "circle"
         },
         "mode": "lines+markers",
         "name": "",
         "orientation": "v",
         "showlegend": false,
         "type": "scatter",
         "x": {
          "_inputArray": {
           "0": 1,
           "1": 2,
           "2": 3,
           "3": 4,
           "4": 5,
           "5": 6,
           "6": 7,
           "7": 12,
           "bdata": "AQAAAAIAAAADAAAABAAAAAUAAAAGAAAABwAAAAwAAAA=",
           "dtype": "i4",
           "shape": "8"
          },
          "bdata": "AQAAAAIAAAADAAAABAAAAAUAAAAGAAAABwAAAAwAAAA=",
          "dtype": "i4"
         },
         "xaxis": "x",
         "y": {
          "_inputArray": {
           "0": 140853,
           "1": 163053,
           "2": 46277,
           "3": 1450,
           "4": 52447,
           "5": 99937,
           "6": 1300,
           "7": 53520,
           "bdata": "NSYCAO18AgDFtAAAqgUAAN/MAABhhgEAFAUAABDRAAA=",
           "dtype": "i4",
           "shape": "8"
          },
          "bdata": "NSYCAO18AgDFtAAAqgUAAN/MAABhhgEAFAUAABDRAAA=",
          "dtype": "i4"
         },
         "yaxis": "y"
        }
       ],
       "layout": {
        "autosize": true,
        "legend": {
         "tracegroupgap": 0
        },
        "template": {
         "data": {
          "bar": [
           {
            "error_x": {
             "color": "#2a3f5f"
            },
            "error_y": {
             "color": "#2a3f5f"
            },
            "marker": {
             "line": {
              "color": "#E5ECF6",
              "width": 0.5
             },
             "pattern": {
              "fillmode": "overlay",
              "size": 10,
              "solidity": 0.2
             }
            },
            "type": "bar"
           }
          ],
          "barpolar": [
           {
            "marker": {
             "line": {
              "color": "#E5ECF6",
              "width": 0.5
             },
             "pattern": {
              "fillmode": "overlay",
              "size": 10,
              "solidity": 0.2
             }
            },
            "type": "barpolar"
           }
          ],
          "carpet": [
           {
            "aaxis": {
             "endlinecolor": "#2a3f5f",
             "gridcolor": "white",
             "linecolor": "white",
             "minorgridcolor": "white",
             "startlinecolor": "#2a3f5f"
            },
            "baxis": {
             "endlinecolor": "#2a3f5f",
             "gridcolor": "white",
             "linecolor": "white",
             "minorgridcolor": "white",
             "startlinecolor": "#2a3f5f"
            },
            "type": "carpet"
           }
          ],
          "choropleth": [
           {
            "colorbar": {
             "outlinewidth": 0,
             "ticks": ""
            },
            "type": "choropleth"
           }
          ],
          "contour": [
           {
            "colorbar": {
             "outlinewidth": 0,
             "ticks": ""
            },
            "colorscale": [
             [
              0,
              "#0d0887"
             ],
             [
              0.1111111111111111,
              "#46039f"
             ],
             [
              0.2222222222222222,
              "#7201a8"
             ],
             [
              0.3333333333333333,
              "#9c179e"
             ],
             [
              0.4444444444444444,
              "#bd3786"
             ],
             [
              0.5555555555555556,
              "#d8576b"
             ],
             [
              0.6666666666666666,
              "#ed7953"
             ],
             [
              0.7777777777777778,
              "#fb9f3a"
             ],
             [
              0.8888888888888888,
              "#fdca26"
             ],
             [
              1,
              "#f0f921"
             ]
            ],
            "type": "contour"
           }
          ],
          "contourcarpet": [
           {
            "colorbar": {
             "outlinewidth": 0,
             "ticks": ""
            },
            "type": "contourcarpet"
           }
          ],
          "heatmap": [
           {
            "colorbar": {
             "outlinewidth": 0,
             "ticks": ""
            },
            "colorscale": [
             [
              0,
              "#0d0887"
             ],
             [
              0.1111111111111111,
              "#46039f"
             ],
             [
              0.2222222222222222,
              "#7201a8"
             ],
             [
              0.3333333333333333,
              "#9c179e"
             ],
             [
              0.4444444444444444,
              "#bd3786"
             ],
             [
              0.5555555555555556,
              "#d8576b"
             ],
             [
              0.6666666666666666,
              "#ed7953"
             ],
             [
              0.7777777777777778,
              "#fb9f3a"
             ],
             [
              0.8888888888888888,
              "#fdca26"
             ],
             [
              1,
              "#f0f921"
             ]
            ],
            "type": "heatmap"
           }
          ],
          "histogram": [
           {
            "marker": {
             "pattern": {
              "fillmode": "overlay",
              "size": 10,
              "solidity": 0.2
             }
            },
            "type": "histogram"
           }
          ],
          "histogram2d": [
           {
            "colorbar": {
             "outlinewidth": 0,
             "ticks": ""
            },
            "colorscale": [
             [
              0,
              "#0d0887"
             ],
             [
              0.1111111111111111,
              "#46039f"
             ],
             [
              0.2222222222222222,
              "#7201a8"
             ],
             [
              0.3333333333333333,
              "#9c179e"
             ],
             [
              0.4444444444444444,
              "#bd3786"
             ],
             [
              0.5555555555555556,
              "#d8576b"
             ],
             [
              0.6666666666666666,
              "#ed7953"
             ],
             [
              0.7777777777777778,
              "#fb9f3a"
             ],
             [
              0.8888888888888888,
              "#fdca26"
             ],
             [
              1,
              "#f0f921"
             ]
            ],
            "type": "histogram2d"
           }
          ],
          "histogram2dcontour": [
           {
            "colorbar": {
             "outlinewidth": 0,
             "ticks": ""
            },
            "colorscale": [
             [
              0,
              "#0d0887"
             ],
             [
              0.1111111111111111,
              "#46039f"
             ],
             [
              0.2222222222222222,
              "#7201a8"
             ],
             [
              0.3333333333333333,
              "#9c179e"
             ],
             [
              0.4444444444444444,
              "#bd3786"
             ],
             [
              0.5555555555555556,
              "#d8576b"
             ],
             [
              0.6666666666666666,
              "#ed7953"
             ],
             [
              0.7777777777777778,
              "#fb9f3a"
             ],
             [
              0.8888888888888888,
              "#fdca26"
             ],
             [
              1,
              "#f0f921"
             ]
            ],
            "type": "histogram2dcontour"
           }
          ],
          "mesh3d": [
           {
            "colorbar": {
             "outlinewidth": 0,
             "ticks": ""
            },
            "type": "mesh3d"
           }
          ],
          "parcoords": [
           {
            "line": {
             "colorbar": {
              "outlinewidth": 0,
              "ticks": ""
             }
            },
            "type": "parcoords"
           }
          ],
          "pie": [
           {
            "automargin": true,
            "type": "pie"
           }
          ],
          "scatter": [
           {
            "fillpattern": {
             "fillmode": "overlay",
             "size": 10,
             "solidity": 0.2
            },
            "type": "scatter"
           }
          ],
          "scatter3d": [
           {
            "line": {
             "colorbar": {
              "outlinewidth": 0,
              "ticks": ""
             }
            },
            "marker": {
             "colorbar": {
              "outlinewidth": 0,
              "ticks": ""
             }
            },
            "type": "scatter3d"
           }
          ],
          "scattercarpet": [
           {
            "marker": {
             "colorbar": {
              "outlinewidth": 0,
              "ticks": ""
             }
            },
            "type": "scattercarpet"
           }
          ],
          "scattergeo": [
           {
            "marker": {
             "colorbar": {
              "outlinewidth": 0,
              "ticks": ""
             }
            },
            "type": "scattergeo"
           }
          ],
          "scattergl": [
           {
            "marker": {
             "colorbar": {
              "outlinewidth": 0,
              "ticks": ""
             }
            },
            "type": "scattergl"
           }
          ],
          "scattermap": [
           {
            "marker": {
             "colorbar": {
              "outlinewidth": 0,
              "ticks": ""
             }
            },
            "type": "scattermap"
           }
          ],
          "scattermapbox": [
           {
            "marker": {
             "colorbar": {
              "outlinewidth": 0,
              "ticks": ""
             }
            },
            "type": "scattermapbox"
           }
          ],
          "scatterpolar": [
           {
            "marker": {
             "colorbar": {
              "outlinewidth": 0,
              "ticks": ""
             }
            },
            "type": "scatterpolar"
           }
          ],
          "scatterpolargl": [
           {
            "marker": {
             "colorbar": {
              "outlinewidth": 0,
              "ticks": ""
             }
            },
            "type": "scatterpolargl"
           }
          ],
          "scatterternary": [
           {
            "marker": {
             "colorbar": {
              "outlinewidth": 0,
              "ticks": ""
             }
            },
            "type": "scatterternary"
           }
          ],
          "surface": [
           {
            "colorbar": {
             "outlinewidth": 0,
             "ticks": ""
            },
            "colorscale": [
             [
              0,
              "#0d0887"
             ],
             [
              0.1111111111111111,
              "#46039f"
             ],
             [
              0.2222222222222222,
              "#7201a8"
             ],
             [
              0.3333333333333333,
              "#9c179e"
             ],
             [
              0.4444444444444444,
              "#bd3786"
             ],
             [
              0.5555555555555556,
              "#d8576b"
             ],
             [
              0.6666666666666666,
              "#ed7953"
             ],
             [
              0.7777777777777778,
              "#fb9f3a"
             ],
             [
              0.8888888888888888,
              "#fdca26"
             ],
             [
              1,
              "#f0f921"
             ]
            ],
            "type": "surface"
           }
          ],
          "table": [
           {
            "cells": {
             "fill": {
              "color": "#EBF0F8"
             },
             "line": {
              "color": "white"
             }
            },
            "header": {
             "fill": {
              "color": "#C8D4E3"
             },
             "line": {
              "color": "white"
             }
            },
            "type": "table"
           }
          ]
         },
         "layout": {
          "annotationdefaults": {
           "arrowcolor": "#2a3f5f",
           "arrowhead": 0,
           "arrowwidth": 1
          },
          "autotypenumbers": "strict",
          "coloraxis": {
           "colorbar": {
            "outlinewidth": 0,
            "ticks": ""
           }
          },
          "colorscale": {
           "diverging": [
            [
             0,
             "#8e0152"
            ],
            [
             0.1,
             "#c51b7d"
            ],
            [
             0.2,
             "#de77ae"
            ],
            [
             0.3,
             "#f1b6da"
            ],
            [
             0.4,
             "#fde0ef"
            ],
            [
             0.5,
             "#f7f7f7"
            ],
            [
             0.6,
             "#e6f5d0"
            ],
            [
             0.7,
             "#b8e186"
            ],
            [
             0.8,
             "#7fbc41"
            ],
            [
             0.9,
             "#4d9221"
            ],
            [
             1,
             "#276419"
            ]
           ],
           "sequential": [
            [
             0,
             "#0d0887"
            ],
            [
             0.1111111111111111,
             "#46039f"
            ],
            [
             0.2222222222222222,
             "#7201a8"
            ],
            [
             0.3333333333333333,
             "#9c179e"
            ],
            [
             0.4444444444444444,
             "#bd3786"
            ],
            [
             0.5555555555555556,
             "#d8576b"
            ],
            [
             0.6666666666666666,
             "#ed7953"
            ],
            [
             0.7777777777777778,
             "#fb9f3a"
            ],
            [
             0.8888888888888888,
             "#fdca26"
            ],
            [
             1,
             "#f0f921"
            ]
           ],
           "sequentialminus": [
            [
             0,
             "#0d0887"
            ],
            [
             0.1111111111111111,
             "#46039f"
            ],
            [
             0.2222222222222222,
             "#7201a8"
            ],
            [
             0.3333333333333333,
             "#9c179e"
            ],
            [
             0.4444444444444444,
             "#bd3786"
            ],
            [
             0.5555555555555556,
             "#d8576b"
            ],
            [
             0.6666666666666666,
             "#ed7953"
            ],
            [
             0.7777777777777778,
             "#fb9f3a"
            ],
            [
             0.8888888888888888,
             "#fdca26"
            ],
            [
             1,
             "#f0f921"
            ]
           ]
          },
          "colorway": [
           "#636efa",
           "#EF553B",
           "#00cc96",
           "#ab63fa",
           "#FFA15A",
           "#19d3f3",
           "#FF6692",
           "#B6E880",
           "#FF97FF",
           "#FECB52"
          ],
          "font": {
           "color": "#2a3f5f"
          },
          "geo": {
           "bgcolor": "white",
           "lakecolor": "white",
           "landcolor": "#E5ECF6",
           "showlakes": true,
           "showland": true,
           "subunitcolor": "white"
          },
          "hoverlabel": {
           "align": "left"
          },
          "hovermode": "closest",
          "mapbox": {
           "style": "light"
          },
          "paper_bgcolor": "white",
          "plot_bgcolor": "#E5ECF6",
          "polar": {
           "angularaxis": {
            "gridcolor": "white",
            "linecolor": "white",
            "ticks": ""
           },
           "bgcolor": "#E5ECF6",
           "radialaxis": {
            "gridcolor": "white",
            "linecolor": "white",
            "ticks": ""
           }
          },
          "scene": {
           "xaxis": {
            "backgroundcolor": "#E5ECF6",
            "gridcolor": "white",
            "gridwidth": 2,
            "linecolor": "white",
            "showbackground": true,
            "ticks": "",
            "zerolinecolor": "white"
           },
           "yaxis": {
            "backgroundcolor": "#E5ECF6",
            "gridcolor": "white",
            "gridwidth": 2,
            "linecolor": "white",
            "showbackground": true,
            "ticks": "",
            "zerolinecolor": "white"
           },
           "zaxis": {
            "backgroundcolor": "#E5ECF6",
            "gridcolor": "white",
            "gridwidth": 2,
            "linecolor": "white",
            "showbackground": true,
            "ticks": "",
            "zerolinecolor": "white"
           }
          },
          "shapedefaults": {
           "line": {
            "color": "#2a3f5f"
           }
          },
          "ternary": {
           "aaxis": {
            "gridcolor": "white",
            "linecolor": "white",
            "ticks": ""
           },
           "baxis": {
            "gridcolor": "white",
            "linecolor": "white",
            "ticks": ""
           },
           "bgcolor": "#E5ECF6",
           "caxis": {
            "gridcolor": "white",
            "linecolor": "white",
            "ticks": ""
           }
          },
          "title": {
           "x": 0.05
          },
          "xaxis": {
           "automargin": true,
           "gridcolor": "white",
           "linecolor": "white",
           "ticks": "",
           "title": {
            "standoff": 15
           },
           "zerolinecolor": "white",
           "zerolinewidth": 2
          },
          "yaxis": {
           "automargin": true,
           "gridcolor": "white",
           "linecolor": "white",
           "ticks": "",
           "title": {
            "standoff": 15
           },
           "zerolinecolor": "white",
           "zerolinewidth": 2
          }
         }
        },
        "title": {
         "text": "Monthly Car Sales Trend"
        },
        "xaxis": {
         "anchor": "y",
         "autorange": true,
         "domain": [
          0,
          1
         ],
         "range": [
          0.3352638352638352,
          12.664736164736166
         ],
         "title": {
          "text": "Month"
         },
         "type": "linear"
        },
        "yaxis": {
         "anchor": "x",
         "autorange": true,
         "domain": [
          0,
          1
         ],
         "range": [
          -12048.54854368932,
          176401.5485436893
         ],
         "title": {
          "text": "Sales Volume"
         },
         "type": "linear"
        }
       }
      },
      "image/png": "[encoded data removed]"
     },
     "metadata": {},
     "output_type": "display_data"
    },
    {
     "data": {
      "application/vnd.plotly.v1+json": {
       "config": {
        "plotlyServerURL": "https://plot.ly"
       },
       "data": [
        {
         "hovertemplate": "month=%{x}<br>count=%{y}<extra></extra>",
         "legendgroup": "",
         "line": {
          "color": "#636efa",
          "dash": "solid"
         },
         "marker": {
          "symbol": "circle"
         },
         "mode": "lines+markers",
         "name": "",
         "orientation": "v",
         "showlegend": false,
         "type": "scatter",
         "x": {
          "_inputArray": {
           "0": 1,
           "1": 2,
           "2": 3,
           "3": 4,
           "4": 5,
           "5": 6,
           "6": 7,
           "7": 12,
           "bdata": "AQAAAAIAAAADAAAABAAAAAUAAAAGAAAABwAAAAwAAAA=",
           "dtype": "i4",
           "shape": "8"
          },
          "bdata": "AQAAAAIAAAADAAAABAAAAAUAAAAGAAAABwAAAAwAAAA=",
          "dtype": "i4"
         },
         "xaxis": "x",
         "y": {
          "_inputArray": {
           "0": 140853,
           "1": 163053,
           "2": 46277,
           "3": 1450,
           "4": 52447,
           "5": 99937,
           "6": 1300,
           "7": 53520,
           "bdata": "NSYCAO18AgDFtAAAqgUAAN/MAABhhgEAFAUAABDRAAA=",
           "dtype": "i4",
           "shape": "8"
          },
          "bdata": "NSYCAO18AgDFtAAAqgUAAN/MAABhhgEAFAUAABDRAAA=",
          "dtype": "i4"
         },
         "yaxis": "y"
        }
       ],
       "layout": {
        "autosize": true,
        "legend": {
         "tracegroupgap": 0
        },
        "paper_bgcolor": "rgb(0, 0, 0)",
        "plot_bgcolor": "rgb(0, 0, 0)",
        "template": {
         "data": {
          "pie": [
           {
            "automargin": true,
            "type": "pie"
           }
          ],
          "scatter": [
           {
            "line": {
             "width": 3
            },
            "marker": {
             "size": 9
            },
            "type": "scatter"
           }
          ],
          "scatter3d": [
           {
            "line": {
             "width": 3
            },
            "marker": {
             "size": 9
            },
            "type": "scatter3d"
           }
          ],
          "scattergeo": [
           {
            "line": {
             "width": 3
            },
            "marker": {
             "size": 9
            },
            "type": "scattergeo"
           }
          ],
          "scattergl": [
           {
            "line": {
             "width": 3
            },
            "marker": {
             "size": 9
            },
            "type": "scattergl"
           }
          ],
          "scatterpolar": [
           {
            "line": {
             "width": 3
            },
            "marker": {
             "size": 9
            },
            "type": "scatterpolar"
           }
          ],
          "scatterpolargl": [
           {
            "line": {
             "width": 3
            },
            "marker": {
             "size": 9
            },
            "type": "scatterpolargl"
           }
          ],
          "scatterternary": [
           {
            "line": {
             "width": 3
            },
            "marker": {
             "size": 9
            },
            "type": "scatterternary"
           }
          ],
          "table": [
           {
            "cells": {
             "height": 30
            },
            "header": {
             "height": 36
            },
            "type": "table"
           }
          ]
         },
         "layout": {
          "font": {
           "size": 18
          },
          "xaxis": {
           "title": {
            "standoff": 15
           }
          },
          "yaxis": {
           "title": {
            "standoff": 15
           }
          }
         }
        },
        "title": {
         "text": "Monthly Car Sales Trend"
        },
        "xaxis": {
         "anchor": "y",
         "autorange": true,
         "domain": [
          0,
          1
         ],
         "range": [
          0.3080968329514072,
          12.691903167048594
         ],
         "title": {
          "text": "Month"
         },
         "type": "linear"
        },
        "yaxis": {
         "anchor": "x",
         "autorange": true,
         "domain": [
          0,
          1
         ],
         "range": [
          -14392.455223880597,
          178745.4552238806
         ],
         "title": {
          "text": "Sales Volume"
         },
         "type": "linear"
        }
       }
      },
      "image/png": "[encoded data removed]"
     },
     "metadata": {},
     "output_type": "display_data"
    }
   ],
   "source": [
    "month_sales = car_sales_df['sale_month'].value_counts().sort_index().reset_index()\n",
    "month_sales.columns = ['month', 'count']\n",
    "\n",
    "fig = px.line(month_sales,\n",
    "              x='month', y='count',\n",
    "              title='Monthly Car Sales Trend',\n",
    "              markers=True)\n",
    "\n",
    "fig.update_layout(xaxis_title='Month', yaxis_title='Sales Volume')\n",
    "fig.show()\n",
    "fig.update_layout(template='presentation', paper_bgcolor='rgb(0, 0, 0)', plot_bgcolor='rgb(0, 0, 0)')\n",
    "fig.show()\n",
    "\n",
    "# Save in multiple formats\n",
    "fig.write_image(os.path.join(results_dir, 'monthly_car_sales_trendline.jpg'))\n",
    "fig.write_image(os.path.join(results_dir, 'monthly_car_sales_trendline.png'))\n",
    "fig.write_html(os.path.join(results_dir, 'monthly_car_sales_trendline.html'))\n",
    "\n"
   ]
  },
  {
   "cell_type": "markdown",
   "id": "361b59a8-9dd8-4389-b4c3-bca87d044a41",
   "metadata": {},
   "source": [
    "### Transmission by selling_price"
   ]
  },
  {
   "cell_type": "code",
   "execution_count": 140,
   "id": "afd268ec-03e8-4557-9547-16634e45044f",
   "metadata": {},
   "outputs": [
    {
     "data": {
      "text/html": [
       "<div>\n",
       "<style scoped>\n",
       "    .dataframe tbody tr th:only-of-type {\n",
       "        vertical-align: middle;\n",
       "    }\n",
       "\n",
       "    .dataframe tbody tr th {\n",
       "        vertical-align: top;\n",
       "    }\n",
       "\n",
       "    .dataframe thead th {\n",
       "        text-align: right;\n",
       "    }\n",
       "</style>\n",
       "<table border=\"1\" class=\"dataframe\">\n",
       "  <thead>\n",
       "    <tr style=\"text-align: right;\">\n",
       "      <th></th>\n",
       "      <th>transmission</th>\n",
       "      <th>total</th>\n",
       "    </tr>\n",
       "  </thead>\n",
       "  <tbody>\n",
       "    <tr>\n",
       "      <th>0</th>\n",
       "      <td>Sedan</td>\n",
       "      <td>11</td>\n",
       "    </tr>\n",
       "    <tr>\n",
       "      <th>1</th>\n",
       "      <td>Unknown</td>\n",
       "      <td>65352</td>\n",
       "    </tr>\n",
       "    <tr>\n",
       "      <th>2</th>\n",
       "      <td>automatic</td>\n",
       "      <td>475915</td>\n",
       "    </tr>\n",
       "    <tr>\n",
       "      <th>3</th>\n",
       "      <td>manual</td>\n",
       "      <td>17544</td>\n",
       "    </tr>\n",
       "    <tr>\n",
       "      <th>4</th>\n",
       "      <td>sedan</td>\n",
       "      <td>15</td>\n",
       "    </tr>\n",
       "  </tbody>\n",
       "</table>\n",
       "</div>"
      ],
      "text/plain": [
       "  transmission   total\n",
       "0        Sedan      11\n",
       "1      Unknown   65352\n",
       "2    automatic  475915\n",
       "3       manual   17544\n",
       "4        sedan      15"
      ]
     },
     "execution_count": 140,
     "metadata": {},
     "output_type": "execute_result"
    }
   ],
   "source": [
    "# Group by transmission and count total cars sold\n",
    "transmission_distribution = car_sales_df.groupby('transmission').size().reset_index(name='total')\n",
    "transmission_distribution"
   ]
  },
  {
   "cell_type": "code",
   "execution_count": 230,
   "id": "fb91b97e-32ac-4f00-9e19-ec9e1bf49fd1",
   "metadata": {},
   "outputs": [
    {
     "data": {
      "application/vnd.plotly.v1+json": {
       "config": {
        "plotlyServerURL": "https://plot.ly"
       },
       "data": [
        {
         "domain": {
          "x": [
           0,
           1
          ],
          "y": [
           0,
           1
          ]
         },
         "hole": 0.3,
         "hovertemplate": "transmission=%{label}<br>total=%{value}<extra></extra>",
         "labels": [
          "Sedan",
          "Unknown",
          "automatic",
          "manual",
          "sedan"
         ],
         "legendgroup": "",
         "name": "",
         "showlegend": true,
         "textinfo": "percent+label",
         "textposition": "inside",
         "type": "pie",
         "values": {
          "_inputArray": {
           "0": 11,
           "1": 65352,
           "2": 475915,
           "3": 17544,
           "4": 15,
           "bdata": "CwAAAEj/AAALQwcAiEQAAA8AAAA=",
           "dtype": "i4",
           "shape": "5"
          },
          "bdata": "CwAAAEj/AAALQwcAiEQAAA8AAAA=",
          "dtype": "i4"
         }
        }
       ],
       "layout": {
        "autosize": true,
        "legend": {
         "tracegroupgap": 0
        },
        "paper_bgcolor": "rgb(0, 0, 0)",
        "piecolorway": [
         "rgb(173, 216, 230)"
        ],
        "plot_bgcolor": "rgb(0, 0, 0)",
        "template": {
         "data": {
          "pie": [
           {
            "automargin": true,
            "type": "pie"
           }
          ],
          "scatter": [
           {
            "line": {
             "width": 3
            },
            "marker": {
             "size": 9
            },
            "type": "scatter"
           }
          ],
          "scatter3d": [
           {
            "line": {
             "width": 3
            },
            "marker": {
             "size": 9
            },
            "type": "scatter3d"
           }
          ],
          "scattergeo": [
           {
            "line": {
             "width": 3
            },
            "marker": {
             "size": 9
            },
            "type": "scattergeo"
           }
          ],
          "scattergl": [
           {
            "line": {
             "width": 3
            },
            "marker": {
             "size": 9
            },
            "type": "scattergl"
           }
          ],
          "scatterpolar": [
           {
            "line": {
             "width": 3
            },
            "marker": {
             "size": 9
            },
            "type": "scatterpolar"
           }
          ],
          "scatterpolargl": [
           {
            "line": {
             "width": 3
            },
            "marker": {
             "size": 9
            },
            "type": "scatterpolargl"
           }
          ],
          "scatterternary": [
           {
            "line": {
             "width": 3
            },
            "marker": {
             "size": 9
            },
            "type": "scatterternary"
           }
          ],
          "table": [
           {
            "cells": {
             "height": 30
            },
            "header": {
             "height": 36
            },
            "type": "table"
           }
          ]
         },
         "layout": {
          "font": {
           "size": 18
          },
          "xaxis": {
           "title": {
            "standoff": 15
           }
          },
          "yaxis": {
           "title": {
            "standoff": 15
           }
          }
         }
        },
        "title": {
         "text": "Car Sales Distribution by Transmission Type"
        }
       }
      },
      "image/png": "[encoded data removed]"
     },
     "metadata": {},
     "output_type": "display_data"
    }
   ],
   "source": [
    "import plotly.express as px\n",
    "import os\n",
    "\n",
    "# Create pie chart\n",
    "fig = px.pie(\n",
    "    transmission_distribution,\n",
    "    names='transmission',\n",
    "    values='total',\n",
    "    title='Car Sales Distribution by Transmission Type',\n",
    "    color_discrete_sequence=['rgb(173, 216, 230)'],  # Light Blue\n",
    "    hole=0.3  # Optional: makes it a donut chart\n",
    ")\n",
    "\n",
    "# Update layout and trace styling\n",
    "fig.update_layout(\n",
    "    template=\"presentation\",\n",
    "    paper_bgcolor=\"rgba(0,0,0,0)\",\n",
    "    plot_bgcolor=\"rgba(0,0,0,0)\"\n",
    ")\n",
    "fig.update_traces(textposition='inside', textinfo='percent+label')\n",
    "\n",
    "# Display the figure\n",
    "fig.update_layout(template='presentation', paper_bgcolor='rgb(0, 0, 0)', plot_bgcolor='rgb(0, 0, 0)')\n",
    "fig.show()\n",
    "\n",
    "# Save the figure\n",
    "fig.write_image(os.path.join(results_dir, 'car_sales_distribution_by_transmission_pie_chart.jpg'))\n",
    "fig.write_image(os.path.join(results_dir, 'car_sales_distribution_by_transmission_pie_chart.png'))\n",
    "fig.write_html(os.path.join(results_dir, 'car_sales_distribution_by_transmission_pie_chart.html'))\n",
    "\n"
   ]
  }
 ],
 "metadata": {
  "kernelspec": {
   "display_name": "Python [conda env:base] *",
   "language": "python",
   "name": "conda-base-py"
  },
  "language_info": {
   "codemirror_mode": {
    "name": "ipython",
    "version": 3
   },
   "file_extension": ".py",
   "mimetype": "text/x-python",
   "name": "python",
   "nbconvert_exporter": "python",
   "pygments_lexer": "ipython3",
   "version": "3.12.7"
  }
 },
 "nbformat": 4,
 "nbformat_minor": 5
}
